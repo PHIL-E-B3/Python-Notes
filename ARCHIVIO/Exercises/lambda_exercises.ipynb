{
  "nbformat": 4,
  "nbformat_minor": 0,
  "metadata": {
    "colab": {
      "provenance": []
    },
    "kernelspec": {
      "name": "python3",
      "display_name": "Python 3"
    },
    "language_info": {
      "name": "python"
    }
  },
  "cells": [
    {
      "cell_type": "code",
      "execution_count": null,
      "metadata": {
        "id": "naNBhJyyrFF4"
      },
      "outputs": [],
      "source": [
        "function1 = lambda x: x + 15\n",
        "function2 = lambda x,y : x*y\n",
        "\n",
        "print(function1(10))\n",
        "print(function2(12,4))"
      ]
    },
    {
      "cell_type": "code",
      "source": [
        "import random\n",
        "r = lambda x: x*random.randint(1,10000)\n",
        "\n",
        "print(r(10))"
      ],
      "metadata": {
        "id": "QU8x4Xmr9GDm"
      },
      "execution_count": null,
      "outputs": []
    },
    {
      "cell_type": "code",
      "source": [
        "\n",
        "\n",
        "def my_map(my_func,my_iter):\n",
        "  result = []\n",
        "  for item in my_iter:\n",
        "    new_item = my_func(item)\n",
        "    result.append(new_item)\n",
        "  return result\n",
        "\n",
        "nums = [3,4,5,6,7]\n",
        "\n",
        "cubed = my_map(lambda x: x**3, nums)\n",
        "\n",
        "print(cubed)\n"
      ],
      "metadata": {
        "id": "ICKII67C-BwH"
      },
      "execution_count": null,
      "outputs": []
    },
    {
      "cell_type": "code",
      "source": [
        "list1 = [('English', 88), ('Science', 90), ('Maths', 97), ('Social sciences', 82)]\n",
        "\n"
      ],
      "metadata": {
        "id": "WypPJxIiYTah"
      },
      "execution_count": null,
      "outputs": []
    },
    {
      "cell_type": "code",
      "source": [
        "dict1 = [{'make': 'Nokia', 'model': 216, 'color': 'Black'}, {'make': 'Mi Max', 'model': '2', 'color': 'Gold'}, {'make': 'Samsung', 'model': 7, 'color': 'Blue'}]\n",
        "\n",
        "dict1.sort(key = lambda x: dict"
      ],
      "metadata": {
        "id": "AC6afjo7YrIv"
      },
      "execution_count": null,
      "outputs": []
    },
    {
      "cell_type": "code",
      "source": [
        "nums = [1, 2, 3, 4, 5, 6, 7, 8, 9, 10]\n",
        "\n",
        "even_nums = list(filter(lambda x: x%2 == 0, nums))\n",
        "odd_nums = list(filter(lambda x: x%2 != 0, nums))\n",
        "\n",
        "print(even_nums)\n",
        "print(odd_nums)"
      ],
      "metadata": {
        "id": "KTUuMCK9Zh10"
      },
      "execution_count": null,
      "outputs": []
    },
    {
      "cell_type": "code",
      "source": [
        "list1 = [1, 2, 3, 4, 5, 6, 7, 8, 9, 10]\n",
        "\n",
        "def squared():\n",
        "  list2 = []\n",
        "  for i in list2:\n",
        "    new_item = list(map(lambda x: x**2))\n",
        "    list2.append(new_item)\n",
        "\n",
        "  return list2\n",
        "\n",
        "\n",
        "\n"
      ],
      "metadata": {
        "id": "a-hiI8hLkLgP"
      },
      "execution_count": null,
      "outputs": []
    },
    {
      "cell_type": "code",
      "source": [
        "given_char = 'apples'\n",
        "\n",
        "inside = lambda x: True if 'a' in given_char else False\n",
        "\n",
        "print(inside)\n"
      ],
      "metadata": {
        "colab": {
          "base_uri": "https://localhost:8080/"
        },
        "id": "PRKB1I40oEX3",
        "outputId": "0e5c1afb-b7b2-482e-abca-efb4b0ca61fd"
      },
      "execution_count": null,
      "outputs": [
        {
          "output_type": "stream",
          "name": "stdout",
          "text": [
            "<function <lambda> at 0x7d39c32f6170>\n"
          ]
        }
      ]
    }
  ]
}
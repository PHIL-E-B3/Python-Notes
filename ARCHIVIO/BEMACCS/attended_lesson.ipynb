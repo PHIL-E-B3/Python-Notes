{
 "cells": [
  {
   "cell_type": "markdown",
   "metadata": {},
   "source": [
    "### Lesson - in class"
   ]
  },
  {
   "cell_type": "markdown",
   "metadata": {},
   "source": [
    "Dynamic programming approach\n",
    "\n",
    "Optimal left-to-right path.\n",
    "\n",
    "Recursive (Top-down) approach\n",
    "- memoize the partial costs and the partial best solutions\n",
    "- compose the partial solutoons in the recursive step\n",
    "\n",
    "Bottom-up approach:\n",
    "- Forward pass: compute partial costs + the decision made to achieve it\n",
    "- Backward pass: backtrack the best configuration\n",
    "\n",
    "\n",
    "\n"
   ]
  },
  {
   "cell_type": "code",
   "execution_count": null,
   "metadata": {},
   "outputs": [],
   "source": []
  }
 ],
 "metadata": {
  "language_info": {
   "name": "python"
  },
  "orig_nbformat": 4
 },
 "nbformat": 4,
 "nbformat_minor": 2
}

{
 "cells": [
  {
   "cell_type": "markdown",
   "metadata": {},
   "source": [
    "### Intro To Python\n"
   ]
  },
  {
   "cell_type": "code",
   "execution_count": 1,
   "metadata": {},
   "outputs": [],
   "source": [
    "# Assigns the string of characters Derek to the variable named my_name\n",
    "my_name = \"Phil\""
   ]
  },
  {
   "cell_type": "code",
   "execution_count": 2,
   "metadata": {},
   "outputs": [
    {
     "name": "stdout",
     "output_type": "stream",
     "text": [
      "Hello Phil\n"
     ]
    }
   ],
   "source": [
    "# Outputs Hello Derek to the screen\n",
    "print(\"Hello\", my_name)"
   ]
  },
  {
   "cell_type": "code",
   "execution_count": 4,
   "metadata": {},
   "outputs": [
    {
     "name": "stdout",
     "output_type": "stream",
     "text": [
      "\"We never really grow up, we only learn how to act in public\" - Bryan White\n"
     ]
    }
   ],
   "source": [
    "# You can use \\\" when you want to use double quotes between double quotes\n",
    "# \\\" is known as an escape sequence\n",
    "print(\"\\\"We never really grow up, we only learn how to act in public\\\" - Bryan White\")\n"
   ]
  },
  {
   "cell_type": "code",
   "execution_count": null,
   "metadata": {},
   "outputs": [],
   "source": [
    "'''\n",
    "Other Escape Sequences\n",
    "\n",
    "Newline : \\n\n",
    "Backslash : \\\\\n",
    "Single Quote : \\’\n",
    "Backspace : \\b\n",
    "Tab : \\t\n",
    "\n",
    "There is no maximum value for an integer, as long as you have enough memory. You can however get a practical maximum size with this : \n",
    "'''"
   ]
  },
  {
   "cell_type": "code",
   "execution_count": 5,
   "metadata": {},
   "outputs": [
    {
     "name": "stdout",
     "output_type": "stream",
     "text": [
      "9223372036854775807\n",
      "1.7976931348623157e+308\n"
     ]
    }
   ],
   "source": [
    "import sys\n",
    "print(sys.maxsize)\n",
    "\n",
    "# You can get the maximum size for a float like this\n",
    "\n",
    "import sys\n",
    "print(sys.float_info.max)"
   ]
  },
  {
   "cell_type": "code",
   "execution_count": 6,
   "metadata": {},
   "outputs": [
    {
     "name": "stdout",
     "output_type": "stream",
     "text": [
      "2.2222222222222223\n"
     ]
    }
   ],
   "source": [
    "# Floats have 15 digits of precession\n",
    "f1 = 1.1111111111111111\n",
    "f2 = 1.1111111111111111\n",
    "f3 = f1 + f2\n",
    "print(f3)"
   ]
  },
  {
   "cell_type": "code",
   "execution_count": 8,
   "metadata": {},
   "outputs": [],
   "source": [
    "# This is a complex number\n",
    "Cn1 = 5 + 6j"
   ]
  },
  {
   "cell_type": "code",
   "execution_count": 9,
   "metadata": {},
   "outputs": [],
   "source": [
    "# A boolean data type can have either a value of True or False\n",
    "can_vote = True\n",
    "\n",
    "# Python is dynamically typed. What that means is a variables data type is determined by the value you assign to it\n",
    "my_age = 43\n",
    "my_age = \"Dog\""
   ]
  },
  {
   "cell_type": "code",
   "execution_count": 10,
   "metadata": {},
   "outputs": [
    {
     "name": "stdout",
     "output_type": "stream",
     "text": [
      "Cast  <class 'int'>\n",
      "Cast 2  <class 'str'>\n",
      "Cast 3  <class 'str'>\n",
      "Cast 4  <class 'int'>\n",
      "Cast 5  <class 'float'>\n"
     ]
    }
   ],
   "source": [
    "# Casting allows you to convert from one type to another\n",
    "# float to int\n",
    "print(\"Cast \", type(int(5.4)))\n",
    "# float to string\n",
    "print(\"Cast 2 \", type(str(5.4)))\n",
    "# unicode character to string\n",
    "print(\"Cast 3 \", type(chr(97)))\n",
    "# character to unicode\n",
    "print(\"Cast 4 \", type(ord('a')))\n",
    "# integer to float\n",
    "print(\"Cast 5 \", type(float(2)))"
   ]
  },
  {
   "cell_type": "code",
   "execution_count": 11,
   "metadata": {},
   "outputs": [
    {
     "data": {
      "text/plain": [
       "'\\nI’m a multi-line comment\\n'"
      ]
     },
     "execution_count": 11,
     "metadata": {},
     "output_type": "execute_result"
    }
   ],
   "source": [
    "# This is a comment. Anything after # is ignored\n",
    "# Write notes about how your code works here\n",
    "\n",
    "'''\n",
    "I’m a multi-line comment\n",
    "'''\n"
   ]
  },
  {
   "cell_type": "code",
   "execution_count": 12,
   "metadata": {},
   "outputs": [],
   "source": [
    "# Variable names are case sensitive. For example Age is not the same as age.\n",
    "Age = 2\n",
    "Age = 3"
   ]
  },
  {
   "cell_type": "code",
   "execution_count": 13,
   "metadata": {},
   "outputs": [
    {
     "name": "stdout",
     "output_type": "stream",
     "text": [
      "1 + 2 = 3\n"
     ]
    }
   ],
   "source": [
    "# Make sure you are casting to the correct data type when working with variables\n",
    "# Make sure that you surround calculations with parentheses when they produce a single value\n",
    "num_1 = \"1\"\n",
    "num_2 = \"2\"\n",
    "print(\"1 + 2 =\", (int(num_1) + int(num_2)))\n"
   ]
  }
 ],
 "metadata": {
  "kernelspec": {
   "display_name": "Python 3.11.5 ('ON': venv)",
   "language": "python",
   "name": "python3"
  },
  "language_info": {
   "codemirror_mode": {
    "name": "ipython",
    "version": 3
   },
   "file_extension": ".py",
   "mimetype": "text/x-python",
   "name": "python",
   "nbconvert_exporter": "python",
   "pygments_lexer": "ipython3",
   "version": "3.11.5"
  },
  "orig_nbformat": 4,
  "vscode": {
   "interpreter": {
    "hash": "befd0e40b5e30091cf4de2f77401d79cf75ae4068d34977f78737ad07cbdc334"
   }
  }
 },
 "nbformat": 4,
 "nbformat_minor": 2
}

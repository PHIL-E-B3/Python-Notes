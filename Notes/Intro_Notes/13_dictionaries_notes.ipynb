{
 "cells": [
  {
   "cell_type": "markdown",
   "metadata": {},
   "source": [
    "#13\n",
    "\n",
    "My notes on Dictionaries\n",
    "\n",
    "useful extra resource:\n",
    "https://www.w3resource.com/python/python-dictionary.php"
   ]
  },
  {
   "cell_type": "code",
   "execution_count": 2,
   "metadata": {},
   "outputs": [],
   "source": [
    "# While lists organize data based on sequential indexes Dictionaries instead use key / value pairs\n",
    "# A key / value pair could be fName : \"Derek\" where fName is the key and \"Derek\" is the value\n",
    "# Here is some code to help this make sense"
   ]
  },
  {
   "cell_type": "code",
   "execution_count": 3,
   "metadata": {},
   "outputs": [],
   "source": [
    "# Create a Dictionary about me\n",
    "derek_dict = {\"f_name\": \"Derek\", \"l_name\": \"Banas\", \"address\": \"123 Main St\"}"
   ]
  },
  {
   "cell_type": "code",
   "execution_count": 4,
   "metadata": {},
   "outputs": [
    {
     "name": "stdout",
     "output_type": "stream",
     "text": [
      "May name : Derek\n"
     ]
    }
   ],
   "source": [
    "# Get a value with the key\n",
    "print(\"May name :\", derek_dict[\"f_name\"])"
   ]
  },
  {
   "cell_type": "code",
   "execution_count": 5,
   "metadata": {},
   "outputs": [],
   "source": [
    "# Change a value with the key\n",
    "derek_dict[\"address\"] = \"215 North St\""
   ]
  },
  {
   "cell_type": "code",
   "execution_count": 6,
   "metadata": {},
   "outputs": [
    {
     "name": "stdout",
     "output_type": "stream",
     "text": [
      "{'f_name': 'Derek', 'l_name': 'Banas', 'address': '215 North St'}\n"
     ]
    }
   ],
   "source": [
    "# Dictionaries may not print out in the order created\n",
    "# since they are unordered\n",
    "print(derek_dict)"
   ]
  },
  {
   "cell_type": "code",
   "execution_count": 7,
   "metadata": {},
   "outputs": [],
   "source": [
    "# Add a new key value\n",
    "derek_dict['city'] = 'Pittsburgh'"
   ]
  },
  {
   "cell_type": "code",
   "execution_count": 8,
   "metadata": {},
   "outputs": [
    {
     "name": "stdout",
     "output_type": "stream",
     "text": [
      "Is there a city : True\n"
     ]
    }
   ],
   "source": [
    "# Check if a key exists\n",
    "print(\"Is there a city :\", \"city\" in derek_dict)"
   ]
  },
  {
   "cell_type": "code",
   "execution_count": 9,
   "metadata": {},
   "outputs": [
    {
     "name": "stdout",
     "output_type": "stream",
     "text": [
      "dict_values(['Derek', 'Banas', '215 North St', 'Pittsburgh'])\n"
     ]
    }
   ],
   "source": [
    "# Get the list of values\n",
    "print(derek_dict.values())"
   ]
  },
  {
   "cell_type": "code",
   "execution_count": 10,
   "metadata": {},
   "outputs": [
    {
     "name": "stdout",
     "output_type": "stream",
     "text": [
      "dict_keys(['f_name', 'l_name', 'address', 'city'])\n"
     ]
    }
   ],
   "source": [
    "# Get the list of keys\n",
    "print(derek_dict.keys())"
   ]
  },
  {
   "cell_type": "code",
   "execution_count": 11,
   "metadata": {},
   "outputs": [
    {
     "name": "stdout",
     "output_type": "stream",
     "text": [
      "f_name Derek\n",
      "l_name Banas\n",
      "address 215 North St\n",
      "city Pittsburgh\n"
     ]
    }
   ],
   "source": [
    "# Get the key and value with items()\n",
    "for k, v in derek_dict.items():\n",
    "    print(k, v)"
   ]
  },
  {
   "cell_type": "code",
   "execution_count": 12,
   "metadata": {},
   "outputs": [
    {
     "name": "stdout",
     "output_type": "stream",
     "text": [
      "Not Here\n"
     ]
    }
   ],
   "source": [
    "# Get gets a value associated with a key or the default\n",
    "print(derek_dict.get(\"m_name\", \"Not Here\"))"
   ]
  },
  {
   "cell_type": "code",
   "execution_count": 13,
   "metadata": {},
   "outputs": [],
   "source": [
    "# Delete a key value\n",
    "del derek_dict[\"f_name\"]"
   ]
  },
  {
   "cell_type": "code",
   "execution_count": 14,
   "metadata": {},
   "outputs": [
    {
     "name": "stdout",
     "output_type": "stream",
     "text": [
      "l_name\n",
      "address\n",
      "city\n"
     ]
    }
   ],
   "source": [
    "# Loop through the dictionary keys\n",
    "for i in derek_dict:\n",
    "    print(i)"
   ]
  },
  {
   "cell_type": "code",
   "execution_count": 15,
   "metadata": {},
   "outputs": [],
   "source": [
    "# Delete all entries\n",
    "derek_dict.clear()"
   ]
  },
  {
   "cell_type": "code",
   "execution_count": 16,
   "metadata": {},
   "outputs": [],
   "source": [
    "# List for holding Dictionaries\n",
    "employees = []\n",
    "\n",
    "# Input employee data\n",
    "f_name, l_name = input(\"Enter Employee Name : \").split()\n",
    "\n",
    "employees.append({'f_name': f_name, 'l_name': l_name})\n",
    "\n",
    "print(employees)"
   ]
  },
  {
   "cell_type": "code",
   "execution_count": 17,
   "metadata": {},
   "outputs": [
    {
     "data": {
      "text/plain": [
       "'\\nPython Problem for you to Solve\\n\\nCreate an array of customer dictionaries and the output should look like this : \\n\\nEnter Customer (Yes/No) : y\\nEnter Customer Name : Derek Banas\\nEnter Customer (Yes/No) : y\\nEnter Customer Name : Sally Smith\\nEnter Customer (Yes/No) : n\\nDerek Banas\\nSally Smith\\n'"
      ]
     },
     "execution_count": 17,
     "metadata": {},
     "output_type": "execute_result"
    }
   ],
   "source": [
    "'''\n",
    "Python Problem for you to Solve\n",
    "\n",
    "Create an array of customer dictionaries and the output should look like this : \n",
    "\n",
    "Enter Customer (Yes/No) : y\n",
    "Enter Customer Name : Derek Banas\n",
    "Enter Customer (Yes/No) : y\n",
    "Enter Customer Name : Sally Smith\n",
    "Enter Customer (Yes/No) : n\n",
    "Derek Banas\n",
    "Sally Smith\n",
    "'''"
   ]
  },
  {
   "cell_type": "code",
   "execution_count": null,
   "metadata": {},
   "outputs": [],
   "source": [
    "customer_dicts = []\n",
    "\n",
    "while True: \n",
    "    \n",
    "    if create_entry == \"n\":\n",
    "        \n",
    "        break\n",
    "    \n",
    "    else:\n",
    "    name,surname = input(\"please enter your surname\",).split()\n",
    "    \n",
    "    customer_dicts.append({'name': name, 'surname': surname})\n",
    "\n",
    "for \n",
    "    "
   ]
  }
 ],
 "metadata": {
  "kernelspec": {
   "display_name": "Python 3.10.12 64-bit",
   "language": "python",
   "name": "python3"
  },
  "language_info": {
   "codemirror_mode": {
    "name": "ipython",
    "version": 3
   },
   "file_extension": ".py",
   "mimetype": "text/x-python",
   "name": "python",
   "nbconvert_exporter": "python",
   "pygments_lexer": "ipython3",
   "version": "3.10.12"
  },
  "orig_nbformat": 4,
  "vscode": {
   "interpreter": {
    "hash": "bd385fe162c5ca0c84973b7dd5c518456272446b2b64e67c2a69f949ca7a1754"
   }
  }
 },
 "nbformat": 4,
 "nbformat_minor": 2
}

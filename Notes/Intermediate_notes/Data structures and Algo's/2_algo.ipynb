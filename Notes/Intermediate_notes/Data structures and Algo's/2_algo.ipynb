{
 "cells": [
  {
   "cell_type": "markdown",
   "metadata": {},
   "source": [
    "## Big-0, Linear sort and bubble sort\n"
   ]
  },
  {
   "cell_type": "code",
   "execution_count": 6,
   "metadata": {},
   "outputs": [],
   "source": [
    "import random\n",
    "import time\n"
   ]
  },
  {
   "cell_type": "code",
   "execution_count": 7,
   "metadata": {},
   "outputs": [],
   "source": [
    "list_1 = []\n",
    "start_time = 0\n",
    "end_time = 0\n",
    "\n",
    "def generate_rand_list(max_size):\n",
    "    new_list = []\n",
    "    for i in range(0, max_size):\n",
    "        new_list.append(random.randint(1, 100))\n",
    "    return new_list\n",
    "\n",
    "\n",
    "list_1 = generate_rand_list(10)"
   ]
  },
  {
   "cell_type": "markdown",
   "metadata": {},
   "source": [
    "0(1)\n",
    "- Alghorithm executes in the same amount of time regardless of list size\n",
    "- 10 item list and 10,000 item list takee the same time"
   ]
  },
  {
   "cell_type": "code",
   "execution_count": 8,
   "metadata": {},
   "outputs": [],
   "source": [
    "def add_item_to_list(num):\n",
    "    list_1.append(num)"
   ]
  },
  {
   "cell_type": "markdown",
   "metadata": {},
   "source": [
    "0(N)\n",
    "- Algo executes directly proportional to amount of data\n",
    "- Linear Search: Requires looking at each item in a list\n"
   ]
  },
  {
   "cell_type": "code",
   "execution_count": null,
   "metadata": {},
   "outputs": [],
   "source": [
    "print(\"Testing Linear Search\")\n",
    "list_1 = generate_rand_list(10)\n",
    "start_time = time.time()\n",
    "linear_search(10000)\n",
    "print(f\"{time.time() - start_time} seconds\")\n",
    "\n",
    "list_1 = generate_rand_list(1000)\n",
    "start_time = time.time()\n",
    "linear_search(10000)\n",
    "print(f\"{time.time() - start_time} seconds\")\n",
    "\n",
    "list_1 = generate_rand_list(10000)\n",
    "start_time = time.time()\n",
    "linear_search(10000)\n",
    "print(f\"{time.time() - start_time} seconds\")\n",
    "\n",
    "list_1 = generate_rand_list(100000)\n",
    "start_time = time.time()\n",
    "linear_search(10000)\n",
    "print(f\"{time.time() - start_time} seconds\")\n"
   ]
  },
  {
   "cell_type": "markdown",
   "metadata": {},
   "source": [
    "O(N^2)Explanation\n",
    "\n",
    "- Notation where algorithms whose time to complete is proportional to the square of the amount of data. \n",
    "\n",
    "- An example mentioned here is bubble sort, which contains nested iterations. If there were more nested loops, you can have comlpexities like 0(n^3)... \n",
    "\n",
    "- THe reasoning is that for each pass through the outer loop (which runs N times), we may need to go through the entire list again, leading to N squared operations in total. \n",
    "\n",
    "- The content ends with the beginning of a description of the Bubble sort algorithm. "
   ]
  },
  {
   "cell_type": "markdown",
   "metadata": {},
   "source": [
    "Bubble Sort Explanation:\n",
    "\n",
    "The Bubble Sort is an elementary sorting algorithm.\n",
    "It uses an outer loop that decreases in size after each iteration.\n",
    "The goal of the algorithm is to place the largest number at the end of the list once the outer loop completes a single cycle.\n",
    "The inner loop starts comparing indices from the beginning.\n",
    "If the element at the current index is greater than the element at the next index, the two elements are swapped.\n",
    "When the inner loop completes, the largest number from the unsorted portion is at the end of the list.\n",
    "The outer loop decrements by 1 for the next iteration since the largest number has been placed in its final position.\n",
    "\n",
    "\n",
    "Bubble Sort Implementation:\n",
    "\n",
    "The function bubble_sort() is provided to sort the list list_1.\n",
    "The outer loop runs for the length of the list.\n",
    "The inner loop runs with decreasing length because, with each iteration of the outer loop, one more element is placed in its correct position at the end of the list.\n",
    "Within the inner loop, adjacent elements are compared, and if they are in the wrong order, they are swapped."
   ]
  }
 ],
 "metadata": {
  "kernelspec": {
   "display_name": "Python 3.11.5 64-bit ('3.11.5')",
   "language": "python",
   "name": "python3"
  },
  "language_info": {
   "codemirror_mode": {
    "name": "ipython",
    "version": 3
   },
   "file_extension": ".py",
   "mimetype": "text/x-python",
   "name": "python",
   "nbconvert_exporter": "python",
   "pygments_lexer": "ipython3",
   "version": "3.11.5"
  },
  "orig_nbformat": 4,
  "vscode": {
   "interpreter": {
    "hash": "8a020f0468ae81928ad4bc008a26ee09f2e560467c7765c205bb40f6a96b7995"
   }
  }
 },
 "nbformat": 4,
 "nbformat_minor": 2
}

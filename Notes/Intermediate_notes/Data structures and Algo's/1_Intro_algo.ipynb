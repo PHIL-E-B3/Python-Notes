{
 "cells": [
  {
   "cell_type": "markdown",
   "metadata": {},
   "source": [
    "## Data structures and algo's Introduction"
   ]
  },
  {
   "cell_type": "code",
   "execution_count": 1,
   "metadata": {},
   "outputs": [],
   "source": [
    "#to test how well an algo will perform:\n",
    "\n",
    "# we want to see how efficient these 2 functions are: \n",
    "\n",
    "import timeit\n",
    "\n",
    "\n",
    "def get_sum(mn):\n",
    "    sol = 0\n",
    "    for i in range(1, mn + 1):\n",
    "        sol += i\n",
    "    return sol"
   ]
  },
  {
   "cell_type": "code",
   "execution_count": 2,
   "metadata": {},
   "outputs": [],
   "source": [
    "def get_sum_2(mn):\n",
    "    sol = 0\n",
    "    i = 1\n",
    "    while i < mn:\n",
    "        sol += i\n",
    "        i += 1\n",
    "    return sol"
   ]
  },
  {
   "cell_type": "code",
   "execution_count": 4,
   "metadata": {},
   "outputs": [
    {
     "name": "stdout",
     "output_type": "stream",
     "text": [
      "Testing get_sum\n",
      "[0.0025031249970197678, 0.0025051250122487545, 0.0027782079996541142, 0.002297625003848225, 0.0023027919814921916]\n",
      "Testing get_sum_2\n",
      "[0.004208541999105364, 0.004042915999889374, 0.0037801250000484288, 0.0029469579458236694, 0.0029121250263415277]\n"
     ]
    }
   ],
   "source": [
    "\n",
    "print(\"Testing get_sum\")\n",
    "print(timeit.repeat(stmt='get_sum(100000)', repeat=5, number=1, globals=globals()))\n",
    "\n",
    "print(\"Testing get_sum_2\")\n",
    "print(timeit.repeat(stmt='get_sum_2(100000)', repeat=5, number=1, globals=globals()))\n"
   ]
  },
  {
   "cell_type": "code",
   "execution_count": null,
   "metadata": {},
   "outputs": [],
   "source": [
    "#we can see from the result above that a while loop takes more time to run\n",
    "#because we use more variables when doing a while loop\n"
   ]
  },
  {
   "cell_type": "code",
   "execution_count": 5,
   "metadata": {},
   "outputs": [],
   "source": [
    "#new algo: \n",
    "def get_sum_3(mn):\n",
    "    return mn * (mn + 1) / 2"
   ]
  },
  {
   "cell_type": "code",
   "execution_count": 6,
   "metadata": {},
   "outputs": [
    {
     "name": "stdout",
     "output_type": "stream",
     "text": [
      "Testing get_sum_3\n",
      "[9.579816833138466e-07, 2.500019036233425e-07, 1.66997779160738e-07, 7.079797796905041e-07, 4.5803608372807503e-07]\n"
     ]
    }
   ],
   "source": [
    "\n",
    "print(\"Testing get_sum_3\")\n",
    "print(timeit.repeat(stmt='get_sum_3(100000)', repeat=5, number=1, globals=globals()))\n"
   ]
  },
  {
   "cell_type": "code",
   "execution_count": null,
   "metadata": {},
   "outputs": [],
   "source": [
    "# Big-O Notation\n",
    "\n",
    "# 45n^3 + 20n^2 + 19 (n=1) = 84\n",
    "# (n = 2) 84 to 459 + 19\n",
    "# (n = 10) 47,019 n^2 = 100\n",
    "# 45n^3 = 45,000\n",
    "# n^3 or O(N^3)\n",
    "\n",
    "# O(1) --> ALGO WILL PERFORM THE SAME NO MATTER INPUT\n",
    "# O(N)\n",
    "# O(N^2)\n",
    "# O(log N)\n",
    "# O(N log N)"
   ]
  }
 ],
 "metadata": {
  "kernelspec": {
   "display_name": "Python 3.11.5 64-bit ('3.11.5')",
   "language": "python",
   "name": "python3"
  },
  "language_info": {
   "codemirror_mode": {
    "name": "ipython",
    "version": 3
   },
   "file_extension": ".py",
   "mimetype": "text/x-python",
   "name": "python",
   "nbconvert_exporter": "python",
   "pygments_lexer": "ipython3",
   "version": "3.11.5"
  },
  "orig_nbformat": 4,
  "vscode": {
   "interpreter": {
    "hash": "8a020f0468ae81928ad4bc008a26ee09f2e560467c7765c205bb40f6a96b7995"
   }
  }
 },
 "nbformat": 4,
 "nbformat_minor": 2
}

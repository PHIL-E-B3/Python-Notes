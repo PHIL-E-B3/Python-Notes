{
  "cells": [
    {
      "cell_type": "markdown",
      "metadata": {
        "id": "fwGhVQGM0jTz"
      },
      "source": [
        "#Section 45 - NumPy Tutorial"
      ]
    },
    {
      "cell_type": "markdown",
      "metadata": {
        "id": "LSQKirJc05JQ"
      },
      "source": []
    },
    {
      "cell_type": "code",
      "execution_count": null,
      "metadata": {
        "id": "CjlIL-vV1BNU"
      },
      "outputs": [],
      "source": [
        "import numpy as np\n",
        "import matplotlib.pylab as plt\n",
        "from numpy import random\n",
        "\n",
        "\n",
        "list_1 = [1,2,3,4,5]\n",
        "np_arr_1 = np.array(list_1, dtype=np.int8)\n",
        "np_arr_1\n",
        "\n",
        "#here we're creating a mutlitimensional list\n",
        "m_list_1 = [[1,2,3], [4,5,6], [7,8,9]]\n",
        "\n",
        "#now we turn the list in a numpy array\n",
        "np_m_arr_1 = np.array(m_list_1)\n",
        "np_m_arr_1\n",
        "\n",
        "#create a range of values from 1-10\n",
        "np.arange(1,10)\n",
        "\n",
        "#create 5 values between 0 and 5\n",
        "np.linspace(0,5,5)\n",
        "\n",
        "#arrays that are filled out with 0's.\n",
        "np.zeros(4)\n",
        "\n",
        "#create a multidimensional arrays with 0's\n",
        "np.zeros((2,3))\n",
        "\n",
        "#create a multidimensional arrays with 1's\n",
        "np.ones((2,3))\n",
        "\n",
        "#if I want to know the no. of items that I have in an array:\n",
        "np_m_arr_1.size\n",
        "\n",
        "#generate array with default values\n",
        "np_arr_2 = np.array([1,2,3,4,5,6])\n",
        "\n",
        "#get the data type for your arrays\n",
        "np_arr_2.dtype\n",
        "\n",
        "#generate a random array\n",
        "np.random.randint(10,50,5)\n",
        "\n",
        "#generate random matrices (2 by 3 array)\n",
        "np.random.randint(10,50,size = (2,3))\n",
        "\n",
        "#if you want to find more info about an array.\n",
        "np.random.randint?\n",
        "\n",
        "#slicing and indexing\n",
        "#if you want to change the upper left hand corner to 2.\n",
        "np_m_arr_1[0,0] = 2\n",
        "\n",
        "#or you can do:\n",
        "#this will change the second item of the first row to 1 (row 0 position 1)\n",
        "np_m_arr_1.itemset((0,1), 1)\n",
        "\n",
        "#get the overall size of arrays: (i.e. what matrix structure it is e.g. 5x5)\n",
        "np_m_arr_1.shape\n",
        "\n",
        "#get values by index\n",
        "np_m_arr_1[0,1]\n",
        "\n",
        "#get it with a tuple too:\n",
        "np_m_arr_1.item(0,2)\n",
        "\n",
        "#get specific indicies\n",
        "np.take(np_m_arr_1, [0,3,6])\n",
        "\n",
        "#replace index values\n",
        "np.put(np_m_arr_1, [0,3,6], [10,10,10])\n",
        "np_m_arr_1\n",
        "\n",
        "#you can slice up these arrays from 0 to 5 with 2 steps\n",
        "np_arr_1[:5:2]\n",
        "\n",
        "#get the second value from each row from a multid list\n",
        "np_m_arr_1[:,1]\n",
        "\n",
        "#slip an array\n",
        "np_m_arr_1[::-1]\n",
        "\n",
        "#get even values\n",
        "evens = np_m_arr_1[np_m_arr_1%2==0]\n",
        "evens\n",
        "\n",
        "#get values only greater than 5\n",
        "#you can combine many operators\n",
        "np_m_arr_1[np_m_arr_1 > 5]\n",
        "np_m_arr_1[(np_m_arr_1) or (np_m_arr_1)]\n",
        "\n",
        "#get only unique values\n",
        "np.unique(np_m_arr_1)\n",
        "\n"
      ]
    },
    {
      "cell_type": "markdown",
      "metadata": {
        "id": "3DhA7EHVMBGG"
      },
      "source": [
        "#Numpy 2"
      ]
    },
    {
      "cell_type": "code",
      "execution_count": null,
      "metadata": {
        "id": "aHHL10u1MCte"
      },
      "outputs": [],
      "source": [
        "###VIDEO 2 ON NUMPY###\n",
        "\n",
        "#let's say we want to reshape our multidimensional array 9 item single axis array\n",
        "np_m_arr_1.reshape.((1,9))\n",
        "\n",
        "#do you want to make it 2x5\n",
        "np.resize(np_m_arr_1,(2,5))\n",
        "\n",
        "#transpose the axis\n",
        "np_m_arr_1.transpose()\n",
        "np_m_arr_1.swapaxes(0,1)\n",
        "\n",
        "# Flatten in order\n",
        "np_m_arr_1.flatten()\n",
        "\n",
        "# Flatten in column order\n",
        "np_m_arr_1.flatten('F')\n",
        "\n",
        "# Sort rows\n",
        "np_m_arr_1.sort(axis=1)\n",
        "print(np_m_arr_1)\n",
        "\n",
        "# Sort columns\n",
        "np_m_arr_1.sort(axis=0)\n",
        "np_m_arr_1"
      ]
    },
    {
      "cell_type": "markdown",
      "metadata": {
        "id": "WgWB05SuL8A0"
      },
      "source": [
        "#Stacking and splitting arrays"
      ]
    },
    {
      "cell_type": "code",
      "execution_count": null,
      "metadata": {
        "id": "Sw-fV1QKL-Ad"
      },
      "outputs": [],
      "source": [
        "###stacking and splitting###\n",
        "\n",
        "# Generate random arrays\n",
        "ss_arr_1 = np.random.randint(10, size=(2, 2))\n",
        "print(\"ss_arr_1\\n\", ss_arr_1)\n",
        "ss_arr_2 = np.random.randint(10, size=(2, 2))\n",
        "print(\"ss_arr_2\\n\", ss_arr_2)\n",
        "\n",
        "# Stack arr_2 under arr_1\n",
        "np.vstack((ss_arr_1, ss_arr_2))\n",
        "# Stack horizontally\n",
        "np.hstack((ss_arr_1, ss_arr_2))\n",
        "\n",
        "# Delete 2nd row on each array\n",
        "ss_arr_3 = np.delete(ss_arr_1, 1, 0)\n",
        "ss_arr_4 = np.delete(ss_arr_2, 1, 0)\n",
        "print(\"ss_arr_3\\n\", ss_arr_3)\n",
        "print(\"ss_arr_4\\n\", ss_arr_4)\n",
        "# Combine arrays\n",
        "np.column_stack((ss_arr_3, ss_arr_4))\n",
        "# Stack in a 2D array\n",
        "np.row_stack((ss_arr_3, ss_arr_4))\n",
        "\n",
        "# Generate 2x10 array\n",
        "ss_arr_5 = np.random.randint(10, size=(2, 10))\n",
        "print(\"ss_arr_5\\n\", ss_arr_5)\n",
        "# Split into 5 arrays taking from both arrays in multidimensional array\n",
        "np.hsplit(ss_arr_5, 5)\n",
        "# Split after 2nd & 4th column\n",
        "np.hsplit(ss_arr_5, (2, 4))"
      ]
    },
    {
      "cell_type": "markdown",
      "metadata": {
        "id": "vOuQ4d40L20h"
      },
      "source": [
        "#Copying Arrays\n"
      ]
    },
    {
      "cell_type": "code",
      "execution_count": null,
      "metadata": {
        "id": "nnMla_hkL5C8"
      },
      "outputs": [],
      "source": [
        "###Copying###\n",
        "\n",
        "cp_arr_1 = np.random.randint(10, size=(2, 2))\n",
        "# Both variables point at the same array\n",
        "cp_arr_2 = cp_arr_1\n",
        "# Change value\n",
        "cp_arr_1[0,0] = 2\n",
        "print(\"cp_arr_1\\n\", cp_arr_1)\n",
        "print(\"cp_arr_2\\n\", cp_arr_2)\n",
        "# Create a view of data where changes don't effect original\n",
        "cp_arr_3 = cp_arr_1.view()\n",
        "print(\"cp_arr_3\\n\", cp_arr_3)\n",
        "cp_arr_3 = cp_arr_3.flatten('F')\n",
        "print(\"cp_arr_3\\n\", cp_arr_3)\n",
        "print(\"cp_arr_1\\n\", cp_arr_1)\n",
        "# Copy and create new array\n",
        "cp_arr_4 = cp_arr_1.copy()\n"
      ]
    },
    {
      "cell_type": "markdown",
      "metadata": {
        "id": "NOV_TRmdMEv6"
      },
      "source": [
        "#Maths functions and reading files"
      ]
    },
    {
      "cell_type": "code",
      "execution_count": null,
      "metadata": {
        "id": "Aki1eUY1MHS-"
      },
      "outputs": [],
      "source": [
        "arr_3 = np.array([1, 2, 3, 4])\n",
        "arr_4 = np.array([2, 4, 6, 8])\n",
        "# Add values\n",
        "arr_3 + arr_4\n",
        "# Subtract\n",
        "arr_3 - arr_4\n",
        "# Multiply\n",
        "arr_3 * arr_4\n",
        "# Divide\n",
        "arr_3 / arr_4\n",
        "# Random 4 digit 1D array between 0 to 100\n",
        "arr_5 = random.randint(100, size=(4))\n",
        "arr_5\n",
        "# Random 2 by 3 digit 2D array between 0 to 100\n",
        "arr_6 = random.randint(100, size=(2, 3))\n",
        "arr_6\n",
        "# 4 random floats\n",
        "random.rand(4)\n",
        "# Get random value from an array\n",
        "random.choice(arr_3)\n",
        "\n",
        "# Sum of values in array\n",
        "arr_3.sum()\n",
        "# Sum columns\n",
        "print(arr_6)\n",
        "arr_6.sum(axis=0)\n",
        "# Cumulative sum of rows\n",
        "arr_6.cumsum(axis=1)\n",
        "\n",
        "# Min of each row\n",
        "arr_6.min(axis=1)\n",
        "# Max of each column\n",
        "arr_6.max(axis=0)\n",
        "\n",
        "print(\"arr_3\", arr_3)\n",
        "print(\"arr_4\", arr_4)\n",
        "# Add individual numbers to array\n",
        "np.add(arr_3, 5)\n",
        "# Add arrays\n",
        "np.add(arr_3, arr_4)\n",
        "# Subtract\n",
        "np.subtract(arr_3, arr_4)\n",
        "# Multiply\n",
        "np.multiply(arr_3, arr_4)\n",
        "# Divide\n",
        "np.divide(arr_3, arr_4)\n",
        "\n",
        "arr_5 = np.array([[1, 2], [3, 4]])\n",
        "arr_6 = np.array([[2, 4], [6, 9]])\n",
        "print(\"arr_5\\n\", arr_5)\n",
        "print(\"arr_6\\n\", arr_6)\n",
        "# Divides elements in 1st array by 2nd array and returns remainder\n",
        "np.remainder(arr_6, arr_5)\n",
        "\n",
        "# Return values in 1st array to powers defined in 2nd array\n",
        "np.power(arr_6, arr_5)\n",
        "# Square root\n",
        "np.sqrt(arr_3)\n",
        "# Cube root\n",
        "np.cbrt(arr_3)\n",
        "# Absolute value of every element\n",
        "np.absolute([-1, -2])\n",
        "# Exponential of all elements in array\n",
        "np.exp(arr_3)\n",
        "# log functions\n",
        "np.log(arr_3)\n",
        "np.log2(arr_3)\n",
        "np.log10(arr_3)\n",
        "# Greatest common divisor\n",
        "np.gcd.reduce([9, 12, 15])\n",
        "\n",
        "# Lowest common multiple\n",
        "np.lcm.reduce([9, 12, 15])\n",
        "\n",
        "# Round down\n",
        "np.floor([1.2, 2.5])\n",
        "# Round up\n",
        "np.ceil([1.2, 2.5])\n",
        "\n",
        "# Can receive 6 values and square them\n",
        "sq_arr = np.arange(6)**2\n",
        "sq_arr[arr_3]\n",
        "\n",
        "arr_7 = random.randint(100, size=(5, 3))\n",
        "print(\"arr_7\\n\", arr_7)\n",
        "# Get index for max value per column\n",
        "mc_index = arr_7.argmax(axis=0)\n",
        "mc_index\n",
        "# Get numbers corresponding to indexes\n",
        "max_nums = arr_7[mc_index]\n",
        "arr_7[mc_index, range(arr_7.shape[1])]"
      ]
    },
    {
      "cell_type": "markdown",
      "metadata": {
        "id": "IQvVaI7gPydB"
      },
      "source": [
        "#Reading from files"
      ]
    },
    {
      "cell_type": "code",
      "execution_count": null,
      "metadata": {
        "id": "_yfcscJoP08M"
      },
      "outputs": [],
      "source": [
        "# Pandas is used to manipulate tabular data and more\n",
        "import pandas as pd\n",
        "# Import using NumPy\n",
        "from numpy import genfromtxt\n",
        "\n",
        "# Read table of data from CSV file and convert to Numpy array\n",
        "ic_sales = pd.read_csv('icecreamsales.csv').to_numpy()\n",
        "ic_sales\n",
        "\n",
        "# Read data using NumPy\n",
        "ic_sales_2 = genfromtxt('icecreamsales.csv', delimiter=',')\n",
        "# Remove NANs\n",
        "ic_sales_2 = [row[~np.isnan(row)] for row in ic_sales_2]\n",
        "ic_sales_2"
      ]
    },
    {
      "cell_type": "markdown",
      "metadata": {
        "id": "cRqYv6WTU0Cz"
      },
      "source": [
        "#statistics formulas"
      ]
    },
    {
      "cell_type": "code",
      "execution_count": null,
      "metadata": {
        "id": "Wx7bn3E7U12b"
      },
      "outputs": [],
      "source": [
        "# Array 1 - 5\n",
        "sarr_1 = np.arange(1, 6)\n",
        "np.mean(sarr_1)\n",
        "np.median(sarr_1)\n",
        "np.average(sarr_1)\n",
        "np.std([4, 6, 3, 5, 2]) # Standard Deviation\n",
        "np.var([4, 6, 3, 5, 2]) # Variance\n",
        "# Also nanmedian, nanmean, nanstd, nanvar\n",
        "\n",
        "print(\"ic_sales\\n\", ic_sales)\n",
        "# Get the 50th percentile of the data\n",
        "np.percentile(ic_sales, 50, axis=0)\n",
        "# Get 1st column\n",
        "ic_sales[:,0]\n",
        "\n",
        "# Correlation coefficient : Measure of correlation between data\n",
        "# Closer to 1 the more the data is correlated\n",
        "np.corrcoef(ic_sales[:,0], ic_sales[:,1])\n",
        "\n",
        "# Calculating Regression line\n",
        "# Σ(x-x̅)*(y-ȳ) / Σ(x-x̅)2\n",
        "temp_mean = np.mean(ic_sales[:,0])\n",
        "sales_mean = np.mean(ic_sales[:,1])\n",
        "numerator = np.sum(((ic_sales[:,0] - temp_mean)*(ic_sales[:,1] - sales_mean)))\n",
        "denominator = np.sum(np.square(ic_sales[:,0] - temp_mean))\n",
        "slope = numerator/denominator\n",
        "# Calculate y intercept\n",
        "y_i = sales_mean - slope * temp_mean\n",
        "y_i\n",
        "reg_arr = ic_sales[:,0] * slope + y_i\n",
        "reg_arr"
      ]
    },
    {
      "cell_type": "markdown",
      "metadata": {
        "id": "p0pqPmvFYTzI"
      },
      "source": [
        "#saving & loading numpy objects"
      ]
    },
    {
      "cell_type": "code",
      "execution_count": null,
      "metadata": {
        "id": "IPmucQJEYWfL"
      },
      "outputs": [],
      "source": [
        "arr_15 = np.array([[1, 2], [3, 4]])\n",
        "# Save as randarray.npy\n",
        "np.save('randarray', arr_15)\n",
        "# Load saved array\n",
        "arr_16 = np.load('randarray.npy')\n",
        "arr_16\n",
        "\n",
        "# Save as a CSV\n",
        "np.savetxt('randcsv.csv', arr_15)\n",
        "# Load CSV\n",
        "arr_17 = np.loadtxt('randcsv.csv')\n",
        "arr_17"
      ]
    },
    {
      "cell_type": "markdown",
      "metadata": {
        "id": "lT5qDp8eYt6w"
      },
      "source": [
        "#financial functions"
      ]
    },
    {
      "cell_type": "code",
      "execution_count": null,
      "metadata": {
        "id": "jGAMv7RrYvjd"
      },
      "outputs": [],
      "source": [
        "# Install in Conda terminal with\n",
        "# conda install pip\n",
        "# pip install numpy-financial\n",
        "import numpy_financial as npf\n",
        "\n",
        "# Compute future value of $400 investment every month\n",
        "# with an annual rate of 8% after 10 years\n",
        "npf.fv(.08/12, 10*12, -400, -400)\n",
        "\n",
        "# Calculate interest portion of payment on a loan of $3,000\n",
        "# at 9.25% per year compounded monthly\n",
        "# Period of loan (year)\n",
        "\n",
        "#define my period (+1 because it's 0 indexed)\n",
        "period = np.arange(1*12) + 1\n",
        "principle = 3000.00\n",
        "# Interest Payment\n",
        "ipmt = npf.ipmt(0.0925/12, period, 1*12, principle)\n",
        "# Principle Payment\n",
        "ppmt = npf.ppmt(0.0925/12, period, 1*12, principle)\n",
        "for payment in period:\n",
        "    index = payment - 1\n",
        "    principle = principle + ppmt[index]\n",
        "    print(f\"{payment}   {np.round(ppmt[index], 2)}    {np.round(ipmt[index],2)}    {np.round(principle, 2)}\")\n",
        "\n",
        "# Compute number of payments to pay off $3,000 if you paid\n",
        "# $150 per month with an interest rate of 9.25%\n",
        "np.round(npf.nper(0.0925/12, -150, 3000.00), 2)\n",
        "\n",
        "# Calculate net present value of cash flows of $4,000, $5,000\n",
        "# $6,000, $7,000 after $15,000 investment with .08 rate per period\n",
        "npf.npv(0.08, [-15000, 4000, 5000, 6000, 7000]).round(2)"
      ]
    },
    {
      "cell_type": "markdown",
      "metadata": {
        "id": "9YrF0_DyrQNJ"
      },
      "source": [
        "#comparison functions"
      ]
    },
    {
      "cell_type": "code",
      "execution_count": null,
      "metadata": {
        "id": "12PWl4kvrSxa"
      },
      "outputs": [],
      "source": [
        "carr_1 = np.array([2, 3])\n",
        "carr_2 = np.array([3, 2])\n",
        "# Returns boolean based on whether arr_1 value Comparison arr_2 value\n",
        "np.greater(carr_1, carr_2)\n",
        "np.greater_equal(carr_1, carr_2)\n",
        "np.less(carr_1, carr_2)\n",
        "np.less_equal(carr_1, carr_2)\n",
        "np.not_equal(carr_1, carr_2)\n",
        "np.equal(carr_1, carr_2)"
      ]
    }
  ],
  "metadata": {
    "colab": {
      "provenance": []
    },
    "kernelspec": {
      "display_name": "Python 3.10.12 64-bit",
      "language": "python",
      "name": "python3"
    },
    "language_info": {
      "name": "python",
      "version": "3.10.12"
    },
    "vscode": {
      "interpreter": {
        "hash": "bd385fe162c5ca0c84973b7dd5c518456272446b2b64e67c2a69f949ca7a1754"
      }
    }
  },
  "nbformat": 4,
  "nbformat_minor": 0
}

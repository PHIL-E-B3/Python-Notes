{
 "cells": [
  {
   "cell_type": "markdown",
   "metadata": {},
   "source": [
    "Anonymous functions - part of lesson #23\n",
    "\n",
    "Map/lambda/reduce/filter"
   ]
  },
  {
   "cell_type": "markdown",
   "metadata": {},
   "source": [
    "\n",
    "**Lambda Function**\n",
    "So the lambda function is very similar to the def defined function, except it takes as argument only one line of code (basically)\n",
    "\n",
    "They are also anonymous functions, meaning they aren't bound to an identifier necessarily.\n",
    "\n",
    "They are a bit like a placeholder function that helps you execute things, without having to define the function to re-use it."
   ]
  },
  {
   "cell_type": "code",
   "execution_count": 2,
   "metadata": {},
   "outputs": [
    {
     "name": "stdout",
     "output_type": "stream",
     "text": [
      "[27, 64, 125, 216, 343]\n"
     ]
    }
   ],
   "source": [
    "#Cool example:\n",
    "\n",
    "def my_map(my_func,my_iter):\n",
    "  result = []\n",
    "  for item in my_iter:\n",
    "    new_item = my_func(item)\n",
    "    result.append(new_item)\n",
    "  return result\n",
    "\n",
    "nums = [3,4,5,6,7]\n",
    "\n",
    "cubed = my_map(lambda x: x**3, nums)\n",
    "\n",
    "print(cubed)"
   ]
  },
  {
   "cell_type": "code",
   "execution_count": 3,
   "metadata": {},
   "outputs": [
    {
     "name": "stdout",
     "output_type": "stream",
     "text": [
      "Sum : 9\n"
     ]
    }
   ],
   "source": [
    "#Lambdas are used when you need a small function, but don't want to junk up your code with temporary function names that may cause conflicts\n",
    "# Let’s look at some examples \n",
    "\n",
    "# Add values\n",
    "sum_1 = lambda x, y : x + y\n",
    "print(\"Sum :\", sum_1(4, 5))"
   ]
  },
  {
   "cell_type": "code",
   "execution_count": 4,
   "metadata": {},
   "outputs": [
    {
     "name": "stdout",
     "output_type": "stream",
     "text": [
      "Can Vote : False\n"
     ]
    }
   ],
   "source": [
    "# Use a ternary operator to see if someone can vote\n",
    "can_vote = lambda age: True if age >= 18 else False\n",
    "print(\"Can Vote :\", can_vote(16))"
   ]
  },
  {
   "cell_type": "code",
   "execution_count": 5,
   "metadata": {},
   "outputs": [],
   "source": [
    "# Create a list of functions\n",
    "power_list = [lambda x: x ** 2,\n",
    "              lambda x: x ** 3,\n",
    "              lambda x: x ** 4]"
   ]
  },
  {
   "cell_type": "code",
   "execution_count": 6,
   "metadata": {},
   "outputs": [
    {
     "name": "stdout",
     "output_type": "stream",
     "text": [
      "16\n",
      "64\n",
      "256\n"
     ]
    }
   ],
   "source": [
    "# Run each function on a value\n",
    "for func in power_list:\n",
    "    print(func(4))"
   ]
  },
  {
   "cell_type": "code",
   "execution_count": 8,
   "metadata": {},
   "outputs": [
    {
     "name": "stdout",
     "output_type": "stream",
     "text": [
      "Quick Attack\n"
     ]
    }
   ],
   "source": [
    "# You can also store lambdas in dictionaires\n",
    "attack = {'quick': (lambda: print(\"Quick Attack\")),\n",
    "          'power': (lambda: print(\"Power Attack\")),\n",
    "          'miss': (lambda: print(\"The Attack Missed\"))}\n",
    "attack['quick']()"
   ]
  },
  {
   "cell_type": "code",
   "execution_count": null,
   "metadata": {},
   "outputs": [],
   "source": [
    "# You could get a random dictionary as well for our\n",
    "# previous warrior objects\n",
    "import random\n",
    "\n",
    "# keys() returns an iterable so we convert it into a list\n",
    "# choice() picks a random value from that list\n",
    "attack_key = random.choice(list(attack.keys()))\n",
    "attack[attack_key]()"
   ]
  },
  {
   "cell_type": "code",
   "execution_count": 46,
   "metadata": {},
   "outputs": [
    {
     "name": "stdout",
     "output_type": "stream",
     "text": [
      "Tails: 48 Heads 52\n"
     ]
    }
   ],
   "source": [
    "#problem to try on my own: \n",
    "\n",
    "# Let’s try to solve a problem using what you’ve learned\n",
    "# Create a random list filled with the characters H and T for heads and tails\n",
    "# Output the number of Hs and Ts\n",
    "\n",
    "# Example Output\n",
    "# Heads :  46\n",
    "# Tails :  54\n",
    "\n",
    "import random\n",
    "\n",
    "flip_list = []\n",
    "h_count = 0\n",
    "t_count = 0\n",
    "\n",
    "for i in range(1,101):\n",
    "    flip = random.choice([\"H\", \"T\"])\n",
    "    flip_list.append(flip)\n",
    "    \n",
    "    if flip == \"H\":\n",
    "        h_count +=1\n",
    "    else:\n",
    "        t_count +=1    \n",
    "\n",
    "print(\"Tails:\", t_count, \"Heads\", h_count )\n"
   ]
  },
  {
   "cell_type": "markdown",
   "metadata": {},
   "source": [
    "MAP FUNCTION"
   ]
  },
  {
   "cell_type": "markdown",
   "metadata": {},
   "source": [
    "**Map Function**\n",
    "format:\n",
    "map(function,iterable)\n",
    "\n",
    "Basically, the map function takes the function argument and applies to every argument in the iterable argument "
   ]
  },
  {
   "cell_type": "code",
   "execution_count": 54,
   "metadata": {},
   "outputs": [
    {
     "name": "stdout",
     "output_type": "stream",
     "text": [
      "range(1, 11)\n"
     ]
    }
   ],
   "source": [
    "# Map allows us to execute a function on each item in a list\n",
    "# Let’s look at why that is powerful\n",
    "\n",
    "# Generate a list from 1 to 10\n",
    "one_to_10 = range(1, 11)\n",
    "\n",
    "print(one_to_10)\n",
    "\n",
    "# The function to pass into map\n",
    "def dbl_num(num):\n",
    "    return num * 2"
   ]
  },
  {
   "cell_type": "code",
   "execution_count": 49,
   "metadata": {},
   "outputs": [
    {
     "name": "stdout",
     "output_type": "stream",
     "text": [
      "[2, 4, 6, 8, 10, 12, 14, 16, 18, 20]\n"
     ]
    }
   ],
   "source": [
    "# Pass in the function and the list to generate a new list\n",
    "print(list(map(dbl_num, one_to_10)))"
   ]
  },
  {
   "cell_type": "code",
   "execution_count": 55,
   "metadata": {},
   "outputs": [
    {
     "name": "stdout",
     "output_type": "stream",
     "text": [
      "[3, 6, 9, 12, 15, 18, 21, 24, 27, 30]\n"
     ]
    }
   ],
   "source": [
    "# You could do the same thing with a lambda\n",
    "print(list(map((lambda x: x * 3), one_to_10)))"
   ]
  },
  {
   "cell_type": "code",
   "execution_count": 56,
   "metadata": {},
   "outputs": [
    {
     "name": "stdout",
     "output_type": "stream",
     "text": [
      "[2, 4, 6]\n"
     ]
    }
   ],
   "source": [
    "# You can perform calculations against multiple lists\n",
    "a_list = list(map((lambda x, y: x + y), [1, 2, 3], [1, 2, 3]))\n",
    "print(a_list)"
   ]
  },
  {
   "cell_type": "markdown",
   "metadata": {},
   "source": [
    "\n",
    "**Filter**\n",
    "This function helps filter out certain items outside of a sequence.\n",
    "It works a bit like the mapping function, but instead of returning, say, a different list, when working with lists, it'll return a list based on a particular parameter (i.e. so that it satisfies a specific condition).\n"
   ]
  },
  {
   "cell_type": "code",
   "execution_count": 57,
   "metadata": {},
   "outputs": [
    {
     "name": "stdout",
     "output_type": "stream",
     "text": [
      "[2, 4, 6, 8, 10]\n"
     ]
    }
   ],
   "source": [
    "# While map executes functions on a list, filter selects items from a list based on a function\n",
    "# Print out the even values from a list\n",
    "print(list(filter((lambda x: x % 2 == 0), range(1, 11))))"
   ]
  },
  {
   "cell_type": "code",
   "execution_count": 79,
   "metadata": {},
   "outputs": [
    {
     "name": "stdout",
     "output_type": "stream",
     "text": [
      "[45, 621, 576, 423, 567, 468, 216, 513, 693, 981, 495, 936, 918]\n"
     ]
    }
   ],
   "source": [
    "#problem to solve: \n",
    "#we need to find the multiples of 9 from a random 100 value list\n",
    "\n",
    "# Generate a random list with randint between 1 and 1000\n",
    "# Use range to generate 100 values\n",
    "rand_list = list(random.randint(1,1000) for i in range(100))\n",
    "\n",
    "print(list((filter((lambda x: x % 9 == 0), rand_list))))"
   ]
  },
  {
   "cell_type": "markdown",
   "metadata": {},
   "source": [
    "**Reduce**\n",
    "The reduce function applies the same operation to each item of a sequence, and uses the result of the operation as a first parameter for the next operation (think of the fibonacci sequence).\n",
    "\n",
    "So for example list = [m,n,p]\n",
    "it will take the result of m and n and use it as a param for dealing with p"
   ]
  },
  {
   "cell_type": "code",
   "execution_count": 80,
   "metadata": {},
   "outputs": [],
   "source": [
    "# Reduce\n",
    "# Reduce is similar to map and filter, but it instead receives a list and returns a single result\n",
    "\n",
    "# You must import reduce\n",
    "from functools import reduce"
   ]
  },
  {
   "cell_type": "code",
   "execution_count": 81,
   "metadata": {},
   "outputs": [
    {
     "name": "stdout",
     "output_type": "stream",
     "text": [
      "15\n"
     ]
    }
   ],
   "source": [
    "# Add up the values in a list\n",
    "print(reduce((lambda x, y: x + y), range(1, 6)))\n"
   ]
  }
 ],
 "metadata": {
  "kernelspec": {
   "display_name": "Python 3.10.12 64-bit",
   "language": "python",
   "name": "python3"
  },
  "language_info": {
   "codemirror_mode": {
    "name": "ipython",
    "version": 3
   },
   "file_extension": ".py",
   "mimetype": "text/x-python",
   "name": "python",
   "nbconvert_exporter": "python",
   "pygments_lexer": "ipython3",
   "version": "3.10.12"
  },
  "orig_nbformat": 4,
  "vscode": {
   "interpreter": {
    "hash": "bd385fe162c5ca0c84973b7dd5c518456272446b2b64e67c2a69f949ca7a1754"
   }
  }
 },
 "nbformat": 4,
 "nbformat_minor": 2
}

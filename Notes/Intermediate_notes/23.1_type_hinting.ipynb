{
 "cells": [
  {
   "cell_type": "code",
   "execution_count": null,
   "metadata": {},
   "outputs": [],
   "source": [
    "**Type Hinting**\n",
    "```\n",
    "def greet(name: str) -> str:\n",
    "    return \"Hello, \" + name\n",
    "```\n",
    "\n",
    "The `name: str` syntax indicates the `name` argument should be of type `str`. The `->` syntax indicates the `greet()` function will return a [string]\n",
    "\n",
    "https://realpython.com/lessons/type-hinting/"
   ]
  }
 ],
 "metadata": {
  "kernelspec": {
   "display_name": "Python 3.11.5 64-bit ('3.11.5')",
   "language": "python",
   "name": "python3"
  },
  "language_info": {
   "name": "python",
   "version": "3.11.5"
  },
  "orig_nbformat": 4,
  "vscode": {
   "interpreter": {
    "hash": "8a020f0468ae81928ad4bc008a26ee09f2e560467c7765c205bb40f6a96b7995"
   }
  }
 },
 "nbformat": 4,
 "nbformat_minor": 2
}

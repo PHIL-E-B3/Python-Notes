{
 "cells": [
  {
   "cell_type": "markdown",
   "metadata": {},
   "source": [
    "## LIST COMPREHENSIONS:\n",
    "- list comprehensions\n",
    "- generator functions\n",
    "- generator expressions\n",
    "\n",
    "--> part of lecture 25\n"
   ]
  },
  {
   "cell_type": "code",
   "execution_count": null,
   "metadata": {},
   "outputs": [],
   "source": [
    "# A list comprehension executes an expression against an iterable\n",
    "\n",
    "#basic syntax of a list comprehension is:\n",
    "#[expression for item in iterable if condition]"
   ]
  },
  {
   "cell_type": "code",
   "execution_count": 1,
   "metadata": {},
   "outputs": [
    {
     "name": "stdout",
     "output_type": "stream",
     "text": [
      "[0, 1, 4, 9, 16, 25, 36, 49, 64, 81]\n"
     ]
    }
   ],
   "source": [
    "#some examples:\n",
    "squares = [x**2 for x in range(10)]\n",
    "print(squares)  # Outputs: [0, 1, 4, 9, 16, 25, 36, 49, 64, 81]\n"
   ]
  },
  {
   "cell_type": "code",
   "execution_count": null,
   "metadata": {},
   "outputs": [],
   "source": [
    "#we can also filter with a condition:\n",
    "even_squares = [x**2 for x in range(10) if x % 2 == 0]\n",
    "print(even_squares)  # Outputs: [0, 4, 16, 36, 64]\n"
   ]
  },
  {
   "cell_type": "code",
   "execution_count": null,
   "metadata": {},
   "outputs": [],
   "source": [
    "#nested list comprehensions: \n",
    "\n",
    "matrix = [[1, 2, 3], [4, 5, 6], [7, 8, 9]]\n",
    "flattened = [num for row in matrix for num in row]\n",
    "print(flattened)  # Outputs: [1, 2, 3, 4, 5, 6, 7, 8, 9]\n"
   ]
  },
  {
   "cell_type": "code",
   "execution_count": 6,
   "metadata": {},
   "outputs": [
    {
     "name": "stdout",
     "output_type": "stream",
     "text": [
      "[0, 64, 256, 576, 1024, 1600, 2304]\n"
     ]
    }
   ],
   "source": [
    "# A list comprehension can act as map and filter\n",
    "# on one line\n",
    "# Generate a list of 50 values and take them to the power\n",
    "# of 2 and return all that are multiples of 8\n",
    "\n",
    "print([i ** 2 for i in range(50) if i % 8 == 0])"
   ]
  },
  {
   "cell_type": "code",
   "execution_count": 7,
   "metadata": {},
   "outputs": [
    {
     "name": "stdout",
     "output_type": "stream",
     "text": [
      "[11, 12, 13, 14, 15, 22, 24, 26, 28, 30]\n"
     ]
    }
   ],
   "source": [
    "# You can have multiple for loops as well\n",
    "# Multiply all values in one list times all values in\n",
    "# another\n",
    "print([x * y for x in range(1, 3) for y in range(11, 16)])"
   ]
  },
  {
   "cell_type": "code",
   "execution_count": null,
   "metadata": {},
   "outputs": [],
   "source": [
    "# You can put list comprehensions in list comprehensions\n",
    "# Generate a list of 10 values, multiply them by 2 and\n",
    "# return multiples of 8\n",
    "print([x for x in [i * 2 for i in range(10)] if x % 8 == 0])"
   ]
  },
  {
   "cell_type": "code",
   "execution_count": 8,
   "metadata": {},
   "outputs": [
    {
     "name": "stdout",
     "output_type": "stream",
     "text": [
      "[18, 540, 594, 9, 171, 423, 90, 981, 648]\n"
     ]
    }
   ],
   "source": [
    "# Python Problem for you to Solve\n",
    "#\n",
    "# Generate a list of 50 random values between 1 and 1000 and return those that are multiples of 9\n",
    "# You’ll have to use a list comprehension in a list comprehension\n",
    "\n",
    "import random\n",
    "\n",
    "print([x for x in [random.randint(1, 1001) for i in range(50)] if x % 9 == 0])\n"
   ]
  },
  {
   "cell_type": "code",
   "execution_count": 9,
   "metadata": {},
   "outputs": [
    {
     "name": "stdout",
     "output_type": "stream",
     "text": [
      "[2, 5, 8]\n"
     ]
    }
   ],
   "source": [
    "# List comprehensions also make it easy to work with\n",
    "# multidimensional lists\n",
    "\n",
    "multi_list = [[1, 2, 3],\n",
    "              [4, 5, 6],\n",
    "              [7, 8, 9]]\n",
    "\n",
    "print([col[1] for col in multi_list])"
   ]
  },
  {
   "cell_type": "code",
   "execution_count": 10,
   "metadata": {},
   "outputs": [
    {
     "name": "stdout",
     "output_type": "stream",
     "text": [
      "[1, 5, 9]\n"
     ]
    }
   ],
   "source": [
    "# Get the diagonal by incrementing 0, 0 -> 1, 1 -> 2, 2\n",
    "print([multi_list[i][i] for i in range(len(multi_list))])"
   ]
  },
  {
   "cell_type": "markdown",
   "metadata": {},
   "source": [
    "## Generator functions: \n",
    "\n",
    "\n",
    "A generator function returns a result generator when called\n",
    "\n",
    "They can be suspended and resumed during execution of your program to create results over time rather then all at once\n",
    "\n",
    "We use generators when we want to big result set, but we don't want to slow down the program by creating it all at one time\n"
   ]
  },
  {
   "cell_type": "code",
   "execution_count": 17,
   "metadata": {},
   "outputs": [
    {
     "name": "stdout",
     "output_type": "stream",
     "text": [
      "0\n",
      "2\n",
      "4\n",
      "6\n",
      "8\n"
     ]
    }
   ],
   "source": [
    "#simple example to generate even numbers:\n",
    "#difference here is the use of the yield function, that allows\n",
    "# the function to produce prime numbers one by one\n",
    "\n",
    "def generate_evens(n):\n",
    "    for i in range(n):\n",
    "        if i % 2 == 0:\n",
    "            yield i\n",
    "\n",
    "#to use the generator: \n",
    "\n",
    "evens = generate_evens(10) #evens up to 10\n",
    "\n",
    "for even in evens: \n",
    "    print(even)\n",
    "    \n",
    "print(next(evens))  # Outputs the next prime number\n"
   ]
  },
  {
   "cell_type": "code",
   "execution_count": 18,
   "metadata": {},
   "outputs": [
    {
     "name": "stdout",
     "output_type": "stream",
     "text": [
      "Prime : 2\n",
      "Prime : 3\n",
      "Prime : 5\n"
     ]
    }
   ],
   "source": [
    "def is_prime(num):\n",
    "    # This for loop cycles through primes from 2 to\n",
    "    # the value to check\n",
    "    for i in range(2, num):\n",
    "        # If any division has no remainder we know it\n",
    "        # isn't a prime number\n",
    "        if (num % i) == 0:\n",
    "            return False\n",
    "    return True\n",
    "\n",
    "# This is the generator\n",
    "def gen_primes(max_number):\n",
    "    # This for loop cycles through primes from 2 to\n",
    "    # the maximum value requested\n",
    "    for num1 in range(2, max_number):\n",
    "        if is_prime(num1):\n",
    "            # yield is what makes this a generator\n",
    "            # When called by next it will return the\n",
    "            # next result\n",
    "            yield num1\n",
    "\n",
    "# Create a reference to the generator\n",
    "prime = gen_primes(50)\n",
    "\n",
    "# Call next for each result\n",
    "print(\"Prime :\", next(prime))\n",
    "print(\"Prime :\", next(prime))\n",
    "print(\"Prime :\", next(prime))"
   ]
  },
  {
   "cell_type": "code",
   "execution_count": 19,
   "metadata": {},
   "outputs": [
    {
     "name": "stdout",
     "output_type": "stream",
     "text": [
      "Double : 0\n",
      "Double : 2\n",
      "4\n",
      "6\n",
      "8\n",
      "10\n",
      "12\n",
      "14\n",
      "16\n",
      "18\n"
     ]
    }
   ],
   "source": [
    "# Generator Expressions\n",
    "\n",
    "# Generator expressions look just like list comprehensions but they return results one at a time\n",
    "# The are surrounded by parentheses instead of [ ]\n",
    "\n",
    "double = (x * 2 for x in range(10))\n",
    "\n",
    "print(\"Double :\", next(double))\n",
    "print(\"Double :\", next(double))\n",
    "\n",
    "# You can iterate through all results as well\n",
    "for num in double:\n",
    "    print(num)"
   ]
  },
  {
   "cell_type": "code",
   "execution_count": null,
   "metadata": {},
   "outputs": [],
   "source": []
  },
  {
   "cell_type": "markdown",
   "metadata": {},
   "source": [
    "## EXERCISES (from ChatGPT output)"
   ]
  },
  {
   "cell_type": "code",
   "execution_count": 3,
   "metadata": {},
   "outputs": [
    {
     "name": "stdout",
     "output_type": "stream",
     "text": [
      "[1, 9, 25, 49, 81]\n"
     ]
    }
   ],
   "source": [
    "# Exercise 1: Squared Odds\n",
    "# Given a list of integers, use a list comprehension to generate a list containing the squares of the odd numbers in the original list.\n",
    "numbers = [1, 2, 3, 4, 5, 6, 7, 8, 9]\n",
    "\n",
    "squared = [x**2 for x in numbers if x % 2 != 0]\n",
    "print(squared)\n",
    "\n",
    "##CORRECT"
   ]
  },
  {
   "cell_type": "code",
   "execution_count": 5,
   "metadata": {},
   "outputs": [
    {
     "ename": "SyntaxError",
     "evalue": "expected 'else' after 'if' expression (2129172567.py, line 7)",
     "output_type": "error",
     "traceback": [
      "\u001b[0;36m  Cell \u001b[0;32mIn[5], line 7\u001b[0;36m\u001b[0m\n\u001b[0;31m    common = [print x if x in list_a and list_b]\u001b[0m\n\u001b[0m                    ^\u001b[0m\n\u001b[0;31mSyntaxError\u001b[0m\u001b[0;31m:\u001b[0m expected 'else' after 'if' expression\n"
     ]
    }
   ],
   "source": [
    "# Given two lists of integers, use a list comprehension to produce a list \n",
    "# of elements that are common to both lists (without duplicates).\n",
    "list_a = [1, 2, 3, 4, 5]\n",
    "list_b = [4, 5, 6, 7, 8]\n",
    "# Your list comprehension here\n",
    "\n",
    "common = [x if x in list_a and list_b]\n",
    "\n",
    "# Expected Output: [4, 5]\n"
   ]
  }
 ],
 "metadata": {
  "kernelspec": {
   "display_name": "Python 3.11.5 64-bit ('3.11.5')",
   "language": "python",
   "name": "python3"
  },
  "language_info": {
   "codemirror_mode": {
    "name": "ipython",
    "version": 3
   },
   "file_extension": ".py",
   "mimetype": "text/x-python",
   "name": "python",
   "nbconvert_exporter": "python",
   "pygments_lexer": "ipython3",
   "version": "3.11.5"
  },
  "orig_nbformat": 4,
  "vscode": {
   "interpreter": {
    "hash": "8a020f0468ae81928ad4bc008a26ee09f2e560467c7765c205bb40f6a96b7995"
   }
  }
 },
 "nbformat": 4,
 "nbformat_minor": 2
}

{
 "cells": [
  {
   "cell_type": "markdown",
   "metadata": {},
   "source": [
    "Iterables - part of vid 24"
   ]
  },
  {
   "cell_type": "code",
   "execution_count": null,
   "metadata": {},
   "outputs": [],
   "source": [
    "# An iterable is a stored sequence of values (list) or, as we will see when we cover generators, an object that produces one value at a time\n",
    "\n",
    "# Iterables differ from iterators in that an iterable is an object with an __iter__ method which returns an iterator\n",
    "# An iterator is an object with a __next__ method which retrieves the next value from sequence of values"
   ]
  },
  {
   "cell_type": "code",
   "execution_count": 4,
   "metadata": {},
   "outputs": [
    {
     "name": "stdout",
     "output_type": "stream",
     "text": [
      "Char : S\n",
      "Char : a\n"
     ]
    }
   ],
   "source": [
    "# Define a string and convert it into an iterator\n",
    "samp_str = iter(\"Sample\")\n",
    "\n",
    "print(\"Char :\", next(samp_str))\n",
    "print(\"Char :\", next(samp_str))\n",
    "\n",
    "#will print out each next value every time we print next"
   ]
  },
  {
   "cell_type": "code",
   "execution_count": 5,
   "metadata": {},
   "outputs": [
    {
     "name": "stdout",
     "output_type": "stream",
     "text": [
      "A\n",
      "B\n",
      "C\n",
      "D\n",
      "E\n",
      "F\n",
      "G\n",
      "H\n",
      "I\n",
      "J\n",
      "K\n",
      "L\n",
      "M\n",
      "N\n",
      "O\n",
      "P\n",
      "Q\n",
      "R\n",
      "S\n",
      "T\n",
      "U\n",
      "V\n",
      "W\n",
      "X\n",
      "Y\n",
      "Z\n"
     ]
    }
   ],
   "source": [
    "# Custom Iterable\n",
    "# Now I’ll show how you can add iterator behavior to your custom classes\n",
    "\n",
    "class Alphabet:\n",
    "    def __init__(self):\n",
    "        self.letters = \"ABCDEFGHIJKLMNOPQRSTUVWXYZ\"\n",
    "        self.index = -1\n",
    "\n",
    "    #when you are defining an iterator, this __iter__ special command means it should return the iterator object itself\n",
    "    #i.e. self.\n",
    "    def __iter__(self):\n",
    "        return self\n",
    "    #this method returns the next value in the sequence. When there are no more \n",
    "    #items to return, it raises the StopIteration exception.\n",
    "    def __next__(self):\n",
    "        if self.index >= len(self.letters) - 1: #checks the end of the iteration\n",
    "            raise StopIteration\n",
    "        self.index += 1\n",
    "        return self.letters[self.index]\n",
    "\n",
    "alpha = Alphabet()\n",
    "\n",
    "for letter in alpha:\n",
    "    print(letter)"
   ]
  },
  {
   "cell_type": "code",
   "execution_count": null,
   "metadata": {},
   "outputs": [],
   "source": [
    "\n",
    "# Iterate through a dictionary because it is an iterable\n",
    "derek = {\"fName\": \"Derek\", \"lName\": \"Banas\"}\n",
    "\n",
    "for key in derek:\n",
    "    print(key, derek[key])\n",
    "\n",
    "# Python Problem for you to Solve\n",
    "\n",
    "# It’s time for another problem\n",
    "# Create a class that returns values from the Fibonacci sequence each time next is called\n",
    "\n",
    "# Sample Output\n",
    "# Fib : 1\n",
    "# Fib : 2\n",
    "# Fib : 3\n",
    "# Fib : 5\n",
    "\n",
    "class FibGenerator:\n",
    "    def __init__(self):\n",
    "        self.first = 0\n",
    "        self.second = 1\n",
    "\n",
    "    def __iter__(self):\n",
    "        return self\n",
    "\n",
    "    def __next__(self):\n",
    "        fib_num = self.first + self.second\n",
    "        self.first = self.second\n",
    "        self.second = fib_num\n",
    "        return fib_num\n",
    "\n",
    "fib_seq = FibGenerator()\n",
    "\n",
    "for i in range(10):\n",
    "    print(\"Fib :\", next(fib_seq))"
   ]
  }
 ],
 "metadata": {
  "kernelspec": {
   "display_name": "Python 3.11.5 64-bit ('3.11.5')",
   "language": "python",
   "name": "python3"
  },
  "language_info": {
   "codemirror_mode": {
    "name": "ipython",
    "version": 3
   },
   "file_extension": ".py",
   "mimetype": "text/x-python",
   "name": "python",
   "nbconvert_exporter": "python",
   "pygments_lexer": "ipython3",
   "version": "3.11.5"
  },
  "orig_nbformat": 4,
  "vscode": {
   "interpreter": {
    "hash": "8a020f0468ae81928ad4bc008a26ee09f2e560467c7765c205bb40f6a96b7995"
   }
  }
 },
 "nbformat": 4,
 "nbformat_minor": 2
}

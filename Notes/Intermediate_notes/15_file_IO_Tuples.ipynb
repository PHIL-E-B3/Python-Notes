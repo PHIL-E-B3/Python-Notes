{
 "cells": [
  {
   "cell_type": "markdown",
   "metadata": {},
   "source": [
    "FILE INPUT OUTPUT NOTES + TUPLES"
   ]
  },
  {
   "cell_type": "markdown",
   "metadata": {},
   "source": [
    "Part of video 15 of udemy course + other notes"
   ]
  },
  {
   "cell_type": "markdown",
   "metadata": {},
   "source": [
    "**Opening/writing/zipping/compressing files \n",
    "\n",
    "To start interacting with files in python, you use input and output functions. \n",
    "The basic function file = open('file_name', 'r') will allow you to start interacting with the file.\n",
    "This function above creates a file object, that you can then interact with. \n",
    "\n",
    "Here some other modes we can use:\n",
    "- `'r'`: Read mode.\n",
    "- `'w'`: Write mode (this will wipe out any existing data and add new content to the file).\n",
    "- `'a'`: Append mode (will add to the end of the file).\n",
    "- `'x'`: Exclusive creation mode (will create a new file, but fails if the file path already exists).\n",
    "- `'b'`: Binary mode.\n",
    "- `'t'`: Text mode.\n",
    "\n",
    "Once you're done using the file, we can close it with: `file.close()`\n",
    "\n",
    "This code will allow you to open a file without having to close it: \n",
    "with open('example.txt', 'r') as file: print(file.read())\n",
    "\n",
    "**Zipping files:** \n",
    "\n",
    "Here's how we can create a new zip file and add existing files to it: \n",
    "import zipfile\n",
    "\n",
    "`with zipfile.ZipFile('archive.zip', 'w') as myzip:\n",
    "    `myzip.write('myfile.txt')\n",
    "\n",
    "If you want to add multiple files to the ZIP file, you can call `.write()` multiple times:\n",
    "\n",
    "with zipfile.ZipFile('archive.zip', 'w') as myzip:\n",
    "    myzip.write('myfile1.txt')\n",
    "    myzip.write('myfile2.txt')\n",
    "    myzip.write('myfile3.txt')\n",
    "\n",
    "**COMPRESSING FILES**\n",
    "\n",
    "import gzip\n",
    "content = b\"Lots of content here\"\n",
    "with gzip.open('file.txt.gz', 'wb') as f:\n",
    "    f.write(content)\n"
   ]
  },
  {
   "cell_type": "code",
   "execution_count": 1,
   "metadata": {},
   "outputs": [],
   "source": [
    "\n",
    "# Writing Text to a File\n",
    "\n",
    "# The os module provides methods for file processing\n",
    "import os\n",
    "\n",
    "# You can create or use an already created file with open\n",
    "\n",
    "# If you use w (write) for mode then the file is\n",
    "# overwritten.\n",
    "# If you use a (append) you add to the end of the file\n",
    "\n",
    "# Text is stored using unicode where numbers represent all possible characters\n",
    "\n",
    "# We start the code with 'with' which guarantees the file\n",
    "# will be closed if the program crashes\n",
    "with open(\"mydata.txt\", mode=\"w\", encoding=\"utf-8\") as myFile:\n",
    "    # You can write to the file with write\n",
    "    # It doesn't add a newline\n",
    "    myFile.write(\"Some random text\\nMore random text\\nAnd some more\")\n"
   ]
  },
  {
   "cell_type": "code",
   "execution_count": 2,
   "metadata": {},
   "outputs": [
    {
     "data": {
      "text/plain": [
       "<_io.TextIOWrapper name='mydata.txt' mode='w' encoding='utf-8'>"
      ]
     },
     "execution_count": 2,
     "metadata": {},
     "output_type": "execute_result"
    }
   ],
   "source": []
  },
  {
   "cell_type": "code",
   "execution_count": 3,
   "metadata": {},
   "outputs": [
    {
     "name": "stdout",
     "output_type": "stream",
     "text": [
      "Some random text\n",
      "More random text\n",
      "And some more\n"
     ]
    }
   ],
   "source": [
    "# Open the file for reading\n",
    "# You don't have to provide a mode because it is\n",
    "# read by default\n",
    "with open(\"mydata.txt\", encoding=\"utf-8\") as my_file:\n",
    "    # We can read data in a few ways\n",
    "    # 1. read() reads everything into 1 string\n",
    "    # 2. readline() reads everything including the first newline\n",
    "    # 3. readlines() returns a list of every line which includes\n",
    "    # each newline\n",
    "\n",
    "    # Use read() to get everything at once\n",
    "    print(my_file.read())"
   ]
  },
  {
   "cell_type": "code",
   "execution_count": 4,
   "metadata": {},
   "outputs": [
    {
     "name": "stdout",
     "output_type": "stream",
     "text": [
      "True\n"
     ]
    }
   ],
   "source": [
    "# Find out if the file is closed\n",
    "print(my_file.closed)"
   ]
  },
  {
   "cell_type": "code",
   "execution_count": 5,
   "metadata": {},
   "outputs": [
    {
     "name": "stdout",
     "output_type": "stream",
     "text": [
      "mydata.txt\n"
     ]
    }
   ],
   "source": [
    "# Get the file name\n",
    "print(my_file.name)"
   ]
  },
  {
   "cell_type": "code",
   "execution_count": 6,
   "metadata": {},
   "outputs": [
    {
     "name": "stdout",
     "output_type": "stream",
     "text": [
      "r\n"
     ]
    }
   ],
   "source": [
    "# Get the access mode of the file\n",
    "print(my_file.mode)"
   ]
  },
  {
   "cell_type": "code",
   "execution_count": 7,
   "metadata": {},
   "outputs": [],
   "source": [
    "# Rename our file\n",
    "os.rename(\"mydata.txt\", \"mydata2.txt\")"
   ]
  },
  {
   "cell_type": "code",
   "execution_count": null,
   "metadata": {},
   "outputs": [],
   "source": [
    "# Delete a file\n",
    "# os.remove(\"mydata.dat\")"
   ]
  },
  {
   "cell_type": "code",
   "execution_count": null,
   "metadata": {},
   "outputs": [],
   "source": [
    "# Create a directory\n",
    "# os.mkdir(\"mydir\")"
   ]
  },
  {
   "cell_type": "code",
   "execution_count": null,
   "metadata": {},
   "outputs": [],
   "source": [
    "# Change directories\n",
    "# os.chdir(\"mydir\")"
   ]
  },
  {
   "cell_type": "code",
   "execution_count": 8,
   "metadata": {},
   "outputs": [
    {
     "name": "stdout",
     "output_type": "stream",
     "text": [
      "Current Directory : /Users/philipbunford/Dropbox/Research/Coding/my notes/UDEMY code files 1-32\n"
     ]
    }
   ],
   "source": [
    "# Display current directory\n",
    "print(\"Current Directory :\", os.getcwd())\n",
    "\n",
    "# Remove a directory, but 1st move back 1 directory\n",
    "# os.chdir(\"..\")\n",
    "# os.rmdir(\"mydir\") BE CAREFUL WITH THIS (that you don't mess your file system)"
   ]
  },
  {
   "cell_type": "code",
   "execution_count": 10,
   "metadata": {},
   "outputs": [
    {
     "name": "stdout",
     "output_type": "stream",
     "text": [
      "Line 1  : Some random text\n",
      "Line 2  : More random text\n",
      "Line 3  : And some more"
     ]
    }
   ],
   "source": [
    "# Read One Line at a Time\n",
    "# You can read one line at a time with readline()\n",
    "# Open the file\n",
    "with open(\"mydata2.txt\", encoding=\"utf-8\") as my_file:\n",
    "\n",
    "    lineNum = 1\n",
    "\n",
    "    # We'll use a while loop that loops until the data\n",
    "    # read is empty\n",
    "    while True:\n",
    "        line = my_file.readline()\n",
    "\n",
    "        # line is empty so exit\n",
    "        if not line:\n",
    "            break\n",
    "\n",
    "        print(\"Line\", lineNum, \" :\", line, end=\"\")\n",
    "\n",
    "        lineNum += 1"
   ]
  },
  {
   "cell_type": "code",
   "execution_count": null,
   "metadata": {},
   "outputs": [],
   "source": [
    "#let's try a problem\n",
    "#cycle through each line of text and output the no. of words and average word length\n",
    "\n",
    "#my try\n",
    "import os\n",
    "with open(\"mydata.txt\", mode=\"w\", encoding= \"utf-8\") as my_file:\n",
    "  my_file.write(\"Some random text\\nMore random text\\nAnd some more\")\n",
    "\n",
    "with open(\"mydata.txt\", mode=\"w\", encoding= \"utf-8\") as my_file:\n",
    "  line_num = 1\n",
    "  while True:\n",
    "    line = my_file.readline()\n",
    "    if not line:\n",
    "      break\n",
    "    print(\"Line\", line_num)\n",
    "    word_list = line.split()\n",
    "    print(\"Number of words:\", len(word_list))\n",
    "    char_count = 0\n",
    "    for word in word_list:\n",
    "      for char in word:\n",
    "        char_count += 1\n",
    "    avg_num_chars = char_count/len(word_list)\n",
    "    print(\"avg word length: {:.2f}\".format(avg_num_chars))\n",
    "    line_num += 1\n",
    "\n",
    "\n",
    "\n",
    "\n"
   ]
  },
  {
   "cell_type": "markdown",
   "metadata": {},
   "source": [
    "TUPLES"
   ]
  },
  {
   "cell_type": "code",
   "execution_count": 11,
   "metadata": {},
   "outputs": [
    {
     "name": "stdout",
     "output_type": "stream",
     "text": [
      "1st Value : 1\n"
     ]
    }
   ],
   "source": [
    "# Tuples\n",
    "\n",
    "# A Tuple is like a list, but their values can't be changed\n",
    "# Tuples are surrounded with parentheses instead of square brackets\n",
    "\n",
    "my_tuple = (1, 2, 3, 5, 8)\n",
    "\n",
    "# Get a value with an index\n",
    "print(\"1st Value :\", my_tuple[0])"
   ]
  },
  {
   "cell_type": "code",
   "execution_count": 12,
   "metadata": {},
   "outputs": [
    {
     "name": "stdout",
     "output_type": "stream",
     "text": [
      "(1, 2, 3)\n"
     ]
    }
   ],
   "source": [
    "# Get a slice from the 1st index up to but not including\n",
    "# the 3rd\n",
    "print(my_tuple[0:3])"
   ]
  },
  {
   "cell_type": "code",
   "execution_count": 13,
   "metadata": {},
   "outputs": [
    {
     "name": "stdout",
     "output_type": "stream",
     "text": [
      "Tuple Length : 5\n"
     ]
    }
   ],
   "source": [
    "# Get the number of items in a Tuple\n",
    "print(\"Tuple Length :\", len(my_tuple))"
   ]
  },
  {
   "cell_type": "code",
   "execution_count": 14,
   "metadata": {},
   "outputs": [],
   "source": [
    "# Join or concatenate tuples\n",
    "more_fibs = my_tuple + (13, 21, 34)"
   ]
  },
  {
   "cell_type": "code",
   "execution_count": 15,
   "metadata": {},
   "outputs": [
    {
     "name": "stdout",
     "output_type": "stream",
     "text": [
      "34 in Tuple : True\n"
     ]
    }
   ],
   "source": [
    "# Check if a value is in a Tuple\n",
    "print(\"34 in Tuple :\", 34 in more_fibs)"
   ]
  },
  {
   "cell_type": "code",
   "execution_count": 16,
   "metadata": {},
   "outputs": [
    {
     "name": "stdout",
     "output_type": "stream",
     "text": [
      "1\n",
      "2\n",
      "3\n",
      "5\n",
      "8\n",
      "13\n",
      "21\n",
      "34\n"
     ]
    }
   ],
   "source": [
    "# Iterate through a tuple\n",
    "for i in more_fibs:\n",
    "    print(i)"
   ]
  },
  {
   "cell_type": "code",
   "execution_count": 17,
   "metadata": {},
   "outputs": [],
   "source": [
    "# Convert a List into a Tuple\n",
    "a_list = [55, 89, 144]\n",
    "a_tuple = tuple(a_list)"
   ]
  },
  {
   "cell_type": "code",
   "execution_count": 18,
   "metadata": {},
   "outputs": [],
   "source": [
    "# Convert a Tuple into a List\n",
    "a_list = list(a_tuple)"
   ]
  },
  {
   "cell_type": "code",
   "execution_count": 19,
   "metadata": {},
   "outputs": [
    {
     "name": "stdout",
     "output_type": "stream",
     "text": [
      "Min : 55\n",
      "Max : 144\n"
     ]
    }
   ],
   "source": [
    "# Get max and minimum value\n",
    "print(\"Min :\", min(a_tuple))\n",
    "print(\"Max :\", max(a_tuple))"
   ]
  }
 ],
 "metadata": {
  "kernelspec": {
   "display_name": "Python 3.10.12 64-bit",
   "language": "python",
   "name": "python3"
  },
  "language_info": {
   "codemirror_mode": {
    "name": "ipython",
    "version": 3
   },
   "file_extension": ".py",
   "mimetype": "text/x-python",
   "name": "python",
   "nbconvert_exporter": "python",
   "pygments_lexer": "ipython3",
   "version": "3.10.12"
  },
  "orig_nbformat": 4,
  "vscode": {
   "interpreter": {
    "hash": "bd385fe162c5ca0c84973b7dd5c518456272446b2b64e67c2a69f949ca7a1754"
   }
  }
 },
 "nbformat": 4,
 "nbformat_minor": 2
}

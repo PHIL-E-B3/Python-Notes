{
 "cells": [
  {
   "cell_type": "markdown",
   "metadata": {},
   "source": [
    "### Exercises"
   ]
  },
  {
   "cell_type": "code",
   "execution_count": 5,
   "metadata": {},
   "outputs": [
    {
     "name": "stdout",
     "output_type": "stream",
     "text": [
      "Number of students who don't play any sports: 20\n"
     ]
    }
   ],
   "source": [
    "# Exercise 1: Venn Diagrams\n",
    "total_students = 100\n",
    "football_players = 60\n",
    "basketball_players = 50\n",
    "both_sports_players = 30\n",
    "\n",
    "football_only = football_players - both_sports_players\n",
    "basketball_only = basketball_players - both_sports_players\n",
    "\n",
    "no_sport = total_students - football_only - basketball_only - both_sports_players\n",
    "\n",
    "print(f'Number of students who don\\'t play any sports: {no_sport}')\n"
   ]
  },
  {
   "cell_type": "code",
   "execution_count": 13,
   "metadata": {},
   "outputs": [
    {
     "name": "stdout",
     "output_type": "stream",
     "text": [
      "Probability of picking a green ball followed by a red ball: 24.00%\n"
     ]
    }
   ],
   "source": [
    "\n",
    "# Exercise 2: Tree Diagrams\n",
    "red_balls = 3\n",
    "green_balls = 2\n",
    "\n",
    "# Your code here...\n",
    "\n",
    "# Example Output:\n",
    "# Probability of picking a green ball followed by a red ball: XX%\n",
    "\n",
    "tot = red_balls + green_balls\n",
    "\n",
    "p_red = red_balls/tot\n",
    "p_green = green_balls/tot\n",
    "\n",
    "p_green_then_red = p_red*p_green\n",
    "\n",
    "print(f'Probability of picking a green ball followed by a red ball: {p_green_then_red:.2%}') \n"
   ]
  },
  {
   "cell_type": "code",
   "execution_count": null,
   "metadata": {},
   "outputs": [],
   "source": [
    "\n",
    "# Exercise 3: Discrete Uniform Distribution\n",
    "# Your code here...\n",
    "\n",
    "# Example Output:\n",
    "# Probability of rolling a [X]: XX%\n",
    "\n",
    "dice_sides = 6\n",
    "p_roll_1_side = 1/dice_sides\n",
    "\n"
   ]
  },
  {
   "cell_type": "code",
   "execution_count": null,
   "metadata": {},
   "outputs": [],
   "source": [
    "# Exercise 4: Variance\n",
    "data_set = [5, 7, 8, 7, 2, 10, 4, 8]\n",
    "\n",
    "# Your code here...\n",
    "\n",
    "# Example Output:\n",
    "# Variance: XX.XX\n",
    "\n",
    "def dud_variance(min_val,max_val):\n",
    "    "
   ]
  }
 ],
 "metadata": {
  "kernelspec": {
   "display_name": "Python 3.10.12 64-bit",
   "language": "python",
   "name": "python3"
  },
  "language_info": {
   "codemirror_mode": {
    "name": "ipython",
    "version": 3
   },
   "file_extension": ".py",
   "mimetype": "text/x-python",
   "name": "python",
   "nbconvert_exporter": "python",
   "pygments_lexer": "ipython3",
   "version": "3.10.12"
  },
  "orig_nbformat": 4,
  "vscode": {
   "interpreter": {
    "hash": "bd385fe162c5ca0c84973b7dd5c518456272446b2b64e67c2a69f949ca7a1754"
   }
  }
 },
 "nbformat": 4,
 "nbformat_minor": 2
}

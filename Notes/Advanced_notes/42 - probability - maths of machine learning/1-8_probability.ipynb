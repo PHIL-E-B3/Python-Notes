{
 "cells": [
  {
   "cell_type": "markdown",
   "metadata": {},
   "source": [
    "## Probability\n",
    "\n",
    "#### - part 1 and 2\n",
    "\n",
    "How likely will an event occur? \n",
    "\n",
    "1: Certain it will occur\n",
    "0: Certain it will not occur\n",
    "\n",
    "P(A)\n",
    "P: Probability\n",
    "A: Event\n",
    "\n",
    "P(A) = Preferred Event / All events\n",
    "\n",
    "E.g. Coin flip: \n",
    "\n",
    "P(A) = Heads/2 = 0.5\n",
    "\n"
   ]
  },
  {
   "cell_type": "code",
   "execution_count": 13,
   "metadata": {},
   "outputs": [
    {
     "name": "stdout",
     "output_type": "stream",
     "text": [
      "Heads: 54\n",
      "tails: 46\n"
     ]
    }
   ],
   "source": [
    "import random\n",
    "from random import randrange\n",
    "\n",
    "flip_list = []\n",
    "\n",
    "for i in range(1,101):\n",
    "    flip_list += random.choice(['H','T'])\n",
    "    \n",
    "print(\"Heads:\",flip_list.count('H'))\n",
    "print(\"tails:\",flip_list.count('T'))\n",
    "\n"
   ]
  },
  {
   "cell_type": "code",
   "execution_count": 28,
   "metadata": {},
   "outputs": [
    {
     "name": "stdout",
     "output_type": "stream",
     "text": [
      "2 : 8 : 0.02 \n",
      "3 : 30 : 0.06 \n",
      "4 : 42 : 0.08 \n",
      "5 : 64 : 0.13 \n",
      "6 : 61 : 0.12 \n",
      "7 : 77 : 0.15 \n",
      "8 : 69 : 0.14 \n",
      "9 : 65 : 0.13 \n",
      "10 : 41 : 0.08 \n",
      "11 : 23 : 0.05 \n",
      "12 : 21 : 0.04 \n"
     ]
    }
   ],
   "source": [
    "#Single Die roll\n",
    "# P(A) = 1/6 = 0.167\n",
    "\n",
    "#double dice roll (e.g. double 6) with a total of 36 possible rolls. \n",
    "#so 1/36 chance occuring\n",
    "#the greatest probability is of rolling a 7 --> p = 0.16\n",
    "#this is because simply, there are more ways to roll a 7 with 2 die. \n",
    "\n",
    "dice_list = []\n",
    "\n",
    "#the double dice rolls\n",
    "for i in range(0,501):\n",
    "    dice_list.append((randrange(1,7)+ randrange(1,7)))\n",
    "    \n",
    "#\n",
    "for i in range(2,13):\n",
    "    print(f\"{i} : {dice_list.count(i)} : {dice_list.count(i)/500:.2f} \")\n"
   ]
  },
  {
   "cell_type": "markdown",
   "metadata": {},
   "source": [
    "#### Event compliments\n",
    " A': Event complement --> everything it is not \n",
    "Sum of events equals 1\n",
    "\n",
    "A' the probability that you will not roll a 1 is 5/6 (because 1/6 + 1/6 + ...)\n",
    "\n",
    "P(2 or 1) = P(2) + P(1) - P(1 AND 2)\n",
    "20/36\n",
    "\n",
    "Not 2: \n",
    "25/36 = .69\n",
    "\n",
    "P(NOT 6 AND 6)\n",
    "P(6 and 6) = 1/36\n",
    "P(NOT 6 AND 6) = 36/36 - 1/36 = 0.97"
   ]
  },
  {
   "cell_type": "markdown",
   "metadata": {},
   "source": [
    "\n",
    "#### Combinatorics \n",
    "- count the number of ways Items can be ordered\n",
    "- Permutations - arrangement of objects in a specific orders\n",
    "    -No. of ways Items can be arranged: \n",
    "    - found with a factorial\n",
    "    - n! = 1 * 2 * 3 * ... * n\n",
    "    - e.g. 3 books called [A,B,C] can be arranged in many different ways\n",
    "    - If a sequence is ordered differently, it is considered a different permutation\n",
    "    - to calculate the number of permutation of a set of n distinct items taken r at a time (where r <= n) is given by: \n",
    "    - n represents n factorial. \n",
    "    - e.g. You're the coach of a 4 member relay team, and need to decide the order in which the team members will run. How many different orders (permutations) can we choose from? (using the formula, we get to 24 different ways it can happen)\n",
    "\n",
    "$$\n",
    "P(n,r) = \\frac{n!}{(n-r)!}\n",
    "$$"
   ]
  },
  {
   "cell_type": "markdown",
   "metadata": {},
   "source": [
    "#### Variations\n",
    "\n",
    "Variations with repetition: \n",
    "- the way we can select r items from n items when repetition is allowed and order matters. \n",
    "- Formula:\n",
    "\n",
    "$$\n",
    "V(n,r) = n^r\n",
    "$$\n",
    "\n",
    "- n is the total items to choose from\n",
    "- r is the number of items to choose"
   ]
  },
  {
   "cell_type": "markdown",
   "metadata": {},
   "source": [
    "Let's craft an example: \n",
    "- lock with a 3-digit code. Each digit can be any no. from 0-9 (so 10 numbers) \n",
    "- the order matters, so that 123 is different from 321. (this is because the numbers can be repeated (e.g. 007, 111, 989 are all valid))\n",
    "\n",
    "using the formula: \n",
    "\n",
    "n = 10 (because there are 10 digits)\n",
    "r = 3 (the code has 3 digits)\n",
    "\n",
    "so V(10,3) = 10^3 = 1000\n",
    "\n",
    "So, there are 1000 "
   ]
  },
  {
   "cell_type": "markdown",
   "metadata": {},
   "source": [
    "So how do we decide when to use permutations ?\n",
    "\n",
    "- we will use them when we have an equal number of elements as well as positions\n",
    "- variations when we have more elements than positions\n",
    "- combinations when we care about what elements made it into a position\n"
   ]
  },
  {
   "cell_type": "markdown",
   "metadata": {},
   "source": [
    "What are the odds of rolling an 11: \n",
    "- one might say the answer is 0.06 - i.e. before both dies are thrown\n",
    "- however, when one die is thrown, it becomes conditional probability, as the outcome of the first die changes the overall probability. \n",
    "\n",
    "Prob before die is rolled: 0.06\n",
    "\n",
    "What is the prob of rolling an 11 with both dices, given that 5 has already been rolled with the first. \n",
    "- P(11|5)\n",
    "\n"
   ]
  },
  {
   "cell_type": "markdown",
   "metadata": {},
   "source": [
    "Formula for conditional probability: \n",
    "\n",
    "$$\n",
    "P(A|B) = \\frac{P(A \\cap B)}{P(B)}\n",
    "$$\n"
   ]
  },
  {
   "cell_type": "markdown",
   "metadata": {},
   "source": [
    "so, to solve P(6/5) = 1/36 / 1/6 = 0.167\n",
    "\n",
    "--> dice rolls on their own are independent events (1 doesn't affect the other) \n",
    "--> but as soon as the value of one dice is known, it does affect the chance that the sum is 11 (so they're dependent events) "
   ]
  },
  {
   "cell_type": "markdown",
   "metadata": {},
   "source": [
    "Probability based on Multiple dice throws: \n",
    "\n",
    "- what is the probability of rolling a 1 with 4 dice throws? \n",
    "- we calculate the odds of not rolling a 1\n",
    "- (5/6)^4 = 0.482\n",
    "- 1- 0.482 = 0.518"
   ]
  },
  {
   "cell_type": "markdown",
   "metadata": {},
   "source": [
    "### Probability pt. 3 - Probability symbols"
   ]
  },
  {
   "cell_type": "markdown",
   "metadata": {},
   "source": [
    "1. \\( a \\) in set \\( A \\): \n",
    "$$ a \\in A $$\n",
    "\n",
    "2. \\( b \\) is not in set \\( A \\):  \n",
    "$$ b \\notin A $$\n",
    "\n",
    "3. For all: \n",
    "$$ \\forall $$\n",
    "\n",
    "4. Empty set: \n",
    "$$ \\emptyset $$\n",
    "\n",
    "5. \\( A \\) is a subset of \\( B \\): \n",
    "$$ A \\subseteq B $$\n",
    "\n",
    "6. \\( A \\) has some elements of \\( B \\) (Intersection): \n",
    "$$ A \\cap B $$\n",
    "\n",
    "7. \\( A \\) is not a subset of \\( B \\): \n",
    "$$ A \\nsubseteq B $$\n",
    "\n",
    "8. \\( A \\) has the same elements as \\( B \\) or more (Superset): \n",
    "$$ A \\supseteq B $$\n",
    "\n",
    "9. \\( A \\) doesn't have the same elements as \\( B \\): \n",
    "$$ A \\nsupseteq B $$\n",
    "\n",
    "10. Elements in both \\( A \\) and \\( B \\) (Intersection): \n",
    "$$ A \\cap B $$\n",
    "\n",
    "11. Elements in \\( A \\) or \\( B \\) or both (Union): \n",
    "$$ A \\cup B $$\n",
    "\n",
    "12. There exists: \n",
    "$$ \\exists $$\n",
    "\n",
    "13. Therefore: \n",
    "$$ \\therefore $$\n"
   ]
  }
 ],
 "metadata": {
  "kernelspec": {
   "display_name": "Python 3.10.12 64-bit",
   "language": "python",
   "name": "python3"
  },
  "language_info": {
   "codemirror_mode": {
    "name": "ipython",
    "version": 3
   },
   "file_extension": ".py",
   "mimetype": "text/x-python",
   "name": "python",
   "nbconvert_exporter": "python",
   "pygments_lexer": "ipython3",
   "version": "3.10.12"
  },
  "orig_nbformat": 4,
  "vscode": {
   "interpreter": {
    "hash": "bd385fe162c5ca0c84973b7dd5c518456272446b2b64e67c2a69f949ca7a1754"
   }
  }
 },
 "nbformat": 4,
 "nbformat_minor": 2
}

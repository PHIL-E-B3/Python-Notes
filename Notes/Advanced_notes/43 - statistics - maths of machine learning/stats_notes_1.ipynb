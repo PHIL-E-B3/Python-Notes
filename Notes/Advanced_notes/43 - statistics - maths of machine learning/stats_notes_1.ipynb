{
 "cells": [
  {
   "cell_type": "markdown",
   "metadata": {},
   "source": [
    "## Statistics Notes - Descriptive stats"
   ]
  },
  {
   "cell_type": "markdown",
   "metadata": {},
   "source": [
    "A sample is the subset of the population \n",
    "\n",
    "There are many types of data\n",
    "\n",
    "Categorical\n",
    "- what makes a thing unique: \n",
    "- age; are you a car owner; sex\n",
    "- any answer to a yes/no question\n",
    "\n",
    "Numerical: \n",
    "- either finite\n",
    "- infinite \n",
    "\n",
    "Continuous: \n",
    "- height; weight; time\n",
    "- stuff that can be broken down\n",
    "\n",
    "Qualitative data: \n",
    "- nominal (named data)\n",
    "- e.g. race - many different race, but there's no order \n",
    "\n",
    "Ordinal\n",
    "- also named, but has an order\n",
    "\n",
    "Quantitative\n",
    "- interval; ratios \n",
    "\n",
    "Histograms are drawn from frequency distribution tables. "
   ]
  },
  {
   "cell_type": "markdown",
   "metadata": {},
   "source": [
    "### Mean\n",
    "\n",
    "- average\n",
    "- value of components/number of components\n",
    "- mew: mean of population \n",
    "- xbar: mean of sample\n",
    "- but the outliers effect the result \n"
   ]
  },
  {
   "cell_type": "code",
   "execution_count": 1,
   "metadata": {},
   "outputs": [
    {
     "name": "stdout",
     "output_type": "stream",
     "text": [
      "Mean : 3.0\n"
     ]
    }
   ],
   "source": [
    "#code for mean\n",
    "import math\n",
    "def mean(*args):\n",
    "    val_sum = sum(args)\n",
    "    return val_sum/len(args)\n",
    "\n",
    "print(f\"Mean : {mean(1,2,3,4,5)}\")"
   ]
  },
  {
   "cell_type": "markdown",
   "metadata": {},
   "source": [
    "### Median\n",
    "- tries to eliminate the influence of outliers\n",
    "- returns the number at the very center of the dataset \n",
    "- if no. of items is "
   ]
  },
  {
   "cell_type": "code",
   "execution_count": 7,
   "metadata": {},
   "outputs": [
    {
     "name": "stdout",
     "output_type": "stream",
     "text": [
      "Median: 3\n"
     ]
    }
   ],
   "source": [
    "def median(*args):\n",
    "    if len(args) % 2 == 0:\n",
    "        i = round((len(args) + 1) / 2)\n",
    "        j = i - 1\n",
    "        return (args[i] + args[j]) / 2\n",
    "    else:\n",
    "        k = round(len(args) / 2)\n",
    "        return args[k]\n",
    "\n",
    "print(f\"Median: {median(1,2,3,4,5)}\")"
   ]
  },
  {
   "cell_type": "markdown",
   "metadata": {},
   "source": [
    "### Mode \n",
    "- is the value that occurs most often \n"
   ]
  },
  {
   "cell_type": "code",
   "execution_count": 11,
   "metadata": {},
   "outputs": [
    {
     "name": "stdout",
     "output_type": "stream",
     "text": [
      "Mode: [4, 5]\n"
     ]
    }
   ],
   "source": [
    "\n",
    "def mode(*args):\n",
    "    # Count how many times values show up in\n",
    "    # the list and put it in a dictionary\n",
    "    dict_vals = {i: args.count(i) for i in args}\n",
    "    # Create a list of keys that have the maximum\n",
    "    # number of occurrence in the list\n",
    "    max_list = [k for k, v in dict_vals.items() if v == max(dict_vals.values())]\n",
    "    return max_list\n",
    "\n",
    "print(f\"Mode: {mode(1,2,3,4,5,5,4)}\")\n",
    "\n"
   ]
  },
  {
   "cell_type": "markdown",
   "metadata": {},
   "source": [
    "### Variance: \n",
    "- How is data spread around the mean? \n",
    "- sigma^2: variance of population\n",
    "- s^2: variance of sample"
   ]
  },
  {
   "cell_type": "markdown",
   "metadata": {},
   "source": [
    "The variance of a set of values is given by:\n",
    "\n",
    "$$\n",
    "s^2 = \\frac{\\sum_{i=1}^{n} (x_i - \\bar{x})^2}{n-1}\n",
    "$$\n"
   ]
  },
  {
   "cell_type": "code",
   "execution_count": 17,
   "metadata": {},
   "outputs": [
    {
     "name": "stdout",
     "output_type": "stream",
     "text": [
      "variance: 2.285714285714286\n"
     ]
    }
   ],
   "source": [
    "def variance(*args):\n",
    "    mean_val = mean(*args)\n",
    "    numerator = 0\n",
    "    for i in args:\n",
    "        numerator += (i - mean_val) ** 2\n",
    "    denominator = len(args) - 1\n",
    "    return numerator / denominator\n",
    "\n",
    "\n",
    "print(f\"variance: {variance(1,2,3,4,5,5,4)}\")\n"
   ]
  },
  {
   "cell_type": "markdown",
   "metadata": {},
   "source": [
    "### Standard deviation\n",
    "- because of squared values, variance gives extra weight to outliers. \n",
    "- Standard deviation = square root of variance\n",
    "- sigma: standard deviation of population\n",
    "S: standard deviation of Sample\n",
    "- Large standard deviation = large spread\n",
    "\n",
    "$$\n",
    "s = \\sqrt{\\frac{\\sum_{i=1}^{n} (x_i - \\bar{x})^2}{n-1}}\n",
    "$$\n"
   ]
  },
  {
   "cell_type": "code",
   "execution_count": 19,
   "metadata": {},
   "outputs": [
    {
     "name": "stdout",
     "output_type": "stream",
     "text": [
      "standard deviation: 1.511857892036909\n"
     ]
    }
   ],
   "source": [
    "def standard_deviation(*args):\n",
    "    return math.sqrt(variance(*args))\n",
    "\n",
    "print(f\"standard deviation: {standard_deviation(1,2,3,4,5,5,4)}\")\n"
   ]
  },
  {
   "cell_type": "markdown",
   "metadata": {},
   "source": [
    "Coefficient of Variation: \n",
    "\n",
    "- used to compare multiple datasets\n",
    "- standard deviation/mean\n",
    "\n",
    "$$\n",
    "CV = \\frac{\\sigma}{\\mu} \\times 100\\%\n",
    "$$\n"
   ]
  },
  {
   "cell_type": "code",
   "execution_count": 24,
   "metadata": {},
   "outputs": [
    {
     "name": "stdout",
     "output_type": "stream",
     "text": [
      "CV (miles): 0.17213259316477408\n",
      "CV (km's): 0.17214686292344047\n",
      "we almost get the same number for both\n"
     ]
    }
   ],
   "source": [
    "def coefficient_variation(*args):\n",
    "    return standard_deviation(*args) / mean(*args)\n",
    "\n",
    "print(f\"CV (miles): {coefficient_variation(3,4,4.5,3.5)}\")\n",
    "print(f\"CV (km's): {coefficient_variation(4.828,6.437,7.242,5.632)}\")\n",
    "\n",
    "print(\"we almost get the same number for both\")"
   ]
  },
  {
   "cell_type": "markdown",
   "metadata": {},
   "source": [
    "### Covariance \n",
    "- if 2 groups of data are moving in the same direction\n",
    "- are the earnings affecting the MCAP of a stock?\n",
    "\n",
    "- COV > 0 --> Moving together\n",
    "- COV < 0 --> Moving Opposite\n",
    "- COV = 0 --> Independent (Not related at all)\n"
   ]
  },
  {
   "cell_type": "markdown",
   "metadata": {},
   "source": [
    "Covariance equation:\n",
    "\n",
    "$$\n",
    "\\text{cov}(X, Y) = \\frac{\\sum_{i=1}^{n} (X_i - \\bar{X})(Y_i - \\bar{Y})}{n-1}\n",
    "$$\n"
   ]
  },
  {
   "cell_type": "code",
   "execution_count": 26,
   "metadata": {},
   "outputs": [
    {
     "name": "stdout",
     "output_type": "stream",
     "text": [
      "-3.0\n"
     ]
    }
   ],
   "source": [
    "#one way to create the equation\n",
    "\n",
    "def covariance(X,Y):\n",
    "    if len(X) != len(Y):\n",
    "        raise ValueError(\"Input lists must have the same length\")\n",
    "\n",
    "    mean_X = sum(X)/len(X)\n",
    "    mean_Y = sum(Y)/len(Y)\n",
    "    \n",
    "    covariance_sum = sum([(X[i] - mean_X) * (Y[i] - mean_Y) for i in range(len(X))])\n",
    "    \n",
    "    return covariance_sum / len(X) - 1 \n",
    "\n",
    "X = [1, 2, 3, 4, 5]\n",
    "Y = [5, 4, 3, 2, 1]\n",
    "\n",
    "print(covariance(X, Y))\n"
   ]
  },
  {
   "cell_type": "code",
   "execution_count": 29,
   "metadata": {},
   "outputs": [],
   "source": [
    "#Other way to create a covariance equation\n",
    "def covariance_2(*args):\n",
    "    # Use a list comprehension to get all values\n",
    "    # stored in the 1st & 2nd list\n",
    "    list_1 = [i[0] for i in args]\n",
    "    list_2 = [i[1] for i in args]\n",
    "    # Pass those lists to get their means\n",
    "    list_1_mean = mean(*list_1[0])\n",
    "    list_2_mean = mean(*list_2[0])\n",
    "    numerator = 0"
   ]
  },
  {
   "cell_type": "code",
   "execution_count": 34,
   "metadata": {},
   "outputs": [
    {
     "name": "stdout",
     "output_type": "stream",
     "text": [
      "Stock Covariance : None\n"
     ]
    }
   ],
   "source": [
    "# List that contains market cap in 1st list\n",
    "# and earnings in the 2nd list\n",
    "m_d_list = [[1532, 1488, 1343, 928, 615], [58, 35, 75, 41, 17]]\n",
    "print(f\"Stock Covariance : {covariance_2(m_d_list)}\")\n"
   ]
  },
  {
   "cell_type": "markdown",
   "metadata": {},
   "source": [
    "### Pearson's Correlation Coefficient\n",
    "\n",
    "- adjusts covariance to see relationships\n",
    "- The Pearson correlation coefficient, commonly referred to as the Pearson's\n",
    "r, measures the strength and direction of the linear relationship between two variables. The value of r ranges from -1 to 1.\n",
    "\n",
    "Formula: \n",
    "\n",
    "$$\n",
    "r = \\frac{n(\\sum xy) - (\\sum x)(\\sum y)}{\\sqrt{[n\\sum x^2 - (\\sum x)^2][n\\sum y^2 - (\\sum y)^2]}}\n",
    "$$\n",
    "\n",
    "It can also ve described as:\n",
    "\n",
    "r = Cov(X,Y)/ (S(X) * S(Y))"
   ]
  },
  {
   "cell_type": "code",
   "execution_count": 39,
   "metadata": {},
   "outputs": [
    {
     "name": "stdout",
     "output_type": "stream",
     "text": [
      "Stock Covariance : None\n",
      "L1 SD : 396.2508044155873\n",
      "L2 SD : 22.185580902919806\n"
     ]
    },
    {
     "ename": "TypeError",
     "evalue": "unsupported operand type(s) for /: 'NoneType' and 'float'",
     "output_type": "error",
     "traceback": [
      "\u001b[0;31m---------------------------------------------------------------------------\u001b[0m",
      "\u001b[0;31mTypeError\u001b[0m                                 Traceback (most recent call last)",
      "Cell \u001b[0;32mIn[39], line 20\u001b[0m\n\u001b[1;32m     17\u001b[0m \u001b[38;5;28mprint\u001b[39m(\u001b[38;5;124mf\u001b[39m\u001b[38;5;124m\"\u001b[39m\u001b[38;5;124mStock Covariance : \u001b[39m\u001b[38;5;132;01m{\u001b[39;00mcovariance(m_d_list)\u001b[38;5;132;01m}\u001b[39;00m\u001b[38;5;124m\"\u001b[39m)\n\u001b[1;32m     19\u001b[0m \u001b[38;5;66;03m# Get the Correlation Coefficient\u001b[39;00m\n\u001b[0;32m---> 20\u001b[0m \u001b[38;5;28mprint\u001b[39m(\u001b[38;5;124mf\u001b[39m\u001b[38;5;124m\"\u001b[39m\u001b[38;5;124mCorrelation Coefficient : \u001b[39m\u001b[38;5;132;01m{\u001b[39;00m\u001b[43mcorrelation_coefficient\u001b[49m\u001b[43m(\u001b[49m\u001b[43mm_d_list\u001b[49m\u001b[43m)\u001b[49m\u001b[38;5;132;01m}\u001b[39;00m\u001b[38;5;124m\"\u001b[39m)\n",
      "Cell \u001b[0;32mIn[39], line 12\u001b[0m, in \u001b[0;36mcorrelation_coefficient\u001b[0;34m(*args)\u001b[0m\n\u001b[1;32m     10\u001b[0m \u001b[38;5;66;03m# Get the covariance\u001b[39;00m\n\u001b[1;32m     11\u001b[0m numerator \u001b[38;5;241m=\u001b[39m covariance(\u001b[38;5;241m*\u001b[39margs)\n\u001b[0;32m---> 12\u001b[0m \u001b[38;5;28;01mreturn\u001b[39;00m \u001b[43mnumerator\u001b[49m\u001b[43m \u001b[49m\u001b[38;5;241;43m/\u001b[39;49m\u001b[43m \u001b[49m\u001b[43mdenominator\u001b[49m\n",
      "\u001b[0;31mTypeError\u001b[0m: unsupported operand type(s) for /: 'NoneType' and 'float'"
     ]
    }
   ],
   "source": [
    "def correlation_coefficient(*args):\n",
    "    list_1 = [i[0] for i in args]\n",
    "    list_2 = [i[1] for i in args]\n",
    "    # Pass those lists to get their standard deviations\n",
    "    list_1_sd = standard_deviation(*list_1[0])\n",
    "    list_2_sd = standard_deviation(*list_2[0])\n",
    "    print(f\"L1 SD : {list_1_sd}\")\n",
    "    print(f\"L2 SD : {list_2_sd}\")\n",
    "    denominator = list_1_sd * list_2_sd\n",
    "    # Get the covariance\n",
    "    numerator = covariance(*args)\n",
    "    return numerator / denominator\n",
    "\n",
    "# List that contains market cap in 1st list\n",
    "# and earnings in the 2nd list\n",
    "m_d_list = [[1532, 1488, 1343, 928, 615], [58, 35, 75, 41, 17]]\n",
    "print(f\"Stock Covariance : {covariance(m_d_list)}\")\n",
    "\n",
    "# Get the Correlation Coefficient\n",
    "print(f\"Correlation Coefficient : {correlation_coefficient(m_d_list)}\")\n"
   ]
  }
 ],
 "metadata": {
  "kernelspec": {
   "display_name": "Python 3.10.12 64-bit",
   "language": "python",
   "name": "python3"
  },
  "language_info": {
   "codemirror_mode": {
    "name": "ipython",
    "version": 3
   },
   "file_extension": ".py",
   "mimetype": "text/x-python",
   "name": "python",
   "nbconvert_exporter": "python",
   "pygments_lexer": "ipython3",
   "version": "3.10.12"
  },
  "orig_nbformat": 4,
  "vscode": {
   "interpreter": {
    "hash": "bd385fe162c5ca0c84973b7dd5c518456272446b2b64e67c2a69f949ca7a1754"
   }
  }
 },
 "nbformat": 4,
 "nbformat_minor": 2
}

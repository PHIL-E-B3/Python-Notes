{
 "cells": [
  {
   "cell_type": "markdown",
   "metadata": {},
   "source": [
    "### Statistics Notes 2\n",
    "--> Parsing Data"
   ]
  },
  {
   "cell_type": "code",
   "execution_count": 4,
   "metadata": {},
   "outputs": [],
   "source": [
    "import csv\n",
    "import statistics as stats\n",
    "\n",
    "\n",
    "with open(\"computersales.csv\", newline=\"\") as csv_file:\n",
    "    reader = csv.reader(csv_file)\n",
    "    sales_data = list(reader)\n",
    "    \n",
    "def get_string_data_from_csv(index):\n",
    "    # Will hold column data pulled from CSV file\n",
    "    data_list = [0]*40\n",
    "\n",
    "    # Dictionary that will hold string and count\n",
    "    # of that string in the list\n",
    "    data_dict = {}\n",
    "\n",
    "    # Get items in question from CSV file\n",
    "    for i in range(1, len(sales_data)):\n",
    "        data_list[i] = sales_data[i][index]\n",
    "\n",
    "    # Delete 1st index with no data\n",
    "    del data_list[0]\n",
    "    # Convert to a set to get only unique values\n",
    "    data_set = set(data_list)\n",
    "    unique_list = list(data_set)\n",
    "\n",
    "    for i in range(0, len(unique_list)):\n",
    "        # Get number of times item shows in the list\n",
    "        # using string stored in unique_list\n",
    "        num_of_items = data_list.count(unique_list[i])\n",
    "\n",
    "        # Add key and value to the dictionary\n",
    "        data_dict[unique_list[i]] = num_of_items\n",
    "\n",
    "    return data_dict\n",
    "\n"
   ]
  }
 ],
 "metadata": {
  "kernelspec": {
   "display_name": "Python 3.10.12 64-bit",
   "language": "python",
   "name": "python3"
  },
  "language_info": {
   "codemirror_mode": {
    "name": "ipython",
    "version": 3
   },
   "file_extension": ".py",
   "mimetype": "text/x-python",
   "name": "python",
   "nbconvert_exporter": "python",
   "pygments_lexer": "ipython3",
   "version": "3.10.12"
  },
  "orig_nbformat": 4,
  "vscode": {
   "interpreter": {
    "hash": "bd385fe162c5ca0c84973b7dd5c518456272446b2b64e67c2a69f949ca7a1754"
   }
  }
 },
 "nbformat": 4,
 "nbformat_minor": 2
}

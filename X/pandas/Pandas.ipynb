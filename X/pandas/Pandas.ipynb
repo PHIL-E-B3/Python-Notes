{
  "cells": [
    {
      "cell_type": "markdown",
      "metadata": {
        "id": "yO5YFQQH3aGH"
      },
      "source": [
        "#Pandas tutorial - series\n"
      ]
    },
    {
      "cell_type": "code",
      "execution_count": null,
      "metadata": {
        "id": "456DugSQ2jad"
      },
      "outputs": [],
      "source": [
        "import numpy as np\n",
        "import pandas as pd\n",
        "\n",
        "# Pandas uses something called a dataframe. It is a\n",
        "# 2D data structure that can hold multiple data types.\n",
        "# Columns have labels.\n",
        "\n",
        "# Series are built on top of NumPy arrays.\n",
        "# Create a series by first creating a list\n",
        "list_1 = ['a', 'b', 'c', 'd']\n",
        "\n",
        "# I can define that I want the series indexes to be the\n",
        "# provided labels\n",
        "labels = [1, 2, 3, 4]\n",
        "\n",
        "ser_1 = pd.Series(data=list_1, index=labels)\n",
        "\n",
        "# You can also add a NumPy array\n",
        "arr_1 = np.array([1, 2, 3, 4])\n",
        "ser_2 = pd.Series(arr_1)\n",
        "\n",
        "# You also can quickly add labels and values with a dictionary\n",
        "dict_1 = {\"f_name\": \"Derek\",\n",
        "              \"l_name\": \"Banas\",\n",
        "              \"age\": 44}\n",
        "ser_3 = pd.Series(dict_1)\n",
        "\n",
        "# Get data by label\n",
        "ser_3[\"f_name\"]\n",
        "\n",
        "# You can get the datatype\n",
        "ser_2.dtype\n",
        "\n",
        "# You can perform math operations on series\n",
        "ser_2 + ser_2\n",
        "ser_2 - ser_2\n",
        "ser_2 * ser_2\n",
        "ser_2 / ser_2\n",
        "\n",
        "# You can pass them into NumPy methods\n",
        "# See NumPy tutorial for more math methods\n",
        "np.exp(ser_2)\n",
        "\n",
        "# The difference between Series and ndarray is that operations\n",
        "# align by labels\n",
        "# Create a series from a dictionary\n",
        "ser_4 = pd.Series({4: 5, 5: 6, 6: 7, 7: 8})\n",
        "# If labels don't align you will get NaN\n",
        "ser_2 + ser_4\n",
        "\n",
        "# You can assign names to series\n",
        "ser_4 = pd.Series({8: 9, 9: 10}, name='rand_nums')\n",
        "ser_4.name\n"
      ]
    },
    {
      "cell_type": "markdown",
      "metadata": {
        "id": "PqxlBulTqJYY"
      },
      "source": [
        "#Data Frames - pandas"
      ]
    },
    {
      "cell_type": "code",
      "execution_count": null,
      "metadata": {
        "id": "KXPC8mMDqJJA"
      },
      "outputs": [],
      "source": [
        "import numpy as np\n",
        "from numpy import random\n",
        "import pandas as pd\n",
        "# Create random matrix 2x3 with values between 10 and 50\n",
        "arr_2 = np.random.randint(10, 50, size=(2, 3))\n",
        "\n",
        "# Create DF with data, row labels & column labels\n",
        "df_1 = pd.DataFrame(arr_2, ['A', 'B'], ['C', 'D', 'E'])\n",
        "\n",
        "# Create a DF from multiple series in a dict\n",
        "# If series are of different lengthes extra spaces are NaN\n",
        "dict_3 = {'one': pd.Series([1., 2., 3.], index=['a', 'b', 'c']),\n",
        "         'two': pd.Series([1., 2., 3., 4.], index=['a', 'b', 'c', 'd'])}\n",
        "df_2 = pd.DataFrame(dict_3)\n",
        "df_2\n",
        "\n",
        "# from_dict accepts a column labels and lists\n",
        "pd.DataFrame.from_dict(dict([('A', [1,2,3]), ('B', [4,5,6])]))\n",
        "\n",
        "# You can assign the keys as row labels and column labels separate\n",
        "# with orient='index'\n",
        "pd.DataFrame.from_dict(dict([('A', [1,2,3]), ('B', [4,5,6])]),\n",
        "                      orient='index', columns=['one','two','three'])\n",
        "\n",
        "# Get number of rows and columns as tuple\n",
        "print(df_1.shape)"
      ]
    }
  ],
  "metadata": {
    "colab": {
      "provenance": []
    },
    "kernelspec": {
      "display_name": "Python 3.11.5 64-bit ('3.11.5')",
      "language": "python",
      "name": "python3"
    },
    "language_info": {
      "name": "python",
      "version": "3.11.5"
    },
    "vscode": {
      "interpreter": {
        "hash": "8a020f0468ae81928ad4bc008a26ee09f2e560467c7765c205bb40f6a96b7995"
      }
    }
  },
  "nbformat": 4,
  "nbformat_minor": 0
}

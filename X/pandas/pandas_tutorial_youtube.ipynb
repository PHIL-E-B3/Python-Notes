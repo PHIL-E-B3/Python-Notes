{
 "cells": [
  {
   "cell_type": "markdown",
   "id": "38c459fb",
   "metadata": {
    "papermill": {
     "duration": 0.033002,
     "end_time": "2022-05-04T13:56:00.072943",
     "exception": false,
     "start_time": "2022-05-04T13:56:00.039941",
     "status": "completed"
    },
    "tags": []
   },
   "source": [
    "# Welcome to the Ultimate Pandas Introduction Youtube Tutorial\n",
    "\n",
    "[<img src=\"https://www.pinclipart.com/picdir/big/367-3678882_python-logo-clipart-easy-pandas-python-logo-png.png\" width=\"250\"/>](image.png)\n",
    "\n",
    "Learn the basics on the pandas python library in this tutorial!\n",
    "\n",
    "## This notebook was created as part of the youtube tutorial [which can be found here.](https://www.youtube.com/watch?v=_Eb0utIRdkw)\n",
    "\n",
    "- Check out other videos [on my channel here.](https://www.youtube.com/channel/UCxladMszXan-jfgzyeIMyvw)"
   ]
  },
  {
   "cell_type": "code",
   "execution_count": 1,
   "id": "4899666d",
   "metadata": {
    "execution": {
     "iopub.execute_input": "2022-05-04T13:56:00.145969Z",
     "iopub.status.busy": "2022-05-04T13:56:00.139699Z",
     "iopub.status.idle": "2022-05-04T13:56:00.150476Z",
     "shell.execute_reply": "2022-05-04T13:56:00.149777Z",
     "shell.execute_reply.started": "2021-12-26T17:12:28.988439Z"
    },
    "papermill": {
     "duration": 0.045675,
     "end_time": "2022-05-04T13:56:00.150663",
     "exception": false,
     "start_time": "2022-05-04T13:56:00.104988",
     "status": "completed"
    },
    "tags": []
   },
   "outputs": [],
   "source": [
    "import pandas as pd\n",
    "import numpy as np"
   ]
  },
  {
   "cell_type": "markdown",
   "id": "8fda6764",
   "metadata": {
    "papermill": {
     "duration": 0.03076,
     "end_time": "2022-05-04T13:56:00.213557",
     "exception": false,
     "start_time": "2022-05-04T13:56:00.182797",
     "status": "completed"
    },
    "tags": []
   },
   "source": [
    "## Series"
   ]
  },
  {
   "cell_type": "code",
   "execution_count": 2,
   "id": "55c55457",
   "metadata": {
    "execution": {
     "iopub.execute_input": "2022-05-04T13:56:00.285993Z",
     "iopub.status.busy": "2022-05-04T13:56:00.284918Z",
     "iopub.status.idle": "2022-05-04T13:56:00.287810Z",
     "shell.execute_reply": "2022-05-04T13:56:00.287210Z",
     "shell.execute_reply.started": "2021-12-26T17:12:28.999964Z"
    },
    "papermill": {
     "duration": 0.042862,
     "end_time": "2022-05-04T13:56:00.287957",
     "exception": false,
     "start_time": "2022-05-04T13:56:00.245095",
     "status": "completed"
    },
    "tags": []
   },
   "outputs": [],
   "source": [
    "mydata = ['Boat', 'Car', 'Bike', 'Truck']\n",
    "\n",
    "myseries1 = pd.Series(mydata)"
   ]
  },
  {
   "cell_type": "code",
   "execution_count": 3,
   "id": "5db004a8",
   "metadata": {
    "execution": {
     "iopub.execute_input": "2022-05-04T13:56:00.357078Z",
     "iopub.status.busy": "2022-05-04T13:56:00.356151Z",
     "iopub.status.idle": "2022-05-04T13:56:00.359780Z",
     "shell.execute_reply": "2022-05-04T13:56:00.360299Z",
     "shell.execute_reply.started": "2021-12-26T17:12:29.018304Z"
    },
    "papermill": {
     "duration": 0.041015,
     "end_time": "2022-05-04T13:56:00.360517",
     "exception": false,
     "start_time": "2022-05-04T13:56:00.319502",
     "status": "completed"
    },
    "tags": []
   },
   "outputs": [
    {
     "name": "stdout",
     "output_type": "stream",
     "text": [
      "0     Boat\n",
      "1      Car\n",
      "2     Bike\n",
      "3    Truck\n",
      "dtype: object\n"
     ]
    }
   ],
   "source": [
    "print(myseries1)"
   ]
  },
  {
   "cell_type": "code",
   "execution_count": 4,
   "id": "d6d0d687",
   "metadata": {
    "execution": {
     "iopub.execute_input": "2022-05-04T13:56:00.430894Z",
     "iopub.status.busy": "2022-05-04T13:56:00.429974Z",
     "iopub.status.idle": "2022-05-04T13:56:00.433192Z",
     "shell.execute_reply": "2022-05-04T13:56:00.433897Z",
     "shell.execute_reply.started": "2021-12-26T17:12:29.035861Z"
    },
    "papermill": {
     "duration": 0.041309,
     "end_time": "2022-05-04T13:56:00.434117",
     "exception": false,
     "start_time": "2022-05-04T13:56:00.392808",
     "status": "completed"
    },
    "tags": []
   },
   "outputs": [
    {
     "name": "stdout",
     "output_type": "stream",
     "text": [
      "0     1\n",
      "1    55\n",
      "2    99\n",
      "3    43\n",
      "dtype: int64\n"
     ]
    }
   ],
   "source": [
    "mydata = [1, 55, 99, 43]\n",
    "myseries2 = pd.Series(mydata)\n",
    "print(myseries2)"
   ]
  },
  {
   "cell_type": "markdown",
   "id": "cce62cfc",
   "metadata": {
    "papermill": {
     "duration": 0.031384,
     "end_time": "2022-05-04T13:56:00.499791",
     "exception": false,
     "start_time": "2022-05-04T13:56:00.468407",
     "status": "completed"
    },
    "tags": []
   },
   "source": [
    "## DataFrame"
   ]
  },
  {
   "cell_type": "code",
   "execution_count": 5,
   "id": "46f89f58",
   "metadata": {
    "execution": {
     "iopub.execute_input": "2022-05-04T13:56:00.576063Z",
     "iopub.status.busy": "2022-05-04T13:56:00.575338Z",
     "iopub.status.idle": "2022-05-04T13:56:00.587172Z",
     "shell.execute_reply": "2022-05-04T13:56:00.587751Z",
     "shell.execute_reply.started": "2021-12-26T17:12:29.05434Z"
    },
    "papermill": {
     "duration": 0.054933,
     "end_time": "2022-05-04T13:56:00.587937",
     "exception": false,
     "start_time": "2022-05-04T13:56:00.533004",
     "status": "completed"
    },
    "tags": []
   },
   "outputs": [
    {
     "data": {
      "text/html": [
       "<div>\n",
       "<style scoped>\n",
       "    .dataframe tbody tr th:only-of-type {\n",
       "        vertical-align: middle;\n",
       "    }\n",
       "\n",
       "    .dataframe tbody tr th {\n",
       "        vertical-align: top;\n",
       "    }\n",
       "\n",
       "    .dataframe thead th {\n",
       "        text-align: right;\n",
       "    }\n",
       "</style>\n",
       "<table border=\"1\" class=\"dataframe\">\n",
       "  <thead>\n",
       "    <tr style=\"text-align: right;\">\n",
       "      <th></th>\n",
       "      <th>thing</th>\n",
       "      <th>count</th>\n",
       "    </tr>\n",
       "  </thead>\n",
       "  <tbody>\n",
       "    <tr>\n",
       "      <th>0</th>\n",
       "      <td>Boat</td>\n",
       "      <td>1</td>\n",
       "    </tr>\n",
       "    <tr>\n",
       "      <th>1</th>\n",
       "      <td>Car</td>\n",
       "      <td>55</td>\n",
       "    </tr>\n",
       "    <tr>\n",
       "      <th>2</th>\n",
       "      <td>Bike</td>\n",
       "      <td>99</td>\n",
       "    </tr>\n",
       "    <tr>\n",
       "      <th>3</th>\n",
       "      <td>Truck</td>\n",
       "      <td>43</td>\n",
       "    </tr>\n",
       "  </tbody>\n",
       "</table>\n",
       "</div>"
      ],
      "text/plain": [
       "   thing  count\n",
       "0   Boat      1\n",
       "1    Car     55\n",
       "2   Bike     99\n",
       "3  Truck     43"
      ]
     },
     "execution_count": 5,
     "metadata": {},
     "output_type": "execute_result"
    }
   ],
   "source": [
    "mydfdata = [('Boat', 1), ('Car', 55), ('Bike',99), ('Truck', 43)]\n",
    "\n",
    "mydf = pd.DataFrame(mydfdata, columns=['thing', 'count'])\n",
    "\n",
    "mydf"
   ]
  },
  {
   "cell_type": "code",
   "execution_count": 6,
   "id": "5e855808",
   "metadata": {
    "execution": {
     "iopub.execute_input": "2022-05-04T13:56:00.656045Z",
     "iopub.status.busy": "2022-05-04T13:56:00.655338Z",
     "iopub.status.idle": "2022-05-04T13:56:00.660776Z",
     "shell.execute_reply": "2022-05-04T13:56:00.661318Z",
     "shell.execute_reply.started": "2021-12-26T17:12:29.08264Z"
    },
    "papermill": {
     "duration": 0.041455,
     "end_time": "2022-05-04T13:56:00.661505",
     "exception": false,
     "start_time": "2022-05-04T13:56:00.620050",
     "status": "completed"
    },
    "tags": []
   },
   "outputs": [
    {
     "data": {
      "text/plain": [
       "thing    object\n",
       "count     int64\n",
       "dtype: object"
      ]
     },
     "execution_count": 6,
     "metadata": {},
     "output_type": "execute_result"
    }
   ],
   "source": [
    "mydf.dtypes"
   ]
  },
  {
   "cell_type": "markdown",
   "id": "242381de",
   "metadata": {
    "papermill": {
     "duration": 0.032476,
     "end_time": "2022-05-04T13:56:00.726884",
     "exception": false,
     "start_time": "2022-05-04T13:56:00.694408",
     "status": "completed"
    },
    "tags": []
   },
   "source": [
    "# Reading in Data"
   ]
  },
  {
   "cell_type": "code",
   "execution_count": 7,
   "id": "bdff490a",
   "metadata": {
    "execution": {
     "iopub.execute_input": "2022-05-04T13:56:00.795858Z",
     "iopub.status.busy": "2022-05-04T13:56:00.795178Z",
     "iopub.status.idle": "2022-05-04T13:56:00.818275Z",
     "shell.execute_reply": "2022-05-04T13:56:00.818861Z",
     "shell.execute_reply.started": "2021-12-26T17:12:29.091598Z"
    },
    "papermill": {
     "duration": 0.059182,
     "end_time": "2022-05-04T13:56:00.819044",
     "exception": false,
     "start_time": "2022-05-04T13:56:00.759862",
     "status": "completed"
    },
    "tags": []
   },
   "outputs": [],
   "source": [
    "df = pd.read_csv('../input/mr-beast-youtube-video-statistics/MrBeast_youtube_stats.csv')"
   ]
  },
  {
   "cell_type": "markdown",
   "id": "4cf87bba",
   "metadata": {
    "papermill": {
     "duration": 0.03201,
     "end_time": "2022-05-04T13:56:00.883861",
     "exception": false,
     "start_time": "2022-05-04T13:56:00.851851",
     "status": "completed"
    },
    "tags": []
   },
   "source": [
    "# Inspect The Data"
   ]
  },
  {
   "cell_type": "code",
   "execution_count": 8,
   "id": "17fa040e",
   "metadata": {
    "execution": {
     "iopub.execute_input": "2022-05-04T13:56:00.952230Z",
     "iopub.status.busy": "2022-05-04T13:56:00.951595Z",
     "iopub.status.idle": "2022-05-04T13:56:00.981757Z",
     "shell.execute_reply": "2022-05-04T13:56:00.982250Z",
     "shell.execute_reply.started": "2021-12-26T17:12:29.127454Z"
    },
    "papermill": {
     "duration": 0.066418,
     "end_time": "2022-05-04T13:56:00.982437",
     "exception": false,
     "start_time": "2022-05-04T13:56:00.916019",
     "status": "completed"
    },
    "tags": []
   },
   "outputs": [
    {
     "data": {
      "text/html": [
       "<div>\n",
       "<style scoped>\n",
       "    .dataframe tbody tr th:only-of-type {\n",
       "        vertical-align: middle;\n",
       "    }\n",
       "\n",
       "    .dataframe tbody tr th {\n",
       "        vertical-align: top;\n",
       "    }\n",
       "\n",
       "    .dataframe thead th {\n",
       "        text-align: right;\n",
       "    }\n",
       "</style>\n",
       "<table border=\"1\" class=\"dataframe\">\n",
       "  <thead>\n",
       "    <tr style=\"text-align: right;\">\n",
       "      <th></th>\n",
       "      <th>id</th>\n",
       "      <th>title</th>\n",
       "      <th>description</th>\n",
       "      <th>publishTime</th>\n",
       "      <th>kind_stats</th>\n",
       "      <th>duration_seconds</th>\n",
       "      <th>viewCount</th>\n",
       "      <th>likeCount</th>\n",
       "      <th>commentCount</th>\n",
       "      <th>thumbnails.default.url</th>\n",
       "      <th>...</th>\n",
       "      <th>thumbnails.high.width</th>\n",
       "      <th>thumbnails.high.height</th>\n",
       "      <th>contentDetails.duration</th>\n",
       "      <th>contentDetails.dimension</th>\n",
       "      <th>topicDetails.topicCategories</th>\n",
       "      <th>snippet.defaultLanguage</th>\n",
       "      <th>localizations.en.title</th>\n",
       "      <th>localizations.en.description</th>\n",
       "      <th>snippet.tags</th>\n",
       "      <th>contentDetails.contentRating.ytRating</th>\n",
       "    </tr>\n",
       "  </thead>\n",
       "  <tbody>\n",
       "    <tr>\n",
       "      <th>0</th>\n",
       "      <td>TQHEJj68Jew</td>\n",
       "      <td>I Got Hunted By A Real Bounty Hunter</td>\n",
       "      <td>Sign up for Current w/ my Creator Code \"BEAST\"...</td>\n",
       "      <td>2021-04-24 20:00:00+00:00</td>\n",
       "      <td>youtube#video</td>\n",
       "      <td>861</td>\n",
       "      <td>84717282.0</td>\n",
       "      <td>2876493.0</td>\n",
       "      <td>128922.0</td>\n",
       "      <td>https://i.ytimg.com/vi/TQHEJj68Jew/default.jpg</td>\n",
       "      <td>...</td>\n",
       "      <td>480.0</td>\n",
       "      <td>360.0</td>\n",
       "      <td>PT14M21S</td>\n",
       "      <td>2d</td>\n",
       "      <td>['https://en.wikipedia.org/wiki/Lifestyle_(soc...</td>\n",
       "      <td>NaN</td>\n",
       "      <td>NaN</td>\n",
       "      <td>NaN</td>\n",
       "      <td>NaN</td>\n",
       "      <td>NaN</td>\n",
       "    </tr>\n",
       "    <tr>\n",
       "      <th>1</th>\n",
       "      <td>00NgUctWoLQ</td>\n",
       "      <td>Extreme $1,000,000 Hide And Seek</td>\n",
       "      <td>I didn't expect that to happen at the end I wa...</td>\n",
       "      <td>2021-12-18 21:00:00+00:00</td>\n",
       "      <td>youtube#video</td>\n",
       "      <td>729</td>\n",
       "      <td>32090178.0</td>\n",
       "      <td>2125183.0</td>\n",
       "      <td>73593.0</td>\n",
       "      <td>https://i.ytimg.com/vi/00NgUctWoLQ/default.jpg</td>\n",
       "      <td>...</td>\n",
       "      <td>480.0</td>\n",
       "      <td>360.0</td>\n",
       "      <td>PT12M9S</td>\n",
       "      <td>2d</td>\n",
       "      <td>['https://en.wikipedia.org/wiki/Lifestyle_(soc...</td>\n",
       "      <td>en</td>\n",
       "      <td>Extreme $1,000,000 Hide And Seek</td>\n",
       "      <td>I didn't expect that to happen at the end I wa...</td>\n",
       "      <td>NaN</td>\n",
       "      <td>NaN</td>\n",
       "    </tr>\n",
       "    <tr>\n",
       "      <th>2</th>\n",
       "      <td>NaN</td>\n",
       "      <td>MrBeast</td>\n",
       "      <td>Accomplishments - Raised $20000000 To Plant 20...</td>\n",
       "      <td>2012-02-20 00:43:50+00:00</td>\n",
       "      <td>NaN</td>\n",
       "      <td>0</td>\n",
       "      <td>NaN</td>\n",
       "      <td>NaN</td>\n",
       "      <td>NaN</td>\n",
       "      <td>https://yt3.ggpht.com/ytc/AKedOLTctGKJ32CdDLiS...</td>\n",
       "      <td>...</td>\n",
       "      <td>NaN</td>\n",
       "      <td>NaN</td>\n",
       "      <td>NaN</td>\n",
       "      <td>NaN</td>\n",
       "      <td>NaN</td>\n",
       "      <td>NaN</td>\n",
       "      <td>NaN</td>\n",
       "      <td>NaN</td>\n",
       "      <td>NaN</td>\n",
       "      <td>NaN</td>\n",
       "    </tr>\n",
       "    <tr>\n",
       "      <th>3</th>\n",
       "      <td>ayXxwJJId_c</td>\n",
       "      <td>I Bought The World&amp;#39;s Largest Mystery Box! ...</td>\n",
       "      <td>I cant believe I spent over $500000 on mystery...</td>\n",
       "      <td>2021-04-03 20:00:01+00:00</td>\n",
       "      <td>youtube#video</td>\n",
       "      <td>709</td>\n",
       "      <td>101745632.0</td>\n",
       "      <td>3110824.0</td>\n",
       "      <td>162796.0</td>\n",
       "      <td>https://i.ytimg.com/vi/ayXxwJJId_c/default.jpg</td>\n",
       "      <td>...</td>\n",
       "      <td>480.0</td>\n",
       "      <td>360.0</td>\n",
       "      <td>PT11M49S</td>\n",
       "      <td>2d</td>\n",
       "      <td>['https://en.wikipedia.org/wiki/Lifestyle_(soc...</td>\n",
       "      <td>NaN</td>\n",
       "      <td>NaN</td>\n",
       "      <td>NaN</td>\n",
       "      <td>NaN</td>\n",
       "      <td>NaN</td>\n",
       "    </tr>\n",
       "    <tr>\n",
       "      <th>4</th>\n",
       "      <td>cExLQ1o2pDw</td>\n",
       "      <td>First To Rob Bank Wins $100,000</td>\n",
       "      <td>I didnt think he would actually rob the bank.....</td>\n",
       "      <td>2021-09-26 20:00:06+00:00</td>\n",
       "      <td>youtube#video</td>\n",
       "      <td>482</td>\n",
       "      <td>50008942.0</td>\n",
       "      <td>2359606.0</td>\n",
       "      <td>120621.0</td>\n",
       "      <td>https://i.ytimg.com/vi/cExLQ1o2pDw/default.jpg</td>\n",
       "      <td>...</td>\n",
       "      <td>480.0</td>\n",
       "      <td>360.0</td>\n",
       "      <td>PT8M2S</td>\n",
       "      <td>2d</td>\n",
       "      <td>['https://en.wikipedia.org/wiki/Lifestyle_(soc...</td>\n",
       "      <td>NaN</td>\n",
       "      <td>NaN</td>\n",
       "      <td>NaN</td>\n",
       "      <td>NaN</td>\n",
       "      <td>NaN</td>\n",
       "    </tr>\n",
       "  </tbody>\n",
       "</table>\n",
       "<p>5 rows × 26 columns</p>\n",
       "</div>"
      ],
      "text/plain": [
       "            id                                              title  \\\n",
       "0  TQHEJj68Jew               I Got Hunted By A Real Bounty Hunter   \n",
       "1  00NgUctWoLQ                   Extreme $1,000,000 Hide And Seek   \n",
       "2          NaN                                            MrBeast   \n",
       "3  ayXxwJJId_c  I Bought The World&#39;s Largest Mystery Box! ...   \n",
       "4  cExLQ1o2pDw                    First To Rob Bank Wins $100,000   \n",
       "\n",
       "                                         description  \\\n",
       "0  Sign up for Current w/ my Creator Code \"BEAST\"...   \n",
       "1  I didn't expect that to happen at the end I wa...   \n",
       "2  Accomplishments - Raised $20000000 To Plant 20...   \n",
       "3  I cant believe I spent over $500000 on mystery...   \n",
       "4  I didnt think he would actually rob the bank.....   \n",
       "\n",
       "                 publishTime     kind_stats  duration_seconds    viewCount  \\\n",
       "0  2021-04-24 20:00:00+00:00  youtube#video               861   84717282.0   \n",
       "1  2021-12-18 21:00:00+00:00  youtube#video               729   32090178.0   \n",
       "2  2012-02-20 00:43:50+00:00            NaN                 0          NaN   \n",
       "3  2021-04-03 20:00:01+00:00  youtube#video               709  101745632.0   \n",
       "4  2021-09-26 20:00:06+00:00  youtube#video               482   50008942.0   \n",
       "\n",
       "   likeCount  commentCount                             thumbnails.default.url  \\\n",
       "0  2876493.0      128922.0     https://i.ytimg.com/vi/TQHEJj68Jew/default.jpg   \n",
       "1  2125183.0       73593.0     https://i.ytimg.com/vi/00NgUctWoLQ/default.jpg   \n",
       "2        NaN           NaN  https://yt3.ggpht.com/ytc/AKedOLTctGKJ32CdDLiS...   \n",
       "3  3110824.0      162796.0     https://i.ytimg.com/vi/ayXxwJJId_c/default.jpg   \n",
       "4  2359606.0      120621.0     https://i.ytimg.com/vi/cExLQ1o2pDw/default.jpg   \n",
       "\n",
       "   ...  thumbnails.high.width  thumbnails.high.height contentDetails.duration  \\\n",
       "0  ...                  480.0                   360.0                PT14M21S   \n",
       "1  ...                  480.0                   360.0                 PT12M9S   \n",
       "2  ...                    NaN                     NaN                     NaN   \n",
       "3  ...                  480.0                   360.0                PT11M49S   \n",
       "4  ...                  480.0                   360.0                  PT8M2S   \n",
       "\n",
       "   contentDetails.dimension  \\\n",
       "0                        2d   \n",
       "1                        2d   \n",
       "2                       NaN   \n",
       "3                        2d   \n",
       "4                        2d   \n",
       "\n",
       "                        topicDetails.topicCategories snippet.defaultLanguage  \\\n",
       "0  ['https://en.wikipedia.org/wiki/Lifestyle_(soc...                     NaN   \n",
       "1  ['https://en.wikipedia.org/wiki/Lifestyle_(soc...                      en   \n",
       "2                                                NaN                     NaN   \n",
       "3  ['https://en.wikipedia.org/wiki/Lifestyle_(soc...                     NaN   \n",
       "4  ['https://en.wikipedia.org/wiki/Lifestyle_(soc...                     NaN   \n",
       "\n",
       "             localizations.en.title  \\\n",
       "0                               NaN   \n",
       "1  Extreme $1,000,000 Hide And Seek   \n",
       "2                               NaN   \n",
       "3                               NaN   \n",
       "4                               NaN   \n",
       "\n",
       "                        localizations.en.description snippet.tags  \\\n",
       "0                                                NaN          NaN   \n",
       "1  I didn't expect that to happen at the end I wa...          NaN   \n",
       "2                                                NaN          NaN   \n",
       "3                                                NaN          NaN   \n",
       "4                                                NaN          NaN   \n",
       "\n",
       "  contentDetails.contentRating.ytRating  \n",
       "0                                   NaN  \n",
       "1                                   NaN  \n",
       "2                                   NaN  \n",
       "3                                   NaN  \n",
       "4                                   NaN  \n",
       "\n",
       "[5 rows x 26 columns]"
      ]
     },
     "execution_count": 8,
     "metadata": {},
     "output_type": "execute_result"
    }
   ],
   "source": [
    "# Head / Tail\n",
    "df.head()"
   ]
  },
  {
   "cell_type": "code",
   "execution_count": 9,
   "id": "2c3b9e00",
   "metadata": {
    "execution": {
     "iopub.execute_input": "2022-05-04T13:56:01.053017Z",
     "iopub.status.busy": "2022-05-04T13:56:01.052044Z",
     "iopub.status.idle": "2022-05-04T13:56:01.078398Z",
     "shell.execute_reply": "2022-05-04T13:56:01.078920Z",
     "shell.execute_reply.started": "2021-12-26T17:12:29.162328Z"
    },
    "papermill": {
     "duration": 0.063303,
     "end_time": "2022-05-04T13:56:01.079092",
     "exception": false,
     "start_time": "2022-05-04T13:56:01.015789",
     "status": "completed"
    },
    "tags": []
   },
   "outputs": [
    {
     "data": {
      "text/html": [
       "<div>\n",
       "<style scoped>\n",
       "    .dataframe tbody tr th:only-of-type {\n",
       "        vertical-align: middle;\n",
       "    }\n",
       "\n",
       "    .dataframe tbody tr th {\n",
       "        vertical-align: top;\n",
       "    }\n",
       "\n",
       "    .dataframe thead th {\n",
       "        text-align: right;\n",
       "    }\n",
       "</style>\n",
       "<table border=\"1\" class=\"dataframe\">\n",
       "  <thead>\n",
       "    <tr style=\"text-align: right;\">\n",
       "      <th></th>\n",
       "      <th>id</th>\n",
       "      <th>title</th>\n",
       "      <th>description</th>\n",
       "      <th>publishTime</th>\n",
       "      <th>kind_stats</th>\n",
       "      <th>duration_seconds</th>\n",
       "      <th>viewCount</th>\n",
       "      <th>likeCount</th>\n",
       "      <th>commentCount</th>\n",
       "      <th>thumbnails.default.url</th>\n",
       "      <th>...</th>\n",
       "      <th>thumbnails.high.width</th>\n",
       "      <th>thumbnails.high.height</th>\n",
       "      <th>contentDetails.duration</th>\n",
       "      <th>contentDetails.dimension</th>\n",
       "      <th>topicDetails.topicCategories</th>\n",
       "      <th>snippet.defaultLanguage</th>\n",
       "      <th>localizations.en.title</th>\n",
       "      <th>localizations.en.description</th>\n",
       "      <th>snippet.tags</th>\n",
       "      <th>contentDetails.contentRating.ytRating</th>\n",
       "    </tr>\n",
       "  </thead>\n",
       "  <tbody>\n",
       "    <tr>\n",
       "      <th>242</th>\n",
       "      <td>yeHjsYQ076A</td>\n",
       "      <td>Remember When COD Was Fun?</td>\n",
       "      <td>Yup, another very pointless video ▻ Subscribe?...</td>\n",
       "      <td>2015-04-26 21:26:36+00:00</td>\n",
       "      <td>youtube#video</td>\n",
       "      <td>216</td>\n",
       "      <td>16312.0</td>\n",
       "      <td>574.0</td>\n",
       "      <td>145.0</td>\n",
       "      <td>https://i.ytimg.com/vi/yeHjsYQ076A/default.jpg</td>\n",
       "      <td>...</td>\n",
       "      <td>480.0</td>\n",
       "      <td>360.0</td>\n",
       "      <td>PT3M36S</td>\n",
       "      <td>2d</td>\n",
       "      <td>['https://en.wikipedia.org/wiki/Action-adventu...</td>\n",
       "      <td>NaN</td>\n",
       "      <td>NaN</td>\n",
       "      <td>NaN</td>\n",
       "      <td>['How', 'much', 'money', 'does', 'make', 'blac...</td>\n",
       "      <td>NaN</td>\n",
       "    </tr>\n",
       "    <tr>\n",
       "      <th>243</th>\n",
       "      <td>X7doE4h6W64</td>\n",
       "      <td>Insane Gun Sync - 7 Hours To Make</td>\n",
       "      <td>Look at this - http://gyazo.com/8852509d2350db...</td>\n",
       "      <td>2015-06-21 12:22:34+00:00</td>\n",
       "      <td>youtube#video</td>\n",
       "      <td>134</td>\n",
       "      <td>15740.0</td>\n",
       "      <td>637.0</td>\n",
       "      <td>105.0</td>\n",
       "      <td>https://i.ytimg.com/vi/X7doE4h6W64/default.jpg</td>\n",
       "      <td>...</td>\n",
       "      <td>480.0</td>\n",
       "      <td>360.0</td>\n",
       "      <td>PT2M14S</td>\n",
       "      <td>2d</td>\n",
       "      <td>['https://en.wikipedia.org/wiki/Action-adventu...</td>\n",
       "      <td>NaN</td>\n",
       "      <td>NaN</td>\n",
       "      <td>NaN</td>\n",
       "      <td>['How', 'much', 'money', 'does', 'make', 'blac...</td>\n",
       "      <td>NaN</td>\n",
       "    </tr>\n",
       "    <tr>\n",
       "      <th>244</th>\n",
       "      <td>AIytwdufwW8</td>\n",
       "      <td>MY MESSAGE TO COD YOUTUBERS (Watch till end plz)</td>\n",
       "      <td>The beginning of the video is a little off top...</td>\n",
       "      <td>2015-05-29 20:07:48+00:00</td>\n",
       "      <td>youtube#video</td>\n",
       "      <td>292</td>\n",
       "      <td>18502.0</td>\n",
       "      <td>508.0</td>\n",
       "      <td>117.0</td>\n",
       "      <td>https://i.ytimg.com/vi/AIytwdufwW8/default.jpg</td>\n",
       "      <td>...</td>\n",
       "      <td>480.0</td>\n",
       "      <td>360.0</td>\n",
       "      <td>PT4M52S</td>\n",
       "      <td>2d</td>\n",
       "      <td>['https://en.wikipedia.org/wiki/Action-adventu...</td>\n",
       "      <td>NaN</td>\n",
       "      <td>NaN</td>\n",
       "      <td>NaN</td>\n",
       "      <td>['How', 'much', 'money', 'does', 'make', 'blac...</td>\n",
       "      <td>NaN</td>\n",
       "    </tr>\n",
       "    <tr>\n",
       "      <th>245</th>\n",
       "      <td>56OkH6ocYZU</td>\n",
       "      <td>L0114R - Biblical Creeper Post for Post @L0114R</td>\n",
       "      <td>His channel - https://www.youtube.com/user/the...</td>\n",
       "      <td>2015-05-15 16:48:54+00:00</td>\n",
       "      <td>youtube#video</td>\n",
       "      <td>109</td>\n",
       "      <td>16627.0</td>\n",
       "      <td>430.0</td>\n",
       "      <td>134.0</td>\n",
       "      <td>https://i.ytimg.com/vi/56OkH6ocYZU/default.jpg</td>\n",
       "      <td>...</td>\n",
       "      <td>480.0</td>\n",
       "      <td>360.0</td>\n",
       "      <td>PT1M49S</td>\n",
       "      <td>2d</td>\n",
       "      <td>['https://en.wikipedia.org/wiki/Action-adventu...</td>\n",
       "      <td>NaN</td>\n",
       "      <td>NaN</td>\n",
       "      <td>NaN</td>\n",
       "      <td>['How', 'much', 'money', 'does', 'make', 'blac...</td>\n",
       "      <td>NaN</td>\n",
       "    </tr>\n",
       "    <tr>\n",
       "      <th>246</th>\n",
       "      <td>zi7tZ-2PhLk</td>\n",
       "      <td>How Much Money Do You Make As An Uber Driver??...</td>\n",
       "      <td>In this video I talk about being an uber drive...</td>\n",
       "      <td>2015-05-31 18:31:25+00:00</td>\n",
       "      <td>youtube#video</td>\n",
       "      <td>304</td>\n",
       "      <td>18773.0</td>\n",
       "      <td>370.0</td>\n",
       "      <td>59.0</td>\n",
       "      <td>https://i.ytimg.com/vi/zi7tZ-2PhLk/default.jpg</td>\n",
       "      <td>...</td>\n",
       "      <td>480.0</td>\n",
       "      <td>360.0</td>\n",
       "      <td>PT5M4S</td>\n",
       "      <td>2d</td>\n",
       "      <td>['https://en.wikipedia.org/wiki/Action-adventu...</td>\n",
       "      <td>NaN</td>\n",
       "      <td>NaN</td>\n",
       "      <td>NaN</td>\n",
       "      <td>['How', 'much', 'money', 'does', 'make', 'blac...</td>\n",
       "      <td>NaN</td>\n",
       "    </tr>\n",
       "  </tbody>\n",
       "</table>\n",
       "<p>5 rows × 26 columns</p>\n",
       "</div>"
      ],
      "text/plain": [
       "              id                                              title  \\\n",
       "242  yeHjsYQ076A                         Remember When COD Was Fun?   \n",
       "243  X7doE4h6W64                  Insane Gun Sync - 7 Hours To Make   \n",
       "244  AIytwdufwW8   MY MESSAGE TO COD YOUTUBERS (Watch till end plz)   \n",
       "245  56OkH6ocYZU    L0114R - Biblical Creeper Post for Post @L0114R   \n",
       "246  zi7tZ-2PhLk  How Much Money Do You Make As An Uber Driver??...   \n",
       "\n",
       "                                           description  \\\n",
       "242  Yup, another very pointless video ▻ Subscribe?...   \n",
       "243  Look at this - http://gyazo.com/8852509d2350db...   \n",
       "244  The beginning of the video is a little off top...   \n",
       "245  His channel - https://www.youtube.com/user/the...   \n",
       "246  In this video I talk about being an uber drive...   \n",
       "\n",
       "                   publishTime     kind_stats  duration_seconds  viewCount  \\\n",
       "242  2015-04-26 21:26:36+00:00  youtube#video               216    16312.0   \n",
       "243  2015-06-21 12:22:34+00:00  youtube#video               134    15740.0   \n",
       "244  2015-05-29 20:07:48+00:00  youtube#video               292    18502.0   \n",
       "245  2015-05-15 16:48:54+00:00  youtube#video               109    16627.0   \n",
       "246  2015-05-31 18:31:25+00:00  youtube#video               304    18773.0   \n",
       "\n",
       "     likeCount  commentCount                          thumbnails.default.url  \\\n",
       "242      574.0         145.0  https://i.ytimg.com/vi/yeHjsYQ076A/default.jpg   \n",
       "243      637.0         105.0  https://i.ytimg.com/vi/X7doE4h6W64/default.jpg   \n",
       "244      508.0         117.0  https://i.ytimg.com/vi/AIytwdufwW8/default.jpg   \n",
       "245      430.0         134.0  https://i.ytimg.com/vi/56OkH6ocYZU/default.jpg   \n",
       "246      370.0          59.0  https://i.ytimg.com/vi/zi7tZ-2PhLk/default.jpg   \n",
       "\n",
       "     ...  thumbnails.high.width  thumbnails.high.height  \\\n",
       "242  ...                  480.0                   360.0   \n",
       "243  ...                  480.0                   360.0   \n",
       "244  ...                  480.0                   360.0   \n",
       "245  ...                  480.0                   360.0   \n",
       "246  ...                  480.0                   360.0   \n",
       "\n",
       "    contentDetails.duration  contentDetails.dimension  \\\n",
       "242                 PT3M36S                        2d   \n",
       "243                 PT2M14S                        2d   \n",
       "244                 PT4M52S                        2d   \n",
       "245                 PT1M49S                        2d   \n",
       "246                  PT5M4S                        2d   \n",
       "\n",
       "                          topicDetails.topicCategories  \\\n",
       "242  ['https://en.wikipedia.org/wiki/Action-adventu...   \n",
       "243  ['https://en.wikipedia.org/wiki/Action-adventu...   \n",
       "244  ['https://en.wikipedia.org/wiki/Action-adventu...   \n",
       "245  ['https://en.wikipedia.org/wiki/Action-adventu...   \n",
       "246  ['https://en.wikipedia.org/wiki/Action-adventu...   \n",
       "\n",
       "    snippet.defaultLanguage  localizations.en.title  \\\n",
       "242                     NaN                     NaN   \n",
       "243                     NaN                     NaN   \n",
       "244                     NaN                     NaN   \n",
       "245                     NaN                     NaN   \n",
       "246                     NaN                     NaN   \n",
       "\n",
       "     localizations.en.description  \\\n",
       "242                           NaN   \n",
       "243                           NaN   \n",
       "244                           NaN   \n",
       "245                           NaN   \n",
       "246                           NaN   \n",
       "\n",
       "                                          snippet.tags  \\\n",
       "242  ['How', 'much', 'money', 'does', 'make', 'blac...   \n",
       "243  ['How', 'much', 'money', 'does', 'make', 'blac...   \n",
       "244  ['How', 'much', 'money', 'does', 'make', 'blac...   \n",
       "245  ['How', 'much', 'money', 'does', 'make', 'blac...   \n",
       "246  ['How', 'much', 'money', 'does', 'make', 'blac...   \n",
       "\n",
       "    contentDetails.contentRating.ytRating  \n",
       "242                                   NaN  \n",
       "243                                   NaN  \n",
       "244                                   NaN  \n",
       "245                                   NaN  \n",
       "246                                   NaN  \n",
       "\n",
       "[5 rows x 26 columns]"
      ]
     },
     "execution_count": 9,
     "metadata": {},
     "output_type": "execute_result"
    }
   ],
   "source": [
    "df.tail()"
   ]
  },
  {
   "cell_type": "code",
   "execution_count": 10,
   "id": "0adc0d26",
   "metadata": {
    "execution": {
     "iopub.execute_input": "2022-05-04T13:56:01.151025Z",
     "iopub.status.busy": "2022-05-04T13:56:01.150067Z",
     "iopub.status.idle": "2022-05-04T13:56:01.158009Z",
     "shell.execute_reply": "2022-05-04T13:56:01.157435Z",
     "shell.execute_reply.started": "2021-12-26T17:12:29.192788Z"
    },
    "papermill": {
     "duration": 0.045123,
     "end_time": "2022-05-04T13:56:01.158150",
     "exception": false,
     "start_time": "2022-05-04T13:56:01.113027",
     "status": "completed"
    },
    "tags": []
   },
   "outputs": [
    {
     "data": {
      "text/plain": [
       "id                                        object\n",
       "title                                     object\n",
       "description                               object\n",
       "publishTime                               object\n",
       "kind_stats                                object\n",
       "duration_seconds                           int64\n",
       "viewCount                                float64\n",
       "likeCount                                float64\n",
       "commentCount                             float64\n",
       "thumbnails.default.url                    object\n",
       "thumbnails.default.width                 float64\n",
       "thumbnails.default.height                float64\n",
       "thumbnails.medium.url                     object\n",
       "thumbnails.medium.width                  float64\n",
       "thumbnails.medium.height                 float64\n",
       "thumbnails.high.url                       object\n",
       "thumbnails.high.width                    float64\n",
       "thumbnails.high.height                   float64\n",
       "contentDetails.duration                   object\n",
       "contentDetails.dimension                  object\n",
       "topicDetails.topicCategories              object\n",
       "snippet.defaultLanguage                   object\n",
       "localizations.en.title                    object\n",
       "localizations.en.description              object\n",
       "snippet.tags                              object\n",
       "contentDetails.contentRating.ytRating     object\n",
       "dtype: object"
      ]
     },
     "execution_count": 10,
     "metadata": {},
     "output_type": "execute_result"
    }
   ],
   "source": [
    "df.dtypes"
   ]
  },
  {
   "cell_type": "code",
   "execution_count": 11,
   "id": "af2b9ee2",
   "metadata": {
    "execution": {
     "iopub.execute_input": "2022-05-04T13:56:01.230886Z",
     "iopub.status.busy": "2022-05-04T13:56:01.229912Z",
     "iopub.status.idle": "2022-05-04T13:56:01.280816Z",
     "shell.execute_reply": "2022-05-04T13:56:01.280239Z",
     "shell.execute_reply.started": "2021-12-26T17:12:29.201062Z"
    },
    "papermill": {
     "duration": 0.08823,
     "end_time": "2022-05-04T13:56:01.280963",
     "exception": false,
     "start_time": "2022-05-04T13:56:01.192733",
     "status": "completed"
    },
    "tags": []
   },
   "outputs": [
    {
     "data": {
      "text/html": [
       "<div>\n",
       "<style scoped>\n",
       "    .dataframe tbody tr th:only-of-type {\n",
       "        vertical-align: middle;\n",
       "    }\n",
       "\n",
       "    .dataframe tbody tr th {\n",
       "        vertical-align: top;\n",
       "    }\n",
       "\n",
       "    .dataframe thead th {\n",
       "        text-align: right;\n",
       "    }\n",
       "</style>\n",
       "<table border=\"1\" class=\"dataframe\">\n",
       "  <thead>\n",
       "    <tr style=\"text-align: right;\">\n",
       "      <th></th>\n",
       "      <th>duration_seconds</th>\n",
       "      <th>viewCount</th>\n",
       "      <th>likeCount</th>\n",
       "      <th>commentCount</th>\n",
       "      <th>thumbnails.default.width</th>\n",
       "      <th>thumbnails.default.height</th>\n",
       "      <th>thumbnails.medium.width</th>\n",
       "      <th>thumbnails.medium.height</th>\n",
       "      <th>thumbnails.high.width</th>\n",
       "      <th>thumbnails.high.height</th>\n",
       "    </tr>\n",
       "  </thead>\n",
       "  <tbody>\n",
       "    <tr>\n",
       "      <th>count</th>\n",
       "      <td>247.000000</td>\n",
       "      <td>2.460000e+02</td>\n",
       "      <td>2.440000e+02</td>\n",
       "      <td>245.000000</td>\n",
       "      <td>246.0</td>\n",
       "      <td>246.0</td>\n",
       "      <td>246.0</td>\n",
       "      <td>246.0</td>\n",
       "      <td>246.0</td>\n",
       "      <td>246.0</td>\n",
       "    </tr>\n",
       "    <tr>\n",
       "      <th>mean</th>\n",
       "      <td>1886.234818</td>\n",
       "      <td>5.084638e+07</td>\n",
       "      <td>1.610498e+06</td>\n",
       "      <td>75562.783673</td>\n",
       "      <td>120.0</td>\n",
       "      <td>90.0</td>\n",
       "      <td>320.0</td>\n",
       "      <td>180.0</td>\n",
       "      <td>480.0</td>\n",
       "      <td>360.0</td>\n",
       "    </tr>\n",
       "    <tr>\n",
       "      <th>std</th>\n",
       "      <td>8642.188728</td>\n",
       "      <td>4.062672e+07</td>\n",
       "      <td>1.879529e+06</td>\n",
       "      <td>85356.537127</td>\n",
       "      <td>0.0</td>\n",
       "      <td>0.0</td>\n",
       "      <td>0.0</td>\n",
       "      <td>0.0</td>\n",
       "      <td>0.0</td>\n",
       "      <td>0.0</td>\n",
       "    </tr>\n",
       "    <tr>\n",
       "      <th>min</th>\n",
       "      <td>0.000000</td>\n",
       "      <td>1.395400e+04</td>\n",
       "      <td>3.700000e+02</td>\n",
       "      <td>59.000000</td>\n",
       "      <td>120.0</td>\n",
       "      <td>90.0</td>\n",
       "      <td>320.0</td>\n",
       "      <td>180.0</td>\n",
       "      <td>480.0</td>\n",
       "      <td>360.0</td>\n",
       "    </tr>\n",
       "    <tr>\n",
       "      <th>25%</th>\n",
       "      <td>425.500000</td>\n",
       "      <td>1.406442e+07</td>\n",
       "      <td>4.348780e+05</td>\n",
       "      <td>21552.000000</td>\n",
       "      <td>120.0</td>\n",
       "      <td>90.0</td>\n",
       "      <td>320.0</td>\n",
       "      <td>180.0</td>\n",
       "      <td>480.0</td>\n",
       "      <td>360.0</td>\n",
       "    </tr>\n",
       "    <tr>\n",
       "      <th>50%</th>\n",
       "      <td>776.000000</td>\n",
       "      <td>4.904782e+07</td>\n",
       "      <td>1.358232e+06</td>\n",
       "      <td>60701.000000</td>\n",
       "      <td>120.0</td>\n",
       "      <td>90.0</td>\n",
       "      <td>320.0</td>\n",
       "      <td>180.0</td>\n",
       "      <td>480.0</td>\n",
       "      <td>360.0</td>\n",
       "    </tr>\n",
       "    <tr>\n",
       "      <th>75%</th>\n",
       "      <td>923.000000</td>\n",
       "      <td>8.125392e+07</td>\n",
       "      <td>2.294378e+06</td>\n",
       "      <td>99670.000000</td>\n",
       "      <td>120.0</td>\n",
       "      <td>90.0</td>\n",
       "      <td>320.0</td>\n",
       "      <td>180.0</td>\n",
       "      <td>480.0</td>\n",
       "      <td>360.0</td>\n",
       "    </tr>\n",
       "    <tr>\n",
       "      <th>max</th>\n",
       "      <td>85686.000000</td>\n",
       "      <td>1.787632e+08</td>\n",
       "      <td>1.904943e+07</td>\n",
       "      <td>726861.000000</td>\n",
       "      <td>120.0</td>\n",
       "      <td>90.0</td>\n",
       "      <td>320.0</td>\n",
       "      <td>180.0</td>\n",
       "      <td>480.0</td>\n",
       "      <td>360.0</td>\n",
       "    </tr>\n",
       "  </tbody>\n",
       "</table>\n",
       "</div>"
      ],
      "text/plain": [
       "       duration_seconds     viewCount     likeCount   commentCount  \\\n",
       "count        247.000000  2.460000e+02  2.440000e+02     245.000000   \n",
       "mean        1886.234818  5.084638e+07  1.610498e+06   75562.783673   \n",
       "std         8642.188728  4.062672e+07  1.879529e+06   85356.537127   \n",
       "min            0.000000  1.395400e+04  3.700000e+02      59.000000   \n",
       "25%          425.500000  1.406442e+07  4.348780e+05   21552.000000   \n",
       "50%          776.000000  4.904782e+07  1.358232e+06   60701.000000   \n",
       "75%          923.000000  8.125392e+07  2.294378e+06   99670.000000   \n",
       "max        85686.000000  1.787632e+08  1.904943e+07  726861.000000   \n",
       "\n",
       "       thumbnails.default.width  thumbnails.default.height  \\\n",
       "count                     246.0                      246.0   \n",
       "mean                      120.0                       90.0   \n",
       "std                         0.0                        0.0   \n",
       "min                       120.0                       90.0   \n",
       "25%                       120.0                       90.0   \n",
       "50%                       120.0                       90.0   \n",
       "75%                       120.0                       90.0   \n",
       "max                       120.0                       90.0   \n",
       "\n",
       "       thumbnails.medium.width  thumbnails.medium.height  \\\n",
       "count                    246.0                     246.0   \n",
       "mean                     320.0                     180.0   \n",
       "std                        0.0                       0.0   \n",
       "min                      320.0                     180.0   \n",
       "25%                      320.0                     180.0   \n",
       "50%                      320.0                     180.0   \n",
       "75%                      320.0                     180.0   \n",
       "max                      320.0                     180.0   \n",
       "\n",
       "       thumbnails.high.width  thumbnails.high.height  \n",
       "count                  246.0                   246.0  \n",
       "mean                   480.0                   360.0  \n",
       "std                      0.0                     0.0  \n",
       "min                    480.0                   360.0  \n",
       "25%                    480.0                   360.0  \n",
       "50%                    480.0                   360.0  \n",
       "75%                    480.0                   360.0  \n",
       "max                    480.0                   360.0  "
      ]
     },
     "execution_count": 11,
     "metadata": {},
     "output_type": "execute_result"
    }
   ],
   "source": [
    "df.describe()"
   ]
  },
  {
   "cell_type": "markdown",
   "id": "8f29b39a",
   "metadata": {
    "papermill": {
     "duration": 0.035079,
     "end_time": "2022-05-04T13:56:01.352266",
     "exception": false,
     "start_time": "2022-05-04T13:56:01.317187",
     "status": "completed"
    },
    "tags": []
   },
   "source": [
    "# Columns and Rows"
   ]
  },
  {
   "cell_type": "code",
   "execution_count": 12,
   "id": "620a05d4",
   "metadata": {
    "execution": {
     "iopub.execute_input": "2022-05-04T13:56:01.428335Z",
     "iopub.status.busy": "2022-05-04T13:56:01.427358Z",
     "iopub.status.idle": "2022-05-04T13:56:01.435111Z",
     "shell.execute_reply": "2022-05-04T13:56:01.435841Z",
     "shell.execute_reply.started": "2021-12-26T17:12:29.257034Z"
    },
    "papermill": {
     "duration": 0.047267,
     "end_time": "2022-05-04T13:56:01.436019",
     "exception": false,
     "start_time": "2022-05-04T13:56:01.388752",
     "status": "completed"
    },
    "tags": []
   },
   "outputs": [
    {
     "data": {
      "text/plain": [
       "0       84717282.0\n",
       "1       32090178.0\n",
       "2              NaN\n",
       "3      101745632.0\n",
       "4       50008942.0\n",
       "          ...     \n",
       "242        16312.0\n",
       "243        15740.0\n",
       "244        18502.0\n",
       "245        16627.0\n",
       "246        18773.0\n",
       "Name: viewCount, Length: 247, dtype: float64"
      ]
     },
     "execution_count": 12,
     "metadata": {},
     "output_type": "execute_result"
    }
   ],
   "source": [
    "df['viewCount']"
   ]
  },
  {
   "cell_type": "code",
   "execution_count": 13,
   "id": "25bbfb93",
   "metadata": {
    "execution": {
     "iopub.execute_input": "2022-05-04T13:56:01.511373Z",
     "iopub.status.busy": "2022-05-04T13:56:01.510395Z",
     "iopub.status.idle": "2022-05-04T13:56:01.517872Z",
     "shell.execute_reply": "2022-05-04T13:56:01.518431Z",
     "shell.execute_reply.started": "2021-12-26T17:12:29.266787Z"
    },
    "papermill": {
     "duration": 0.047053,
     "end_time": "2022-05-04T13:56:01.518605",
     "exception": false,
     "start_time": "2022-05-04T13:56:01.471552",
     "status": "completed"
    },
    "tags": []
   },
   "outputs": [
    {
     "data": {
      "text/plain": [
       "id                                                                             cExLQ1o2pDw\n",
       "title                                                      First To Rob Bank Wins $100,000\n",
       "description                              I didnt think he would actually rob the bank.....\n",
       "publishTime                                                      2021-09-26 20:00:06+00:00\n",
       "kind_stats                                                                   youtube#video\n",
       "duration_seconds                                                                       482\n",
       "viewCount                                                                       50008942.0\n",
       "likeCount                                                                        2359606.0\n",
       "commentCount                                                                      120621.0\n",
       "thumbnails.default.url                      https://i.ytimg.com/vi/cExLQ1o2pDw/default.jpg\n",
       "thumbnails.default.width                                                             120.0\n",
       "thumbnails.default.height                                                             90.0\n",
       "thumbnails.medium.url                     https://i.ytimg.com/vi/cExLQ1o2pDw/mqdefault.jpg\n",
       "thumbnails.medium.width                                                              320.0\n",
       "thumbnails.medium.height                                                             180.0\n",
       "thumbnails.high.url                       https://i.ytimg.com/vi/cExLQ1o2pDw/hqdefault.jpg\n",
       "thumbnails.high.width                                                                480.0\n",
       "thumbnails.high.height                                                               360.0\n",
       "contentDetails.duration                                                             PT8M2S\n",
       "contentDetails.dimension                                                                2d\n",
       "topicDetails.topicCategories             ['https://en.wikipedia.org/wiki/Lifestyle_(soc...\n",
       "snippet.defaultLanguage                                                                NaN\n",
       "localizations.en.title                                                                 NaN\n",
       "localizations.en.description                                                           NaN\n",
       "snippet.tags                                                                           NaN\n",
       "contentDetails.contentRating.ytRating                                                  NaN\n",
       "Name: 4, dtype: object"
      ]
     },
     "execution_count": 13,
     "metadata": {},
     "output_type": "execute_result"
    }
   ],
   "source": [
    "df.loc[4]"
   ]
  },
  {
   "cell_type": "code",
   "execution_count": 14,
   "id": "50519201",
   "metadata": {
    "execution": {
     "iopub.execute_input": "2022-05-04T13:56:01.596147Z",
     "iopub.status.busy": "2022-05-04T13:56:01.595160Z",
     "iopub.status.idle": "2022-05-04T13:56:01.600192Z",
     "shell.execute_reply": "2022-05-04T13:56:01.600743Z",
     "shell.execute_reply.started": "2021-12-26T17:12:29.286838Z"
    },
    "papermill": {
     "duration": 0.045036,
     "end_time": "2022-05-04T13:56:01.600924",
     "exception": false,
     "start_time": "2022-05-04T13:56:01.555888",
     "status": "completed"
    },
    "tags": []
   },
   "outputs": [],
   "source": [
    "df = df.set_index('id')"
   ]
  },
  {
   "cell_type": "markdown",
   "id": "10e6c5bb",
   "metadata": {
    "papermill": {
     "duration": 0.035998,
     "end_time": "2022-05-04T13:56:01.673052",
     "exception": false,
     "start_time": "2022-05-04T13:56:01.637054",
     "status": "completed"
    },
    "tags": []
   },
   "source": [
    "# Subsetting Data"
   ]
  },
  {
   "cell_type": "code",
   "execution_count": 15,
   "id": "b7d5a87b",
   "metadata": {
    "execution": {
     "iopub.execute_input": "2022-05-04T13:56:01.750345Z",
     "iopub.status.busy": "2022-05-04T13:56:01.749301Z",
     "iopub.status.idle": "2022-05-04T13:56:01.755054Z",
     "shell.execute_reply": "2022-05-04T13:56:01.755694Z",
     "shell.execute_reply.started": "2021-12-26T17:12:29.301607Z"
    },
    "papermill": {
     "duration": 0.045765,
     "end_time": "2022-05-04T13:56:01.755887",
     "exception": false,
     "start_time": "2022-05-04T13:56:01.710122",
     "status": "completed"
    },
    "tags": []
   },
   "outputs": [
    {
     "data": {
      "text/plain": [
       "(247, 25)"
      ]
     },
     "execution_count": 15,
     "metadata": {},
     "output_type": "execute_result"
    }
   ],
   "source": [
    "df.shape"
   ]
  },
  {
   "cell_type": "code",
   "execution_count": 16,
   "id": "a85bf076",
   "metadata": {
    "execution": {
     "iopub.execute_input": "2022-05-04T13:56:01.835989Z",
     "iopub.status.busy": "2022-05-04T13:56:01.835324Z",
     "iopub.status.idle": "2022-05-04T13:56:01.839859Z",
     "shell.execute_reply": "2022-05-04T13:56:01.839202Z",
     "shell.execute_reply.started": "2021-12-26T17:12:29.320219Z"
    },
    "papermill": {
     "duration": 0.047137,
     "end_time": "2022-05-04T13:56:01.840020",
     "exception": false,
     "start_time": "2022-05-04T13:56:01.792883",
     "status": "completed"
    },
    "tags": []
   },
   "outputs": [],
   "source": [
    "# Subsetting Columns\n",
    "df = df[['title', 'description', 'publishTime',\n",
    "         'duration_seconds', 'viewCount', 'likeCount',\n",
    "         'commentCount']]"
   ]
  },
  {
   "cell_type": "code",
   "execution_count": 17,
   "id": "432f886b",
   "metadata": {
    "execution": {
     "iopub.execute_input": "2022-05-04T13:56:01.921659Z",
     "iopub.status.busy": "2022-05-04T13:56:01.920937Z",
     "iopub.status.idle": "2022-05-04T13:56:01.923864Z",
     "shell.execute_reply": "2022-05-04T13:56:01.923204Z",
     "shell.execute_reply.started": "2021-12-26T17:12:29.341465Z"
    },
    "papermill": {
     "duration": 0.045114,
     "end_time": "2022-05-04T13:56:01.924008",
     "exception": false,
     "start_time": "2022-05-04T13:56:01.878894",
     "status": "completed"
    },
    "tags": []
   },
   "outputs": [],
   "source": [
    "# Subsetting using loc\n",
    "df_subset1 = df.loc[df['viewCount'] > 1_000_000]"
   ]
  },
  {
   "cell_type": "code",
   "execution_count": 18,
   "id": "b0e807b2",
   "metadata": {
    "execution": {
     "iopub.execute_input": "2022-05-04T13:56:02.005840Z",
     "iopub.status.busy": "2022-05-04T13:56:02.005132Z",
     "iopub.status.idle": "2022-05-04T13:56:02.008182Z",
     "shell.execute_reply": "2022-05-04T13:56:02.008718Z",
     "shell.execute_reply.started": "2021-12-26T17:12:29.353844Z"
    },
    "papermill": {
     "duration": 0.048103,
     "end_time": "2022-05-04T13:56:02.008907",
     "exception": false,
     "start_time": "2022-05-04T13:56:01.960804",
     "status": "completed"
    },
    "tags": []
   },
   "outputs": [],
   "source": [
    "df_subset2 = df.query('viewCount > 1000000')"
   ]
  },
  {
   "cell_type": "code",
   "execution_count": 19,
   "id": "8fe5a3eb",
   "metadata": {
    "execution": {
     "iopub.execute_input": "2022-05-04T13:56:02.086613Z",
     "iopub.status.busy": "2022-05-04T13:56:02.085848Z",
     "iopub.status.idle": "2022-05-04T13:56:02.090786Z",
     "shell.execute_reply": "2022-05-04T13:56:02.091339Z",
     "shell.execute_reply.started": "2021-12-26T17:12:29.370793Z"
    },
    "papermill": {
     "duration": 0.046046,
     "end_time": "2022-05-04T13:56:02.091556",
     "exception": false,
     "start_time": "2022-05-04T13:56:02.045510",
     "status": "completed"
    },
    "tags": []
   },
   "outputs": [],
   "source": [
    "df = df.loc[~df['likeCount'].isna()]"
   ]
  },
  {
   "cell_type": "markdown",
   "id": "367ce250",
   "metadata": {
    "papermill": {
     "duration": 0.035897,
     "end_time": "2022-05-04T13:56:02.164236",
     "exception": false,
     "start_time": "2022-05-04T13:56:02.128339",
     "status": "completed"
    },
    "tags": []
   },
   "source": [
    "# Casting dtypes"
   ]
  },
  {
   "cell_type": "code",
   "execution_count": 20,
   "id": "de09e29e",
   "metadata": {
    "execution": {
     "iopub.execute_input": "2022-05-04T13:56:02.241057Z",
     "iopub.status.busy": "2022-05-04T13:56:02.240064Z",
     "iopub.status.idle": "2022-05-04T13:56:02.246075Z",
     "shell.execute_reply": "2022-05-04T13:56:02.246648Z",
     "shell.execute_reply.started": "2021-12-26T17:14:53.234278Z"
    },
    "papermill": {
     "duration": 0.046196,
     "end_time": "2022-05-04T13:56:02.246821",
     "exception": false,
     "start_time": "2022-05-04T13:56:02.200625",
     "status": "completed"
    },
    "tags": []
   },
   "outputs": [],
   "source": [
    "df['viewCount'] = df['viewCount'].astype('int')\n",
    "df['likeCount'] = df['likeCount'].astype('int')"
   ]
  },
  {
   "cell_type": "code",
   "execution_count": 21,
   "id": "af9ea658",
   "metadata": {
    "execution": {
     "iopub.execute_input": "2022-05-04T13:56:02.323967Z",
     "iopub.status.busy": "2022-05-04T13:56:02.323027Z",
     "iopub.status.idle": "2022-05-04T13:56:02.328122Z",
     "shell.execute_reply": "2022-05-04T13:56:02.328726Z",
     "shell.execute_reply.started": "2021-12-26T17:16:13.047615Z"
    },
    "papermill": {
     "duration": 0.045424,
     "end_time": "2022-05-04T13:56:02.328908",
     "exception": false,
     "start_time": "2022-05-04T13:56:02.283484",
     "status": "completed"
    },
    "tags": []
   },
   "outputs": [],
   "source": [
    "df['publishTime'] = pd.to_datetime(df['publishTime'])"
   ]
  },
  {
   "cell_type": "code",
   "execution_count": 22,
   "id": "15d118fc",
   "metadata": {
    "execution": {
     "iopub.execute_input": "2022-05-04T13:56:02.405535Z",
     "iopub.status.busy": "2022-05-04T13:56:02.404575Z",
     "iopub.status.idle": "2022-05-04T13:56:02.410212Z",
     "shell.execute_reply": "2022-05-04T13:56:02.410771Z",
     "shell.execute_reply.started": "2021-12-26T17:17:14.024116Z"
    },
    "papermill": {
     "duration": 0.045818,
     "end_time": "2022-05-04T13:56:02.410956",
     "exception": false,
     "start_time": "2022-05-04T13:56:02.365138",
     "status": "completed"
    },
    "tags": []
   },
   "outputs": [],
   "source": [
    "df['likeCount'] = pd.to_numeric(df['likeCount'].astype('str'))"
   ]
  },
  {
   "cell_type": "markdown",
   "id": "f070c9b0",
   "metadata": {
    "papermill": {
     "duration": 0.036181,
     "end_time": "2022-05-04T13:56:02.483776",
     "exception": false,
     "start_time": "2022-05-04T13:56:02.447595",
     "status": "completed"
    },
    "tags": []
   },
   "source": [
    "# Creating new column"
   ]
  },
  {
   "cell_type": "code",
   "execution_count": 23,
   "id": "86bc9284",
   "metadata": {
    "execution": {
     "iopub.execute_input": "2022-05-04T13:56:02.561845Z",
     "iopub.status.busy": "2022-05-04T13:56:02.560851Z",
     "iopub.status.idle": "2022-05-04T13:56:02.566003Z",
     "shell.execute_reply": "2022-05-04T13:56:02.566560Z",
     "shell.execute_reply.started": "2021-12-26T17:19:52.359909Z"
    },
    "papermill": {
     "duration": 0.04678,
     "end_time": "2022-05-04T13:56:02.566731",
     "exception": false,
     "start_time": "2022-05-04T13:56:02.519951",
     "status": "completed"
    },
    "tags": []
   },
   "outputs": [],
   "source": [
    "df['like_to_view_ratio'] = df['likeCount'] / df['viewCount']"
   ]
  },
  {
   "cell_type": "markdown",
   "id": "d937f2c3",
   "metadata": {
    "execution": {
     "iopub.execute_input": "2021-12-26T17:19:56.6059Z",
     "iopub.status.busy": "2021-12-26T17:19:56.605321Z",
     "iopub.status.idle": "2021-12-26T17:19:56.61809Z",
     "shell.execute_reply": "2021-12-26T17:19:56.61661Z",
     "shell.execute_reply.started": "2021-12-26T17:19:56.605874Z"
    },
    "papermill": {
     "duration": 0.03597,
     "end_time": "2022-05-04T13:56:02.639245",
     "exception": false,
     "start_time": "2022-05-04T13:56:02.603275",
     "status": "completed"
    },
    "tags": []
   },
   "source": [
    "# Adding new Row"
   ]
  },
  {
   "cell_type": "code",
   "execution_count": 24,
   "id": "343ac7c4",
   "metadata": {
    "execution": {
     "iopub.execute_input": "2022-05-04T13:56:02.715884Z",
     "iopub.status.busy": "2022-05-04T13:56:02.714919Z",
     "iopub.status.idle": "2022-05-04T13:56:02.718901Z",
     "shell.execute_reply": "2022-05-04T13:56:02.719525Z",
     "shell.execute_reply.started": "2021-12-26T17:20:59.677744Z"
    },
    "papermill": {
     "duration": 0.044025,
     "end_time": "2022-05-04T13:56:02.719692",
     "exception": false,
     "start_time": "2022-05-04T13:56:02.675667",
     "status": "completed"
    },
    "tags": []
   },
   "outputs": [],
   "source": [
    "df_to_append = df.tail(1)"
   ]
  },
  {
   "cell_type": "code",
   "execution_count": 25,
   "id": "bafe879f",
   "metadata": {
    "execution": {
     "iopub.execute_input": "2022-05-04T13:56:02.797097Z",
     "iopub.status.busy": "2022-05-04T13:56:02.796098Z",
     "iopub.status.idle": "2022-05-04T13:56:02.801652Z",
     "shell.execute_reply": "2022-05-04T13:56:02.802240Z",
     "shell.execute_reply.started": "2021-12-26T17:21:46.566919Z"
    },
    "papermill": {
     "duration": 0.046091,
     "end_time": "2022-05-04T13:56:02.802435",
     "exception": false,
     "start_time": "2022-05-04T13:56:02.756344",
     "status": "completed"
    },
    "tags": []
   },
   "outputs": [],
   "source": [
    "df_concat = pd.concat([df, df_to_append])"
   ]
  },
  {
   "cell_type": "markdown",
   "id": "861cb4ac",
   "metadata": {
    "papermill": {
     "duration": 0.03621,
     "end_time": "2022-05-04T13:56:02.875095",
     "exception": false,
     "start_time": "2022-05-04T13:56:02.838885",
     "status": "completed"
    },
    "tags": []
   },
   "source": [
    "# Plot Examples"
   ]
  },
  {
   "cell_type": "code",
   "execution_count": 26,
   "id": "b9185817",
   "metadata": {
    "execution": {
     "iopub.execute_input": "2022-05-04T13:56:02.953241Z",
     "iopub.status.busy": "2022-05-04T13:56:02.952488Z",
     "iopub.status.idle": "2022-05-04T13:56:02.958381Z",
     "shell.execute_reply": "2022-05-04T13:56:02.957839Z",
     "shell.execute_reply.started": "2021-12-26T17:23:10.730662Z"
    },
    "papermill": {
     "duration": 0.04724,
     "end_time": "2022-05-04T13:56:02.958570",
     "exception": false,
     "start_time": "2022-05-04T13:56:02.911330",
     "status": "completed"
    },
    "tags": []
   },
   "outputs": [],
   "source": [
    "import matplotlib.pylab as plt\n",
    "plt.style.use('ggplot')"
   ]
  },
  {
   "cell_type": "code",
   "execution_count": 27,
   "id": "b69a9514",
   "metadata": {
    "execution": {
     "iopub.execute_input": "2022-05-04T13:56:03.036073Z",
     "iopub.status.busy": "2022-05-04T13:56:03.035344Z",
     "iopub.status.idle": "2022-05-04T13:56:03.423913Z",
     "shell.execute_reply": "2022-05-04T13:56:03.423320Z",
     "shell.execute_reply.started": "2021-12-26T17:24:15.006013Z"
    },
    "papermill": {
     "duration": 0.428476,
     "end_time": "2022-05-04T13:56:03.424055",
     "exception": false,
     "start_time": "2022-05-04T13:56:02.995579",
     "status": "completed"
    },
    "tags": []
   },
   "outputs": [
    {
     "data": {
      "text/plain": [
       "<AxesSubplot:title={'center':'Distribution of View Count'}, ylabel='Frequency'>"
      ]
     },
     "execution_count": 27,
     "metadata": {},
     "output_type": "execute_result"
    },
    {
     "data": {
      "image/png": "[encoded data removed]",
      "text/plain": [
       "<Figure size 1080x360 with 1 Axes>"
      ]
     },
     "metadata": {},
     "output_type": "display_data"
    }
   ],
   "source": [
    "df['viewCount'].plot(kind='hist', bins=50,\n",
    "                     title='Distribution of View Count',\n",
    "                     figsize=(15, 5))"
   ]
  },
  {
   "cell_type": "code",
   "execution_count": 28,
   "id": "cf6724e5",
   "metadata": {
    "execution": {
     "iopub.execute_input": "2022-05-04T13:56:03.505913Z",
     "iopub.status.busy": "2022-05-04T13:56:03.505211Z",
     "iopub.status.idle": "2022-05-04T13:56:03.876911Z",
     "shell.execute_reply": "2022-05-04T13:56:03.876273Z",
     "shell.execute_reply.started": "2021-12-26T17:25:12.719119Z"
    },
    "papermill": {
     "duration": 0.414773,
     "end_time": "2022-05-04T13:56:03.877060",
     "exception": false,
     "start_time": "2022-05-04T13:56:03.462287",
     "status": "completed"
    },
    "tags": []
   },
   "outputs": [
    {
     "data": {
      "text/plain": [
       "<AxesSubplot:title={'center':'View vs Like Count'}, xlabel='viewCount', ylabel='likeCount'>"
      ]
     },
     "execution_count": 28,
     "metadata": {},
     "output_type": "execute_result"
    },
    {
     "data": {
      "image/png": "[encoded data removed]",
      "text/plain": [
       "<Figure size 432x288 with 1 Axes>"
      ]
     },
     "metadata": {},
     "output_type": "display_data"
    }
   ],
   "source": [
    "df.plot(kind='scatter', x='viewCount', y='likeCount', title='View vs Like Count')"
   ]
  },
  {
   "cell_type": "code",
   "execution_count": 29,
   "id": "e69a9c8d",
   "metadata": {
    "execution": {
     "iopub.execute_input": "2022-05-04T13:56:03.959410Z",
     "iopub.status.busy": "2022-05-04T13:56:03.958681Z",
     "iopub.status.idle": "2022-05-04T13:56:03.976489Z",
     "shell.execute_reply": "2022-05-04T13:56:03.977037Z",
     "shell.execute_reply.started": "2021-12-26T17:27:06.295011Z"
    },
    "papermill": {
     "duration": 0.060284,
     "end_time": "2022-05-04T13:56:03.977213",
     "exception": false,
     "start_time": "2022-05-04T13:56:03.916929",
     "status": "completed"
    },
    "tags": []
   },
   "outputs": [
    {
     "data": {
      "text/html": [
       "<div>\n",
       "<style scoped>\n",
       "    .dataframe tbody tr th:only-of-type {\n",
       "        vertical-align: middle;\n",
       "    }\n",
       "\n",
       "    .dataframe tbody tr th {\n",
       "        vertical-align: top;\n",
       "    }\n",
       "\n",
       "    .dataframe thead th {\n",
       "        text-align: right;\n",
       "    }\n",
       "</style>\n",
       "<table border=\"1\" class=\"dataframe\">\n",
       "  <thead>\n",
       "    <tr style=\"text-align: right;\">\n",
       "      <th></th>\n",
       "      <th>title</th>\n",
       "      <th>description</th>\n",
       "      <th>publishTime</th>\n",
       "      <th>duration_seconds</th>\n",
       "      <th>viewCount</th>\n",
       "      <th>likeCount</th>\n",
       "      <th>commentCount</th>\n",
       "      <th>like_to_view_ratio</th>\n",
       "    </tr>\n",
       "    <tr>\n",
       "      <th>id</th>\n",
       "      <th></th>\n",
       "      <th></th>\n",
       "      <th></th>\n",
       "      <th></th>\n",
       "      <th></th>\n",
       "      <th></th>\n",
       "      <th></th>\n",
       "      <th></th>\n",
       "    </tr>\n",
       "  </thead>\n",
       "  <tbody>\n",
       "    <tr>\n",
       "      <th>0e3GPea1Tyg</th>\n",
       "      <td>$456,000 Squid Game In Real Life!</td>\n",
       "      <td>MAKE SURE YOU WATCH UNTIL GLASS BRIDGE IT'S IN...</td>\n",
       "      <td>2021-11-24 21:00:01+00:00</td>\n",
       "      <td>1542</td>\n",
       "      <td>178763228</td>\n",
       "      <td>12250732</td>\n",
       "      <td>571946.0</td>\n",
       "      <td>0.068530</td>\n",
       "    </tr>\n",
       "    <tr>\n",
       "      <th>0e3GPea1Tyg</th>\n",
       "      <td>$456,000 Squid Game In Real Life!</td>\n",
       "      <td>MAKE SURE YOU WATCH UNTIL GLASS BRIDGE IT'S IN...</td>\n",
       "      <td>2021-11-24 21:00:01+00:00</td>\n",
       "      <td>1542</td>\n",
       "      <td>178763228</td>\n",
       "      <td>12250732</td>\n",
       "      <td>571946.0</td>\n",
       "      <td>0.068530</td>\n",
       "    </tr>\n",
       "    <tr>\n",
       "      <th>dBxOYE2j55U</th>\n",
       "      <td>Make This Video The Most Liked Video On Youtube</td>\n",
       "      <td>WHAT IS UP LOGANG, MAKE SURE YOU LIKE THE VIDE...</td>\n",
       "      <td>2019-01-16 22:05:01+00:00</td>\n",
       "      <td>791</td>\n",
       "      <td>96523287</td>\n",
       "      <td>19049431</td>\n",
       "      <td>277088.0</td>\n",
       "      <td>0.197356</td>\n",
       "    </tr>\n",
       "  </tbody>\n",
       "</table>\n",
       "</div>"
      ],
      "text/plain": [
       "                                                       title  \\\n",
       "id                                                             \n",
       "0e3GPea1Tyg                $456,000 Squid Game In Real Life!   \n",
       "0e3GPea1Tyg                $456,000 Squid Game In Real Life!   \n",
       "dBxOYE2j55U  Make This Video The Most Liked Video On Youtube   \n",
       "\n",
       "                                                   description  \\\n",
       "id                                                               \n",
       "0e3GPea1Tyg  MAKE SURE YOU WATCH UNTIL GLASS BRIDGE IT'S IN...   \n",
       "0e3GPea1Tyg  MAKE SURE YOU WATCH UNTIL GLASS BRIDGE IT'S IN...   \n",
       "dBxOYE2j55U  WHAT IS UP LOGANG, MAKE SURE YOU LIKE THE VIDE...   \n",
       "\n",
       "                          publishTime  duration_seconds  viewCount  likeCount  \\\n",
       "id                                                                              \n",
       "0e3GPea1Tyg 2021-11-24 21:00:01+00:00              1542  178763228   12250732   \n",
       "0e3GPea1Tyg 2021-11-24 21:00:01+00:00              1542  178763228   12250732   \n",
       "dBxOYE2j55U 2019-01-16 22:05:01+00:00               791   96523287   19049431   \n",
       "\n",
       "             commentCount  like_to_view_ratio  \n",
       "id                                             \n",
       "0e3GPea1Tyg      571946.0            0.068530  \n",
       "0e3GPea1Tyg      571946.0            0.068530  \n",
       "dBxOYE2j55U      277088.0            0.197356  "
      ]
     },
     "execution_count": 29,
     "metadata": {},
     "output_type": "execute_result"
    }
   ],
   "source": [
    "df.query('likeCount > 10000000')"
   ]
  },
  {
   "cell_type": "markdown",
   "id": "bb3f92bf",
   "metadata": {
    "papermill": {
     "duration": 0.039312,
     "end_time": "2022-05-04T13:56:04.057242",
     "exception": false,
     "start_time": "2022-05-04T13:56:04.017930",
     "status": "completed"
    },
    "tags": []
   },
   "source": [
    "## Save our output"
   ]
  },
  {
   "cell_type": "code",
   "execution_count": 30,
   "id": "db77b4b5",
   "metadata": {
    "execution": {
     "iopub.execute_input": "2022-05-04T13:56:04.140708Z",
     "iopub.status.busy": "2022-05-04T13:56:04.140063Z",
     "iopub.status.idle": "2022-05-04T13:56:04.151753Z",
     "shell.execute_reply": "2022-05-04T13:56:04.152370Z",
     "shell.execute_reply.started": "2021-12-26T17:28:09.073539Z"
    },
    "papermill": {
     "duration": 0.054666,
     "end_time": "2022-05-04T13:56:04.152570",
     "exception": false,
     "start_time": "2022-05-04T13:56:04.097904",
     "status": "completed"
    },
    "tags": []
   },
   "outputs": [],
   "source": [
    "df.to_csv('processed_data.csv')"
   ]
  },
  {
   "cell_type": "code",
   "execution_count": null,
   "id": "a853e526",
   "metadata": {
    "papermill": {
     "duration": 0.039102,
     "end_time": "2022-05-04T13:56:04.231233",
     "exception": false,
     "start_time": "2022-05-04T13:56:04.192131",
     "status": "completed"
    },
    "tags": []
   },
   "outputs": [],
   "source": []
  },
  {
   "cell_type": "code",
   "execution_count": null,
   "id": "f91cfd87",
   "metadata": {
    "papermill": {
     "duration": 0.040164,
     "end_time": "2022-05-04T13:56:04.310861",
     "exception": false,
     "start_time": "2022-05-04T13:56:04.270697",
     "status": "completed"
    },
    "tags": []
   },
   "outputs": [],
   "source": []
  },
  {
   "cell_type": "code",
   "execution_count": null,
   "id": "75ab7dea",
   "metadata": {
    "papermill": {
     "duration": 0.039934,
     "end_time": "2022-05-04T13:56:04.391864",
     "exception": false,
     "start_time": "2022-05-04T13:56:04.351930",
     "status": "completed"
    },
    "tags": []
   },
   "outputs": [],
   "source": []
  }
 ],
 "metadata": {
  "kernelspec": {
   "display_name": "Python 3.11.5 64-bit ('3.11.5')",
   "language": "python",
   "name": "python3"
  },
  "language_info": {
   "codemirror_mode": {
    "name": "ipython",
    "version": 3
   },
   "file_extension": ".py",
   "mimetype": "text/x-python",
   "name": "python",
   "nbconvert_exporter": "python",
   "pygments_lexer": "ipython3",
   "version": "3.11.5"
  },
  "papermill": {
   "default_parameters": {},
   "duration": 15.242257,
   "end_time": "2022-05-04T13:56:05.041085",
   "environment_variables": {},
   "exception": null,
   "input_path": "__notebook__.ipynb",
   "output_path": "__notebook__.ipynb",
   "parameters": {},
   "start_time": "2022-05-04T13:55:49.798828",
   "version": "2.3.3"
  },
  "vscode": {
   "interpreter": {
    "hash": "8a020f0468ae81928ad4bc008a26ee09f2e560467c7765c205bb40f6a96b7995"
   }
  }
 },
 "nbformat": 4,
 "nbformat_minor": 5
}

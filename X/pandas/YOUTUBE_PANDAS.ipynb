{
  "cells": [
    {
      "cell_type": "markdown",
      "metadata": {
        "id": "R9-A_uvP-r9D"
      },
      "source": [
        "#PART 1\n",
        "\n",
        "https://www.youtube.com/watch?v=_Eb0utIRdkw"
      ]
    },
    {
      "cell_type": "code",
      "execution_count": null,
      "metadata": {
        "id": "eQHARYH7-kS2"
      },
      "outputs": [],
      "source": [
        "import pandas as pd\n",
        "\n",
        "# Read data with subset of columns\n",
        "df_btc = pd.read_csv(\"/coin_Bitcoin.csv\", encoding = \"latin-1\" )\n",
        "df_eth = pd.read_csv(\"/coin_Ethereum.csv\", encoding = \"latin-1\")\n",
        "usecols = [\"Close\"]\n",
        "# Preview first 5 rows\n",
        "df_eth.head()\n",
        "df_btc.head()\n",
        "\n",
        "# df.dtypes will tell you the columns and the types they are\n",
        "#gives you info about a column\n",
        "df_btc['Open']\n",
        "\n",
        "#gives you info about a specific row:\n",
        "df_btc.loc[4]\n",
        "\n",
        "#you can have the index be anything in a pandas dataframe\n",
        "#by using a setmethod: (i.e. it doesn't have to be numbers necessarily)\n",
        "#therefore you choose your index.\n",
        "df_btc = df_btc.set_index(\"SNo\")\n",
        "\n",
        "#this time we search for the index\n",
        "df_btc.loc[1]\n",
        "\n",
        "#subsetting colums:\n",
        "df_btc.columns\n",
        "\n",
        "#what do we do if we only want to keep a subset of these?\n",
        "df_btc = df_btc[['Date','Open', 'Close','Marketcap']]\n",
        "\n",
        "#now we only have a dataset with stuff we want to keep\n",
        "df_btc\n",
        "\n",
        "#df_btc.shape tells you how many columns and rows there are.\n",
        "\n",
        "#let's subset rows.\n",
        "#e.g. let's only look at rows where \"date\"\n",
        "\n",
        "#this would work if you wanted only values higher than a certain number\n",
        "'''df_btc.loc[df_btc['Date']] > 1000000'''\n",
        "\n",
        " #we can also do it like this:\n",
        "#it will only give us columns for open where the opening price was greater than\n",
        "df_subset1 = df_btc.query(\"Open > 30000\")\n",
        "df_subset1\n",
        "\n",
        "#what values might be missing in the dataframe? e..g NaN values\n",
        "#we want to drop those columns\n",
        "#if they're all false, then we have no new vals.\n",
        "'''df_btc['Open'].isna()'''\n",
        "\n",
        "#this would only keep the null values\n",
        "'''df_btc.loc[df_btc['Open'].isna()]'''\n",
        "\n",
        "#Casting Dtypes\n",
        "#df_btc.dtypes\n",
        "#tells you what types of objects we're dealing with.\n",
        "\n",
        "#the point of casting is turning one of your existing columns in a different type of objectds\n",
        "#_btc['Open'] = df_btc['Open'].astype['float']\n"
      ]
    },
    {
      "cell_type": "markdown",
      "metadata": {
        "id": "oPdlU4k8-xA4"
      },
      "source": [
        "#PART 2\n"
      ]
    },
    {
      "cell_type": "code",
      "execution_count": null,
      "metadata": {
        "id": "_yWSjZLI-4ni"
      },
      "outputs": [],
      "source": [
        "import pandas as pd\n",
        "df_btc = pd.read_csv(\"/coin_Bitcoin.csv\", encoding = \"latin-1\" )\n",
        "df_eth = pd.read_csv(\"/coin_Ethereum.csv\", encoding = \"latin-1\")\n",
        "usecols = [\"Close\"]\n",
        "df_eth.head()\n",
        "df_btc.head()\n",
        "df_btc['Open']\n",
        "df_btc.loc[4]\n",
        "df_btc = df_btc.set_index(\"SNo\")\n",
        "df_btc.loc[1]\n",
        "df_btc.columns\n",
        "df_btc = df_btc[['Date','Open', 'Close','Marketcap']]\n",
        "df_eth = df_eth[['Date','Open', 'Close','Marketcap']]\n",
        "\n",
        "\n",
        "#IMPORTANT\n",
        "#cerating a new column\n",
        "\n",
        "#you can do normal maths operations between columns by\n",
        "#taking one column name and dividing it by the other.\n",
        "df_btc['Open']/ df_btc['Close']\n",
        "\n",
        "#we can then create a new column with this newly created column\n",
        "\n",
        "df_btc['Open/Close Ratio'] = df_btc['Open']/ df_btc['Close']\n",
        "\n",
        "df_eth\n",
        "\n",
        "#adding a new row:\n",
        "#we can concatenate 2 rows\n",
        "#stacking a data frame on top of each other\n",
        "#tail method gives us the very last row\n",
        "\n",
        "df_to_append = df_eth.tail(1)\n",
        "\n",
        "#concatenates the df_to_append to df_btc\n",
        "df_concat = pd.concat([df_btc, df_to_append])\n",
        "\n",
        "\n",
        "df_btc\n",
        "\n",
        "#plot examples:\n",
        "#gives you a histogram; with the no. of bins\n",
        "df_btc['Open'].plot(kind='hist',bins=100,\n",
        "                    title= \"distribution of Open prices\",\n",
        "                    figsize = (15,5))\n",
        "\n",
        "df_btc.plot(kind='scatter', x = 'Open', y='Close',title='Open Vs. Close')\n",
        "\n",
        "df_btc.query('Open > 50000')\n",
        "df_btc.query('Close > 50000')\n",
        "\n",
        "#save our output as a CSV:\n",
        "df_btc.to_csv('Processed_data.csv')\n",
        "\n",
        "#check the output directory to find the file."
      ]
    },
    {
      "cell_type": "markdown",
      "metadata": {
        "id": "XlYi0NRM-6ep"
      },
      "source": [
        "#CLEAN VERSION - NO COMMENTS"
      ]
    },
    {
      "cell_type": "code",
      "execution_count": null,
      "metadata": {
        "id": "dnXFAvDT-9FK"
      },
      "outputs": [],
      "source": [
        "import pandas as pd\n",
        "df_btc = pd.read_csv(\"/coin_Bitcoin.csv\", encoding = \"latin-1\" )\n",
        "df_eth = pd.read_csv(\"/coin_Ethereum.csv\", encoding = \"latin-1\")\n",
        "usecols = [\"Close\"]\n",
        "\n",
        "df_btc = df_btc.set_index(\"SNo\")\n",
        "df_btc.loc[1]\n",
        "df_btc.columns\n",
        "df_btc = df_btc[['Date','Open', 'Close','Marketcap']]\n",
        "df_eth = df_eth[['Date','Open', 'Close','Marketcap']]\n",
        "\n",
        "df_btc['ETH Open'] = df_eth['Open']\n",
        "df_btc['ETH Close'] = df_eth['Close']\n",
        "\n",
        "df_btc\n",
        "\n",
        "df_btc['Open'].plot(kind='hist',bins=100,\n",
        "                    title= \"distribution of Open prices\",\n",
        "                    figsize = (15,5))\n",
        "\n",
        "df_btc.plot(kind='scatter', x = 'Open', y='Close',title='Open Vs. Close')\n",
        "\n",
        "df_btc.query('Open > 50000')\n",
        "df_btc.query('Close > 50000')\n",
        "df_btc.to_csv('Processed_data.csv')\n"
      ]
    }
  ],
  "metadata": {
    "colab": {
      "provenance": []
    },
    "kernelspec": {
      "display_name": "Python 3.11.5 64-bit ('3.11.5')",
      "language": "python",
      "name": "python3"
    },
    "language_info": {
      "name": "python",
      "version": "3.11.5"
    },
    "vscode": {
      "interpreter": {
        "hash": "8a020f0468ae81928ad4bc008a26ee09f2e560467c7765c205bb40f6a96b7995"
      }
    }
  },
  "nbformat": 4,
  "nbformat_minor": 0
}

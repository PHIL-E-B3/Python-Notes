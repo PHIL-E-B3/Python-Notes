{
  "cells": [
    {
      "cell_type": "markdown",
      "metadata": {
        "id": "3XMvDscD9GjD"
      },
      "source": [
        "#Youtube video\n",
        "\n",
        "https://www.youtube.com/watch?v=5j8dfeaJCIs&list=PLRZZr7RFUUmXfON6dvwtkaaqf9oV_C1LF&index=3\n",
        "\n",
        "This is a guide to a linear regression with pandas any python"
      ]
    },
    {
      "cell_type": "code",
      "execution_count": null,
      "metadata": {
        "id": "s76FN0IY9JkP"
      },
      "outputs": [],
      "source": [
        "import pandas as pd\n",
        "from sklearn.linear_model import LineraRegression\n",
        "\n",
        "#price is the y variable (dependent)\n",
        "#year is a x variable (independent)\n",
        "#to do this, we need sklearn, and this particular module\n",
        "\n",
        "data = pd.read_csv(\"data.csv\")\n",
        "model = LinearRegression()\n",
        "\n",
        "#if we get an error e.g. expected 2D array, got 1D array instead\n",
        "#it means the model expected a shape but we gave it another shape\n",
        "\n",
        "model.fit(x=data[\"Year\"].values.reshape(-1,1), y=data[\"Price\"].values.reshape(-1,1))\n",
        "\n",
        "#should work, now we want to predict what the data will tell us in the future\n",
        "\n",
        "model.predict([[2022]])\n",
        "\n",
        "#let's try visualise\n",
        "\n"
      ]
    },
    {
      "cell_type": "code",
      "execution_count": null,
      "metadata": {
        "id": "In--eoZg_fKw"
      },
      "outputs": [],
      "source": [
        "import matplotlib.pyplot as plt\n",
        "#plot out the points\n",
        "plt.scatter(y=[\"Price\"], x=[\"Year\"])\n",
        "\n",
        "#now we wanna predict (it'll give us the line of best fit)\n",
        "\n",
        "plt.scatter(y=model.predict(data[\"Year\"].values.reshape(-1,1), x=(data[\"Year\"])\n",
        "\n"
      ]
    },
    {
      "cell_type": "code",
      "execution_count": null,
      "metadata": {
        "id": "WXqcTDFfAmU1"
      },
      "outputs": [],
      "source": [
        "#we've been doing everything with 2 variables until now, price and year lol.\n",
        "#now let's use rainfall, that is technically on the 3rd column of the CSV\n",
        "\n",
        "#we keep y the same, as we still want to know what the prices are, but the x variable will be different\n",
        "\n",
        "#we no longer need the reshape, as it'll be a 2d array.\n",
        "\n",
        "model.fit(x=data[[\"Year\",\"Rainfall\"]],y=data[\"Price\"])\n"
      ]
    },
    {
      "cell_type": "code",
      "execution_count": null,
      "metadata": {
        "id": "0ubEQWigBQLg"
      },
      "outputs": [],
      "source": [
        "#we predict 2020 with this new model\n",
        "\n",
        "model.predict([[2020,40]])\n",
        "\n",
        "#let's now predict for the entire range\n",
        "plt.scatter(y=model.predict(data[[\"Year\",\"Rainfall\"]].values.), x=(data[\"Year\"])\n",
        "#let's add a label\n",
        "plt.ylabel(\"Price of Oranges\")"
      ]
    }
  ],
  "metadata": {
    "colab": {
      "provenance": []
    },
    "kernelspec": {
      "display_name": "Python 3.11.5 64-bit ('3.11.5')",
      "language": "python",
      "name": "python3"
    },
    "language_info": {
      "name": "python",
      "version": "3.11.5"
    },
    "vscode": {
      "interpreter": {
        "hash": "8a020f0468ae81928ad4bc008a26ee09f2e560467c7765c205bb40f6a96b7995"
      }
    }
  },
  "nbformat": 4,
  "nbformat_minor": 0
}

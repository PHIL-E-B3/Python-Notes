{
 "cells": [
  {
   "cell_type": "markdown",
   "metadata": {},
   "source": [
    "Think Python 2: Book exercises\n",
    "\n",
    "Solutions:\n",
    "https://github.com/dexhunter/TP_solutions\n"
   ]
  },
  {
   "cell_type": "code",
   "execution_count": 4,
   "metadata": {},
   "outputs": [
    {
     "name": "stdout",
     "output_type": "stream",
     "text": [
      "2.8284271247461903\n"
     ]
    },
    {
     "ename": "AttributeError",
     "evalue": "'Circle' object has no attribute 'radius'",
     "output_type": "error",
     "traceback": [
      "\u001b[0;31m---------------------------------------------------------------------------\u001b[0m",
      "\u001b[0;31mAttributeError\u001b[0m                            Traceback (most recent call last)",
      "Cell \u001b[0;32mIn[4], line 36\u001b[0m\n\u001b[1;32m     33\u001b[0m circle\u001b[38;5;241m.\u001b[39mcenter\u001b[38;5;241m.\u001b[39mx \u001b[38;5;241m=\u001b[39m \u001b[38;5;241m6\u001b[39m\n\u001b[1;32m     34\u001b[0m circle\u001b[38;5;241m.\u001b[39mcenter\u001b[38;5;241m.\u001b[39my \u001b[38;5;241m=\u001b[39m \u001b[38;5;241m7\u001b[39m\n\u001b[0;32m---> 36\u001b[0m x \u001b[38;5;241m=\u001b[39m \u001b[43mpoint_in_circle\u001b[49m\u001b[43m(\u001b[49m\u001b[43mcircle\u001b[49m\u001b[43m,\u001b[49m\u001b[43m \u001b[49m\u001b[43mpoint\u001b[49m\u001b[43m)\u001b[49m\n\u001b[1;32m     37\u001b[0m \u001b[38;5;28mprint\u001b[39m(x)    \n",
      "Cell \u001b[0;32mIn[4], line 25\u001b[0m, in \u001b[0;36mpoint_in_circle\u001b[0;34m(crc, pt)\u001b[0m\n\u001b[1;32m     23\u001b[0m d \u001b[38;5;241m=\u001b[39m distance_between_points(crc\u001b[38;5;241m.\u001b[39mcenter, pt)\n\u001b[1;32m     24\u001b[0m \u001b[38;5;28mprint\u001b[39m(d)\n\u001b[0;32m---> 25\u001b[0m \u001b[38;5;28;01mreturn\u001b[39;00m d \u001b[38;5;241m<\u001b[39m\u001b[38;5;241m=\u001b[39m \u001b[43mcrc\u001b[49m\u001b[38;5;241;43m.\u001b[39;49m\u001b[43mradius\u001b[49m\n",
      "\u001b[0;31mAttributeError\u001b[0m: 'Circle' object has no attribute 'radius'"
     ]
    }
   ],
   "source": [
    "#Chapter 15 questions:\n",
    "\n",
    "import math\n",
    "#15.1\n",
    "class Point:\n",
    "\t'''Represents a point in 2-D space.'''\n",
    " \n",
    "\n",
    "def print_point(p):\n",
    "\t\tprint(  '(%g, %g)' % (p.x, p.y)  )\n",
    "\t\t\n",
    "def distance_between_points(p1, p2):\n",
    "\t\tdistance = math.sqrt( (p1.x - p2.x)**2 + (p1.y - p2.y)**2 )\n",
    "\t\treturn distance\n",
    "\n",
    "class Circle: \n",
    "    ''' This circle class will have 2 attributes\n",
    "    \n",
    "    Attributes: center; radius'''\n",
    "\n",
    "    \n",
    "def point_in_circle(crc, pt):\n",
    "\t\td = distance_between_points(crc.center, pt)\n",
    "\t\tprint(d)\n",
    "\t\treturn d <= crc.radius\n",
    "    \n",
    "point = Point()\n",
    "point.x = 4\n",
    "point.y = 5\n",
    "\n",
    "circle = Circle()\n",
    "circle.center = Point()\n",
    "circle.center.x = 6\n",
    "circle.center.y = 7\n",
    "\n",
    "x = point_in_circle(circle, point)\n",
    "print(x)    \n",
    "    "
   ]
  },
  {
   "cell_type": "code",
   "execution_count": null,
   "metadata": {},
   "outputs": [],
   "source": []
  }
 ],
 "metadata": {
  "kernelspec": {
   "display_name": "Python 3.10.12 64-bit",
   "language": "python",
   "name": "python3"
  },
  "language_info": {
   "codemirror_mode": {
    "name": "ipython",
    "version": 3
   },
   "file_extension": ".py",
   "mimetype": "text/x-python",
   "name": "python",
   "nbconvert_exporter": "python",
   "pygments_lexer": "ipython3",
   "version": "3.10.12"
  },
  "orig_nbformat": 4,
  "vscode": {
   "interpreter": {
    "hash": "bd385fe162c5ca0c84973b7dd5c518456272446b2b64e67c2a69f949ca7a1754"
   }
  }
 },
 "nbformat": 4,
 "nbformat_minor": 2
}
